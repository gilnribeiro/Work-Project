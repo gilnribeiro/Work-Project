{
 "cells": [
  {
   "cell_type": "code",
   "execution_count": 172,
   "metadata": {},
   "outputs": [],
   "source": [
    "import pandas as pd"
   ]
  },
  {
   "cell_type": "code",
   "execution_count": 173,
   "metadata": {},
   "outputs": [
    {
     "data": {
      "text/plain": [
       "WindowsPath('c:/Users/gilnr/OneDrive - NOVASBE/Work Project/Code/Data')"
      ]
     },
     "execution_count": 173,
     "metadata": {},
     "output_type": "execute_result"
    }
   ],
   "source": [
    "from pathlib import Path, PureWindowsPath\n",
    "\n",
    "main_folder = PureWindowsPath(\"c:\\\\Users\\\\gilnr\\\\OneDrive - NOVASBE\\\\Work Project\\\\Code\")\n",
    "MAIN_FOLDER = Path(main_folder)\n",
    "DATA_FOLDER = MAIN_FOLDER / \"Data\"\n",
    "DATA_FOLDER"
   ]
  },
  {
   "cell_type": "code",
   "execution_count": 174,
   "metadata": {},
   "outputs": [],
   "source": [
    "df = pd.read_json(DATA_FOLDER / \"full_data_clean.json\")"
   ]
  },
  {
   "cell_type": "code",
   "execution_count": 175,
   "metadata": {},
   "outputs": [
    {
     "name": "stdout",
     "output_type": "stream",
     "text": [
      "<class 'pandas.core.frame.DataFrame'>\n",
      "RangeIndex: 109593 entries, 0 to 109592\n",
      "Data columns (total 10 columns):\n",
      " #   Column           Non-Null Count   Dtype \n",
      "---  ------           --------------   ----- \n",
      " 0   job_title        109593 non-null  object\n",
      " 1   job_description  109593 non-null  object\n",
      " 2   company          109593 non-null  object\n",
      " 3   job_location     109116 non-null  object\n",
      " 4   job_category     79612 non-null   object\n",
      " 5   salary           10737 non-null   object\n",
      " 6   post_date        109593 non-null  object\n",
      " 7   scrape_date      109593 non-null  object\n",
      " 8   job_href         97676 non-null   object\n",
      " 9   website          109593 non-null  object\n",
      "dtypes: object(10)\n",
      "memory usage: 8.4+ MB\n"
     ]
    }
   ],
   "source": [
    "df.info()"
   ]
  },
  {
   "cell_type": "code",
   "execution_count": 176,
   "metadata": {},
   "outputs": [
    {
     "data": {
      "text/html": [
       "<div>\n",
       "<style scoped>\n",
       "    .dataframe tbody tr th:only-of-type {\n",
       "        vertical-align: middle;\n",
       "    }\n",
       "\n",
       "    .dataframe tbody tr th {\n",
       "        vertical-align: top;\n",
       "    }\n",
       "\n",
       "    .dataframe thead th {\n",
       "        text-align: right;\n",
       "    }\n",
       "</style>\n",
       "<table border=\"1\" class=\"dataframe\">\n",
       "  <thead>\n",
       "    <tr style=\"text-align: right;\">\n",
       "      <th></th>\n",
       "      <th>job_title</th>\n",
       "      <th>job_description</th>\n",
       "      <th>company</th>\n",
       "      <th>job_location</th>\n",
       "      <th>job_category</th>\n",
       "      <th>salary</th>\n",
       "      <th>post_date</th>\n",
       "      <th>scrape_date</th>\n",
       "      <th>job_href</th>\n",
       "      <th>website</th>\n",
       "    </tr>\n",
       "  </thead>\n",
       "  <tbody>\n",
       "    <tr>\n",
       "      <th>count</th>\n",
       "      <td>109593</td>\n",
       "      <td>109593</td>\n",
       "      <td>109593</td>\n",
       "      <td>109116</td>\n",
       "      <td>79612</td>\n",
       "      <td>10737</td>\n",
       "      <td>109593</td>\n",
       "      <td>109593</td>\n",
       "      <td>97676</td>\n",
       "      <td>109593</td>\n",
       "    </tr>\n",
       "    <tr>\n",
       "      <th>unique</th>\n",
       "      <td>35268</td>\n",
       "      <td>96365</td>\n",
       "      <td>18364</td>\n",
       "      <td>1745</td>\n",
       "      <td>68</td>\n",
       "      <td>266</td>\n",
       "      <td>668</td>\n",
       "      <td>11</td>\n",
       "      <td>94200</td>\n",
       "      <td>9</td>\n",
       "    </tr>\n",
       "    <tr>\n",
       "      <th>top</th>\n",
       "      <td>comercial</td>\n",
       "      <td>A Multipessoal é uma empresa de referência no ...</td>\n",
       "      <td></td>\n",
       "      <td>Lisboa</td>\n",
       "      <td></td>\n",
       "      <td></td>\n",
       "      <td>2021-11-17T00:00:00Z</td>\n",
       "      <td>2021-10-26T00:00:00Z</td>\n",
       "      <td>http://jobviewtrack.com/pt-pt/job-131e41684014...</td>\n",
       "      <td>Net-empregos</td>\n",
       "    </tr>\n",
       "    <tr>\n",
       "      <th>freq</th>\n",
       "      <td>894</td>\n",
       "      <td>212</td>\n",
       "      <td>6920</td>\n",
       "      <td>44599</td>\n",
       "      <td>18958</td>\n",
       "      <td>8767</td>\n",
       "      <td>11334</td>\n",
       "      <td>24566</td>\n",
       "      <td>4</td>\n",
       "      <td>58666</td>\n",
       "    </tr>\n",
       "  </tbody>\n",
       "</table>\n",
       "</div>"
      ],
      "text/plain": [
       "        job_title                                    job_description company  \\\n",
       "count      109593                                             109593  109593   \n",
       "unique      35268                                              96365   18364   \n",
       "top     comercial  A Multipessoal é uma empresa de referência no ...           \n",
       "freq          894                                                212    6920   \n",
       "\n",
       "       job_location job_category salary             post_date  \\\n",
       "count        109116        79612  10737                109593   \n",
       "unique         1745           68    266                   668   \n",
       "top          Lisboa                      2021-11-17T00:00:00Z   \n",
       "freq          44599        18958   8767                 11334   \n",
       "\n",
       "                 scrape_date  \\\n",
       "count                 109593   \n",
       "unique                    11   \n",
       "top     2021-10-26T00:00:00Z   \n",
       "freq                   24566   \n",
       "\n",
       "                                                 job_href       website  \n",
       "count                                               97676        109593  \n",
       "unique                                              94200             9  \n",
       "top     http://jobviewtrack.com/pt-pt/job-131e41684014...  Net-empregos  \n",
       "freq                                                    4         58666  "
      ]
     },
     "execution_count": 176,
     "metadata": {},
     "output_type": "execute_result"
    }
   ],
   "source": [
    "df.describe(include='all')"
   ]
  },
  {
   "cell_type": "code",
   "execution_count": 177,
   "metadata": {},
   "outputs": [],
   "source": [
    "def totalJobsByYearMonth(dataframe):\n",
    "    dataframe['post_year'] = pd.to_datetime(dataframe['post_date']).dt.year\n",
    "    dataframe['post_month'] = pd.to_datetime(dataframe['post_date']).dt.month\n",
    "    return pd.DataFrame(dataframe.groupby(['post_year', 'post_month'])['job_title'].count()).sort_values(by=['post_year', 'post_month'], ascending=False)"
   ]
  },
  {
   "cell_type": "code",
   "execution_count": 178,
   "metadata": {},
   "outputs": [
    {
     "data": {
      "text/html": [
       "<div>\n",
       "<style scoped>\n",
       "    .dataframe tbody tr th:only-of-type {\n",
       "        vertical-align: middle;\n",
       "    }\n",
       "\n",
       "    .dataframe tbody tr th {\n",
       "        vertical-align: top;\n",
       "    }\n",
       "\n",
       "    .dataframe thead th {\n",
       "        text-align: right;\n",
       "    }\n",
       "</style>\n",
       "<table border=\"1\" class=\"dataframe\">\n",
       "  <thead>\n",
       "    <tr style=\"text-align: right;\">\n",
       "      <th></th>\n",
       "      <th></th>\n",
       "      <th>job_title</th>\n",
       "    </tr>\n",
       "    <tr>\n",
       "      <th>post_year</th>\n",
       "      <th>post_month</th>\n",
       "      <th></th>\n",
       "    </tr>\n",
       "  </thead>\n",
       "  <tbody>\n",
       "    <tr>\n",
       "      <th rowspan=\"11\" valign=\"top\">2021</th>\n",
       "      <th>11</th>\n",
       "      <td>46514</td>\n",
       "    </tr>\n",
       "    <tr>\n",
       "      <th>10</th>\n",
       "      <td>32403</td>\n",
       "    </tr>\n",
       "    <tr>\n",
       "      <th>9</th>\n",
       "      <td>4022</td>\n",
       "    </tr>\n",
       "    <tr>\n",
       "      <th>8</th>\n",
       "      <td>2073</td>\n",
       "    </tr>\n",
       "    <tr>\n",
       "      <th>7</th>\n",
       "      <td>2251</td>\n",
       "    </tr>\n",
       "    <tr>\n",
       "      <th>6</th>\n",
       "      <td>2789</td>\n",
       "    </tr>\n",
       "    <tr>\n",
       "      <th>5</th>\n",
       "      <td>2957</td>\n",
       "    </tr>\n",
       "    <tr>\n",
       "      <th>4</th>\n",
       "      <td>2431</td>\n",
       "    </tr>\n",
       "    <tr>\n",
       "      <th>3</th>\n",
       "      <td>2367</td>\n",
       "    </tr>\n",
       "    <tr>\n",
       "      <th>2</th>\n",
       "      <td>1739</td>\n",
       "    </tr>\n",
       "    <tr>\n",
       "      <th>1</th>\n",
       "      <td>2105</td>\n",
       "    </tr>\n",
       "    <tr>\n",
       "      <th rowspan=\"12\" valign=\"top\">2020</th>\n",
       "      <th>12</th>\n",
       "      <td>2263</td>\n",
       "    </tr>\n",
       "    <tr>\n",
       "      <th>11</th>\n",
       "      <td>3485</td>\n",
       "    </tr>\n",
       "    <tr>\n",
       "      <th>10</th>\n",
       "      <td>365</td>\n",
       "    </tr>\n",
       "    <tr>\n",
       "      <th>9</th>\n",
       "      <td>173</td>\n",
       "    </tr>\n",
       "    <tr>\n",
       "      <th>8</th>\n",
       "      <td>192</td>\n",
       "    </tr>\n",
       "    <tr>\n",
       "      <th>7</th>\n",
       "      <td>190</td>\n",
       "    </tr>\n",
       "    <tr>\n",
       "      <th>6</th>\n",
       "      <td>158</td>\n",
       "    </tr>\n",
       "    <tr>\n",
       "      <th>5</th>\n",
       "      <td>156</td>\n",
       "    </tr>\n",
       "    <tr>\n",
       "      <th>4</th>\n",
       "      <td>115</td>\n",
       "    </tr>\n",
       "    <tr>\n",
       "      <th>3</th>\n",
       "      <td>210</td>\n",
       "    </tr>\n",
       "    <tr>\n",
       "      <th>2</th>\n",
       "      <td>287</td>\n",
       "    </tr>\n",
       "    <tr>\n",
       "      <th>1</th>\n",
       "      <td>347</td>\n",
       "    </tr>\n",
       "    <tr>\n",
       "      <th>2018</th>\n",
       "      <th>11</th>\n",
       "      <td>1</td>\n",
       "    </tr>\n",
       "  </tbody>\n",
       "</table>\n",
       "</div>"
      ],
      "text/plain": [
       "                      job_title\n",
       "post_year post_month           \n",
       "2021      11              46514\n",
       "          10              32403\n",
       "          9                4022\n",
       "          8                2073\n",
       "          7                2251\n",
       "          6                2789\n",
       "          5                2957\n",
       "          4                2431\n",
       "          3                2367\n",
       "          2                1739\n",
       "          1                2105\n",
       "2020      12               2263\n",
       "          11               3485\n",
       "          10                365\n",
       "          9                 173\n",
       "          8                 192\n",
       "          7                 190\n",
       "          6                 158\n",
       "          5                 156\n",
       "          4                 115\n",
       "          3                 210\n",
       "          2                 287\n",
       "          1                 347\n",
       "2018      11                  1"
      ]
     },
     "execution_count": 178,
     "metadata": {},
     "output_type": "execute_result"
    }
   ],
   "source": [
    "totalJobsByYearMonth(df)"
   ]
  },
  {
   "cell_type": "code",
   "execution_count": 179,
   "metadata": {},
   "outputs": [
    {
     "name": "stdout",
     "output_type": "stream",
     "text": [
      "['Landing Jobs' 'Carga de Trabalhos' 'Emprego XL' 'Bons empregos'\n",
      " 'Career Jet' 'Net-empregos' 'ITjobs' 'Jooble']\n",
      "['Carga de Trabalhos' 'Bons empregos' 'Landing Jobs' 'Emprego XL' 'ITjobs'\n",
      " 'Career Jet' 'Net-empregos' 'Jooble' 'Emprego.org']\n"
     ]
    }
   ],
   "source": [
    "print(df.query(\"post_month==11\").website.unique())\n",
    "print(df.query(\"post_month==10\").website.unique())"
   ]
  },
  {
   "cell_type": "code",
   "execution_count": 180,
   "metadata": {},
   "outputs": [
    {
     "data": {
      "text/html": [
       "<div>\n",
       "<style scoped>\n",
       "    .dataframe tbody tr th:only-of-type {\n",
       "        vertical-align: middle;\n",
       "    }\n",
       "\n",
       "    .dataframe tbody tr th {\n",
       "        vertical-align: top;\n",
       "    }\n",
       "\n",
       "    .dataframe thead th {\n",
       "        text-align: right;\n",
       "    }\n",
       "</style>\n",
       "<table border=\"1\" class=\"dataframe\">\n",
       "  <thead>\n",
       "    <tr style=\"text-align: right;\">\n",
       "      <th></th>\n",
       "      <th></th>\n",
       "      <th>website</th>\n",
       "    </tr>\n",
       "    <tr>\n",
       "      <th>post_year</th>\n",
       "      <th>post_month</th>\n",
       "      <th></th>\n",
       "    </tr>\n",
       "  </thead>\n",
       "  <tbody>\n",
       "    <tr>\n",
       "      <th rowspan=\"11\" valign=\"top\">2021</th>\n",
       "      <th>11</th>\n",
       "      <td>7</td>\n",
       "    </tr>\n",
       "    <tr>\n",
       "      <th>10</th>\n",
       "      <td>9</td>\n",
       "    </tr>\n",
       "    <tr>\n",
       "      <th>9</th>\n",
       "      <td>5</td>\n",
       "    </tr>\n",
       "    <tr>\n",
       "      <th>8</th>\n",
       "      <td>4</td>\n",
       "    </tr>\n",
       "    <tr>\n",
       "      <th>7</th>\n",
       "      <td>4</td>\n",
       "    </tr>\n",
       "    <tr>\n",
       "      <th>6</th>\n",
       "      <td>4</td>\n",
       "    </tr>\n",
       "    <tr>\n",
       "      <th>5</th>\n",
       "      <td>4</td>\n",
       "    </tr>\n",
       "    <tr>\n",
       "      <th>4</th>\n",
       "      <td>4</td>\n",
       "    </tr>\n",
       "    <tr>\n",
       "      <th>3</th>\n",
       "      <td>4</td>\n",
       "    </tr>\n",
       "    <tr>\n",
       "      <th>2</th>\n",
       "      <td>4</td>\n",
       "    </tr>\n",
       "    <tr>\n",
       "      <th>1</th>\n",
       "      <td>4</td>\n",
       "    </tr>\n",
       "    <tr>\n",
       "      <th rowspan=\"12\" valign=\"top\">2020</th>\n",
       "      <th>12</th>\n",
       "      <td>4</td>\n",
       "    </tr>\n",
       "    <tr>\n",
       "      <th>11</th>\n",
       "      <td>4</td>\n",
       "    </tr>\n",
       "    <tr>\n",
       "      <th>10</th>\n",
       "      <td>3</td>\n",
       "    </tr>\n",
       "    <tr>\n",
       "      <th>9</th>\n",
       "      <td>2</td>\n",
       "    </tr>\n",
       "    <tr>\n",
       "      <th>8</th>\n",
       "      <td>2</td>\n",
       "    </tr>\n",
       "    <tr>\n",
       "      <th>7</th>\n",
       "      <td>2</td>\n",
       "    </tr>\n",
       "    <tr>\n",
       "      <th>6</th>\n",
       "      <td>2</td>\n",
       "    </tr>\n",
       "    <tr>\n",
       "      <th>5</th>\n",
       "      <td>2</td>\n",
       "    </tr>\n",
       "    <tr>\n",
       "      <th>4</th>\n",
       "      <td>2</td>\n",
       "    </tr>\n",
       "    <tr>\n",
       "      <th>3</th>\n",
       "      <td>2</td>\n",
       "    </tr>\n",
       "    <tr>\n",
       "      <th>2</th>\n",
       "      <td>1</td>\n",
       "    </tr>\n",
       "    <tr>\n",
       "      <th>1</th>\n",
       "      <td>1</td>\n",
       "    </tr>\n",
       "    <tr>\n",
       "      <th>2018</th>\n",
       "      <th>11</th>\n",
       "      <td>1</td>\n",
       "    </tr>\n",
       "  </tbody>\n",
       "</table>\n",
       "</div>"
      ],
      "text/plain": [
       "                      website\n",
       "post_year post_month         \n",
       "2021      11                7\n",
       "          10                9\n",
       "          9                 5\n",
       "          8                 4\n",
       "          7                 4\n",
       "          6                 4\n",
       "          5                 4\n",
       "          4                 4\n",
       "          3                 4\n",
       "          2                 4\n",
       "          1                 4\n",
       "2020      12                4\n",
       "          11                4\n",
       "          10                3\n",
       "          9                 2\n",
       "          8                 2\n",
       "          7                 2\n",
       "          6                 2\n",
       "          5                 2\n",
       "          4                 2\n",
       "          3                 2\n",
       "          2                 1\n",
       "          1                 1\n",
       "2018      11                1"
      ]
     },
     "execution_count": 180,
     "metadata": {},
     "output_type": "execute_result"
    }
   ],
   "source": [
    "# pd.DataFrame(df.groupby(['post_year', 'post_month'])['job_title'].count()).sort_values(by=['post_year', 'post_month'], ascending=False)\n",
    "pd.DataFrame(df.groupby(['post_year','post_month'])['website'].nunique()).sort_values(['post_year','post_month'], ascending=False)"
   ]
  },
  {
   "cell_type": "code",
   "execution_count": 189,
   "metadata": {},
   "outputs": [
    {
     "data": {
      "text/html": [
       "<div>\n",
       "<style scoped>\n",
       "    .dataframe tbody tr th:only-of-type {\n",
       "        vertical-align: middle;\n",
       "    }\n",
       "\n",
       "    .dataframe tbody tr th {\n",
       "        vertical-align: top;\n",
       "    }\n",
       "\n",
       "    .dataframe thead th {\n",
       "        text-align: right;\n",
       "    }\n",
       "</style>\n",
       "<table border=\"1\" class=\"dataframe\">\n",
       "  <thead>\n",
       "    <tr style=\"text-align: right;\">\n",
       "      <th></th>\n",
       "      <th>post_day</th>\n",
       "    </tr>\n",
       "    <tr>\n",
       "      <th>post_month</th>\n",
       "      <th></th>\n",
       "    </tr>\n",
       "  </thead>\n",
       "  <tbody>\n",
       "    <tr>\n",
       "      <th>11</th>\n",
       "      <td>17</td>\n",
       "    </tr>\n",
       "    <tr>\n",
       "      <th>10</th>\n",
       "      <td>31</td>\n",
       "    </tr>\n",
       "    <tr>\n",
       "      <th>9</th>\n",
       "      <td>30</td>\n",
       "    </tr>\n",
       "  </tbody>\n",
       "</table>\n",
       "</div>"
      ],
      "text/plain": [
       "            post_day\n",
       "post_month          \n",
       "11                17\n",
       "10                31\n",
       "9                 30"
      ]
     },
     "execution_count": 189,
     "metadata": {},
     "output_type": "execute_result"
    }
   ],
   "source": [
    "df['post_day'] = pd.to_datetime(df['post_date']).dt.day\n",
    "pd.DataFrame(df.loc[(df['post_year'] == 2021) & (df['post_month'] > 8)] \\\n",
    "    .groupby(['post_month'])['post_day'].nunique()).sort_values('post_month', ascending=False)"
   ]
  },
  {
   "cell_type": "code",
   "execution_count": 190,
   "metadata": {},
   "outputs": [
    {
     "data": {
      "text/html": [
       "<div>\n",
       "<style scoped>\n",
       "    .dataframe tbody tr th:only-of-type {\n",
       "        vertical-align: middle;\n",
       "    }\n",
       "\n",
       "    .dataframe tbody tr th {\n",
       "        vertical-align: top;\n",
       "    }\n",
       "\n",
       "    .dataframe thead th {\n",
       "        text-align: right;\n",
       "    }\n",
       "</style>\n",
       "<table border=\"1\" class=\"dataframe\">\n",
       "  <thead>\n",
       "    <tr style=\"text-align: right;\">\n",
       "      <th></th>\n",
       "      <th></th>\n",
       "      <th>post_day</th>\n",
       "    </tr>\n",
       "    <tr>\n",
       "      <th>post_year</th>\n",
       "      <th>post_month</th>\n",
       "      <th></th>\n",
       "    </tr>\n",
       "  </thead>\n",
       "  <tbody>\n",
       "    <tr>\n",
       "      <th rowspan=\"11\" valign=\"top\">2021</th>\n",
       "      <th>11</th>\n",
       "      <td>17</td>\n",
       "    </tr>\n",
       "    <tr>\n",
       "      <th>10</th>\n",
       "      <td>31</td>\n",
       "    </tr>\n",
       "    <tr>\n",
       "      <th>9</th>\n",
       "      <td>30</td>\n",
       "    </tr>\n",
       "    <tr>\n",
       "      <th>8</th>\n",
       "      <td>31</td>\n",
       "    </tr>\n",
       "    <tr>\n",
       "      <th>7</th>\n",
       "      <td>31</td>\n",
       "    </tr>\n",
       "    <tr>\n",
       "      <th>6</th>\n",
       "      <td>30</td>\n",
       "    </tr>\n",
       "    <tr>\n",
       "      <th>5</th>\n",
       "      <td>31</td>\n",
       "    </tr>\n",
       "    <tr>\n",
       "      <th>4</th>\n",
       "      <td>30</td>\n",
       "    </tr>\n",
       "    <tr>\n",
       "      <th>3</th>\n",
       "      <td>31</td>\n",
       "    </tr>\n",
       "    <tr>\n",
       "      <th>2</th>\n",
       "      <td>28</td>\n",
       "    </tr>\n",
       "    <tr>\n",
       "      <th>1</th>\n",
       "      <td>31</td>\n",
       "    </tr>\n",
       "    <tr>\n",
       "      <th rowspan=\"12\" valign=\"top\">2020</th>\n",
       "      <th>12</th>\n",
       "      <td>31</td>\n",
       "    </tr>\n",
       "    <tr>\n",
       "      <th>11</th>\n",
       "      <td>30</td>\n",
       "    </tr>\n",
       "    <tr>\n",
       "      <th>10</th>\n",
       "      <td>30</td>\n",
       "    </tr>\n",
       "    <tr>\n",
       "      <th>9</th>\n",
       "      <td>27</td>\n",
       "    </tr>\n",
       "    <tr>\n",
       "      <th>8</th>\n",
       "      <td>28</td>\n",
       "    </tr>\n",
       "    <tr>\n",
       "      <th>7</th>\n",
       "      <td>29</td>\n",
       "    </tr>\n",
       "    <tr>\n",
       "      <th>6</th>\n",
       "      <td>30</td>\n",
       "    </tr>\n",
       "    <tr>\n",
       "      <th>5</th>\n",
       "      <td>26</td>\n",
       "    </tr>\n",
       "    <tr>\n",
       "      <th>4</th>\n",
       "      <td>26</td>\n",
       "    </tr>\n",
       "    <tr>\n",
       "      <th>3</th>\n",
       "      <td>29</td>\n",
       "    </tr>\n",
       "    <tr>\n",
       "      <th>2</th>\n",
       "      <td>29</td>\n",
       "    </tr>\n",
       "    <tr>\n",
       "      <th>1</th>\n",
       "      <td>31</td>\n",
       "    </tr>\n",
       "    <tr>\n",
       "      <th>2018</th>\n",
       "      <th>11</th>\n",
       "      <td>1</td>\n",
       "    </tr>\n",
       "  </tbody>\n",
       "</table>\n",
       "</div>"
      ],
      "text/plain": [
       "                      post_day\n",
       "post_year post_month          \n",
       "2021      11                17\n",
       "          10                31\n",
       "          9                 30\n",
       "          8                 31\n",
       "          7                 31\n",
       "          6                 30\n",
       "          5                 31\n",
       "          4                 30\n",
       "          3                 31\n",
       "          2                 28\n",
       "          1                 31\n",
       "2020      12                31\n",
       "          11                30\n",
       "          10                30\n",
       "          9                 27\n",
       "          8                 28\n",
       "          7                 29\n",
       "          6                 30\n",
       "          5                 26\n",
       "          4                 26\n",
       "          3                 29\n",
       "          2                 29\n",
       "          1                 31\n",
       "2018      11                 1"
      ]
     },
     "execution_count": 190,
     "metadata": {},
     "output_type": "execute_result"
    }
   ],
   "source": [
    "pd.DataFrame(df.groupby(['post_year','post_month'])['post_day'].nunique()).sort_values(['post_year','post_month'], ascending=False)"
   ]
  },
  {
   "cell_type": "code",
   "execution_count": 191,
   "metadata": {},
   "outputs": [
    {
     "data": {
      "text/html": [
       "<div>\n",
       "<style scoped>\n",
       "    .dataframe tbody tr th:only-of-type {\n",
       "        vertical-align: middle;\n",
       "    }\n",
       "\n",
       "    .dataframe tbody tr th {\n",
       "        vertical-align: top;\n",
       "    }\n",
       "\n",
       "    .dataframe thead th {\n",
       "        text-align: right;\n",
       "    }\n",
       "</style>\n",
       "<table border=\"1\" class=\"dataframe\">\n",
       "  <thead>\n",
       "    <tr style=\"text-align: right;\">\n",
       "      <th></th>\n",
       "      <th>job_title</th>\n",
       "      <th>company</th>\n",
       "      <th>job_location</th>\n",
       "      <th>salary</th>\n",
       "      <th>post_date</th>\n",
       "      <th>scrape_date</th>\n",
       "      <th>website</th>\n",
       "      <th>post_year</th>\n",
       "      <th>post_month</th>\n",
       "      <th>post_day</th>\n",
       "    </tr>\n",
       "  </thead>\n",
       "  <tbody>\n",
       "    <tr>\n",
       "      <th>0</th>\n",
       "      <td>back-end developer</td>\n",
       "      <td>Sky technology centre – portugal</td>\n",
       "      <td>Lisbon</td>\n",
       "      <td></td>\n",
       "      <td>2018-11-16T00:00:00Z</td>\n",
       "      <td>2021-10-30T00:00:00Z</td>\n",
       "      <td>Landing Jobs</td>\n",
       "      <td>2018</td>\n",
       "      <td>11</td>\n",
       "      <td>16</td>\n",
       "    </tr>\n",
       "    <tr>\n",
       "      <th>1</th>\n",
       "      <td>procuramos designer gráfico</td>\n",
       "      <td>Scm supply chain magazine</td>\n",
       "      <td>Alcochete</td>\n",
       "      <td>None</td>\n",
       "      <td>2020-01-01T00:00:00Z</td>\n",
       "      <td>2021-12-11T00:00:00Z</td>\n",
       "      <td>Carga de Trabalhos</td>\n",
       "      <td>2020</td>\n",
       "      <td>1</td>\n",
       "      <td>1</td>\n",
       "    </tr>\n",
       "    <tr>\n",
       "      <th>2</th>\n",
       "      <td>designer gráfico</td>\n",
       "      <td>Ea produções</td>\n",
       "      <td>Lisboa, Benfica</td>\n",
       "      <td>None</td>\n",
       "      <td>2020-01-01T00:00:00Z</td>\n",
       "      <td>2021-12-11T00:00:00Z</td>\n",
       "      <td>Carga de Trabalhos</td>\n",
       "      <td>2020</td>\n",
       "      <td>1</td>\n",
       "      <td>1</td>\n",
       "    </tr>\n",
       "    <tr>\n",
       "      <th>3</th>\n",
       "      <td>comercial</td>\n",
       "      <td>Raio criativo</td>\n",
       "      <td>Lisboa</td>\n",
       "      <td>None</td>\n",
       "      <td>2020-01-01T00:00:00Z</td>\n",
       "      <td>2021-12-11T00:00:00Z</td>\n",
       "      <td>Carga de Trabalhos</td>\n",
       "      <td>2020</td>\n",
       "      <td>1</td>\n",
       "      <td>1</td>\n",
       "    </tr>\n",
       "    <tr>\n",
       "      <th>4</th>\n",
       "      <td>marketing &amp;amp; communication specialist</td>\n",
       "      <td>New global pet</td>\n",
       "      <td>Lisboa</td>\n",
       "      <td>None</td>\n",
       "      <td>2020-01-02T00:00:00Z</td>\n",
       "      <td>2021-12-11T00:00:00Z</td>\n",
       "      <td>Carga de Trabalhos</td>\n",
       "      <td>2020</td>\n",
       "      <td>1</td>\n",
       "      <td>2</td>\n",
       "    </tr>\n",
       "  </tbody>\n",
       "</table>\n",
       "</div>"
      ],
      "text/plain": [
       "                                  job_title                           company  \\\n",
       "0                        back-end developer  Sky technology centre – portugal   \n",
       "1               procuramos designer gráfico         Scm supply chain magazine   \n",
       "2                          designer gráfico                      Ea produções   \n",
       "3                                 comercial                     Raio criativo   \n",
       "4  marketing &amp; communication specialist                    New global pet   \n",
       "\n",
       "      job_location salary             post_date           scrape_date  \\\n",
       "0           Lisbon         2018-11-16T00:00:00Z  2021-10-30T00:00:00Z   \n",
       "1        Alcochete   None  2020-01-01T00:00:00Z  2021-12-11T00:00:00Z   \n",
       "2  Lisboa, Benfica   None  2020-01-01T00:00:00Z  2021-12-11T00:00:00Z   \n",
       "3           Lisboa   None  2020-01-01T00:00:00Z  2021-12-11T00:00:00Z   \n",
       "4           Lisboa   None  2020-01-02T00:00:00Z  2021-12-11T00:00:00Z   \n",
       "\n",
       "              website  post_year  post_month  post_day  \n",
       "0        Landing Jobs       2018          11        16  \n",
       "1  Carga de Trabalhos       2020           1         1  \n",
       "2  Carga de Trabalhos       2020           1         1  \n",
       "3  Carga de Trabalhos       2020           1         1  \n",
       "4  Carga de Trabalhos       2020           1         2  "
      ]
     },
     "execution_count": 191,
     "metadata": {},
     "output_type": "execute_result"
    }
   ],
   "source": [
    "df_eda = df.drop(columns=['job_href', 'job_category', 'job_description'])\n",
    "df_eda.head()"
   ]
  },
  {
   "cell_type": "code",
   "execution_count": 192,
   "metadata": {},
   "outputs": [
    {
     "data": {
      "text/html": [
       "<div>\n",
       "<style scoped>\n",
       "    .dataframe tbody tr th:only-of-type {\n",
       "        vertical-align: middle;\n",
       "    }\n",
       "\n",
       "    .dataframe tbody tr th {\n",
       "        vertical-align: top;\n",
       "    }\n",
       "\n",
       "    .dataframe thead th {\n",
       "        text-align: right;\n",
       "    }\n",
       "</style>\n",
       "<table border=\"1\" class=\"dataframe\">\n",
       "  <thead>\n",
       "    <tr style=\"text-align: right;\">\n",
       "      <th></th>\n",
       "      <th>job_title</th>\n",
       "    </tr>\n",
       "    <tr>\n",
       "      <th>scrape_date</th>\n",
       "      <th></th>\n",
       "    </tr>\n",
       "  </thead>\n",
       "  <tbody>\n",
       "    <tr>\n",
       "      <th>2021-02-11T00:00:00Z</th>\n",
       "      <td>12078</td>\n",
       "    </tr>\n",
       "    <tr>\n",
       "      <th>2021-05-10T00:00:00Z</th>\n",
       "      <td>1988</td>\n",
       "    </tr>\n",
       "    <tr>\n",
       "      <th>2021-10-22T00:00:00Z</th>\n",
       "      <td>4468</td>\n",
       "    </tr>\n",
       "    <tr>\n",
       "      <th>2021-10-25T00:00:00Z</th>\n",
       "      <td>31</td>\n",
       "    </tr>\n",
       "    <tr>\n",
       "      <th>2021-10-26T00:00:00Z</th>\n",
       "      <td>24566</td>\n",
       "    </tr>\n",
       "    <tr>\n",
       "      <th>2021-10-30T00:00:00Z</th>\n",
       "      <td>16322</td>\n",
       "    </tr>\n",
       "    <tr>\n",
       "      <th>2021-11-02T00:00:00Z</th>\n",
       "      <td>779</td>\n",
       "    </tr>\n",
       "    <tr>\n",
       "      <th>2021-11-12T00:00:00Z</th>\n",
       "      <td>443</td>\n",
       "    </tr>\n",
       "    <tr>\n",
       "      <th>2021-11-17T00:00:00Z</th>\n",
       "      <td>20366</td>\n",
       "    </tr>\n",
       "    <tr>\n",
       "      <th>2021-11-18T00:00:00Z</th>\n",
       "      <td>12807</td>\n",
       "    </tr>\n",
       "    <tr>\n",
       "      <th>2021-12-11T00:00:00Z</th>\n",
       "      <td>15745</td>\n",
       "    </tr>\n",
       "  </tbody>\n",
       "</table>\n",
       "</div>"
      ],
      "text/plain": [
       "                      job_title\n",
       "scrape_date                    \n",
       "2021-02-11T00:00:00Z      12078\n",
       "2021-05-10T00:00:00Z       1988\n",
       "2021-10-22T00:00:00Z       4468\n",
       "2021-10-25T00:00:00Z         31\n",
       "2021-10-26T00:00:00Z      24566\n",
       "2021-10-30T00:00:00Z      16322\n",
       "2021-11-02T00:00:00Z        779\n",
       "2021-11-12T00:00:00Z        443\n",
       "2021-11-17T00:00:00Z      20366\n",
       "2021-11-18T00:00:00Z      12807\n",
       "2021-12-11T00:00:00Z      15745"
      ]
     },
     "execution_count": 192,
     "metadata": {},
     "output_type": "execute_result"
    }
   ],
   "source": [
    "pd.DataFrame(df_eda.groupby('scrape_date')['job_title'].count())"
   ]
  },
  {
   "cell_type": "code",
   "execution_count": 185,
   "metadata": {},
   "outputs": [
    {
     "data": {
      "application/vnd.plotly.v1+json": {
       "config": {
        "plotlyServerURL": "https://plot.ly"
       },
       "data": [
        {
         "hovertemplate": "post_year=2021<br>post_month=%{x}<br>job_title=%{y}<extra></extra>",
         "legendgroup": "2021",
         "line": {
          "color": "#636efa",
          "dash": "solid"
         },
         "marker": {
          "symbol": "circle"
         },
         "mode": "lines",
         "name": "2021",
         "orientation": "v",
         "showlegend": true,
         "type": "scatter",
         "x": [
          11,
          10,
          9,
          8,
          7,
          6,
          5,
          4,
          3,
          2,
          1
         ],
         "xaxis": "x",
         "y": [
          46514,
          32403,
          4022,
          2073,
          2251,
          2789,
          2957,
          2431,
          2367,
          1739,
          2105
         ],
         "yaxis": "y"
        },
        {
         "hovertemplate": "post_year=2020<br>post_month=%{x}<br>job_title=%{y}<extra></extra>",
         "legendgroup": "2020",
         "line": {
          "color": "#EF553B",
          "dash": "solid"
         },
         "marker": {
          "symbol": "circle"
         },
         "mode": "lines",
         "name": "2020",
         "orientation": "v",
         "showlegend": true,
         "type": "scatter",
         "x": [
          12,
          11,
          10,
          9,
          8,
          7,
          6,
          5,
          4,
          3,
          2,
          1
         ],
         "xaxis": "x",
         "y": [
          2263,
          3485,
          365,
          173,
          192,
          190,
          158,
          156,
          115,
          210,
          287,
          347
         ],
         "yaxis": "y"
        },
        {
         "hovertemplate": "post_year=2018<br>post_month=%{x}<br>job_title=%{y}<extra></extra>",
         "legendgroup": "2018",
         "line": {
          "color": "#00cc96",
          "dash": "solid"
         },
         "marker": {
          "symbol": "circle"
         },
         "mode": "lines",
         "name": "2018",
         "orientation": "v",
         "showlegend": true,
         "type": "scatter",
         "x": [
          11
         ],
         "xaxis": "x",
         "y": [
          1
         ],
         "yaxis": "y"
        }
       ],
       "layout": {
        "legend": {
         "title": {
          "text": "post_year"
         },
         "tracegroupgap": 0
        },
        "template": {
         "data": {
          "bar": [
           {
            "error_x": {
             "color": "#2a3f5f"
            },
            "error_y": {
             "color": "#2a3f5f"
            },
            "marker": {
             "line": {
              "color": "#E5ECF6",
              "width": 0.5
             },
             "pattern": {
              "fillmode": "overlay",
              "size": 10,
              "solidity": 0.2
             }
            },
            "type": "bar"
           }
          ],
          "barpolar": [
           {
            "marker": {
             "line": {
              "color": "#E5ECF6",
              "width": 0.5
             },
             "pattern": {
              "fillmode": "overlay",
              "size": 10,
              "solidity": 0.2
             }
            },
            "type": "barpolar"
           }
          ],
          "carpet": [
           {
            "aaxis": {
             "endlinecolor": "#2a3f5f",
             "gridcolor": "white",
             "linecolor": "white",
             "minorgridcolor": "white",
             "startlinecolor": "#2a3f5f"
            },
            "baxis": {
             "endlinecolor": "#2a3f5f",
             "gridcolor": "white",
             "linecolor": "white",
             "minorgridcolor": "white",
             "startlinecolor": "#2a3f5f"
            },
            "type": "carpet"
           }
          ],
          "choropleth": [
           {
            "colorbar": {
             "outlinewidth": 0,
             "ticks": ""
            },
            "type": "choropleth"
           }
          ],
          "contour": [
           {
            "colorbar": {
             "outlinewidth": 0,
             "ticks": ""
            },
            "colorscale": [
             [
              0,
              "#0d0887"
             ],
             [
              0.1111111111111111,
              "#46039f"
             ],
             [
              0.2222222222222222,
              "#7201a8"
             ],
             [
              0.3333333333333333,
              "#9c179e"
             ],
             [
              0.4444444444444444,
              "#bd3786"
             ],
             [
              0.5555555555555556,
              "#d8576b"
             ],
             [
              0.6666666666666666,
              "#ed7953"
             ],
             [
              0.7777777777777778,
              "#fb9f3a"
             ],
             [
              0.8888888888888888,
              "#fdca26"
             ],
             [
              1,
              "#f0f921"
             ]
            ],
            "type": "contour"
           }
          ],
          "contourcarpet": [
           {
            "colorbar": {
             "outlinewidth": 0,
             "ticks": ""
            },
            "type": "contourcarpet"
           }
          ],
          "heatmap": [
           {
            "colorbar": {
             "outlinewidth": 0,
             "ticks": ""
            },
            "colorscale": [
             [
              0,
              "#0d0887"
             ],
             [
              0.1111111111111111,
              "#46039f"
             ],
             [
              0.2222222222222222,
              "#7201a8"
             ],
             [
              0.3333333333333333,
              "#9c179e"
             ],
             [
              0.4444444444444444,
              "#bd3786"
             ],
             [
              0.5555555555555556,
              "#d8576b"
             ],
             [
              0.6666666666666666,
              "#ed7953"
             ],
             [
              0.7777777777777778,
              "#fb9f3a"
             ],
             [
              0.8888888888888888,
              "#fdca26"
             ],
             [
              1,
              "#f0f921"
             ]
            ],
            "type": "heatmap"
           }
          ],
          "heatmapgl": [
           {
            "colorbar": {
             "outlinewidth": 0,
             "ticks": ""
            },
            "colorscale": [
             [
              0,
              "#0d0887"
             ],
             [
              0.1111111111111111,
              "#46039f"
             ],
             [
              0.2222222222222222,
              "#7201a8"
             ],
             [
              0.3333333333333333,
              "#9c179e"
             ],
             [
              0.4444444444444444,
              "#bd3786"
             ],
             [
              0.5555555555555556,
              "#d8576b"
             ],
             [
              0.6666666666666666,
              "#ed7953"
             ],
             [
              0.7777777777777778,
              "#fb9f3a"
             ],
             [
              0.8888888888888888,
              "#fdca26"
             ],
             [
              1,
              "#f0f921"
             ]
            ],
            "type": "heatmapgl"
           }
          ],
          "histogram": [
           {
            "marker": {
             "pattern": {
              "fillmode": "overlay",
              "size": 10,
              "solidity": 0.2
             }
            },
            "type": "histogram"
           }
          ],
          "histogram2d": [
           {
            "colorbar": {
             "outlinewidth": 0,
             "ticks": ""
            },
            "colorscale": [
             [
              0,
              "#0d0887"
             ],
             [
              0.1111111111111111,
              "#46039f"
             ],
             [
              0.2222222222222222,
              "#7201a8"
             ],
             [
              0.3333333333333333,
              "#9c179e"
             ],
             [
              0.4444444444444444,
              "#bd3786"
             ],
             [
              0.5555555555555556,
              "#d8576b"
             ],
             [
              0.6666666666666666,
              "#ed7953"
             ],
             [
              0.7777777777777778,
              "#fb9f3a"
             ],
             [
              0.8888888888888888,
              "#fdca26"
             ],
             [
              1,
              "#f0f921"
             ]
            ],
            "type": "histogram2d"
           }
          ],
          "histogram2dcontour": [
           {
            "colorbar": {
             "outlinewidth": 0,
             "ticks": ""
            },
            "colorscale": [
             [
              0,
              "#0d0887"
             ],
             [
              0.1111111111111111,
              "#46039f"
             ],
             [
              0.2222222222222222,
              "#7201a8"
             ],
             [
              0.3333333333333333,
              "#9c179e"
             ],
             [
              0.4444444444444444,
              "#bd3786"
             ],
             [
              0.5555555555555556,
              "#d8576b"
             ],
             [
              0.6666666666666666,
              "#ed7953"
             ],
             [
              0.7777777777777778,
              "#fb9f3a"
             ],
             [
              0.8888888888888888,
              "#fdca26"
             ],
             [
              1,
              "#f0f921"
             ]
            ],
            "type": "histogram2dcontour"
           }
          ],
          "mesh3d": [
           {
            "colorbar": {
             "outlinewidth": 0,
             "ticks": ""
            },
            "type": "mesh3d"
           }
          ],
          "parcoords": [
           {
            "line": {
             "colorbar": {
              "outlinewidth": 0,
              "ticks": ""
             }
            },
            "type": "parcoords"
           }
          ],
          "pie": [
           {
            "automargin": true,
            "type": "pie"
           }
          ],
          "scatter": [
           {
            "marker": {
             "colorbar": {
              "outlinewidth": 0,
              "ticks": ""
             }
            },
            "type": "scatter"
           }
          ],
          "scatter3d": [
           {
            "line": {
             "colorbar": {
              "outlinewidth": 0,
              "ticks": ""
             }
            },
            "marker": {
             "colorbar": {
              "outlinewidth": 0,
              "ticks": ""
             }
            },
            "type": "scatter3d"
           }
          ],
          "scattercarpet": [
           {
            "marker": {
             "colorbar": {
              "outlinewidth": 0,
              "ticks": ""
             }
            },
            "type": "scattercarpet"
           }
          ],
          "scattergeo": [
           {
            "marker": {
             "colorbar": {
              "outlinewidth": 0,
              "ticks": ""
             }
            },
            "type": "scattergeo"
           }
          ],
          "scattergl": [
           {
            "marker": {
             "colorbar": {
              "outlinewidth": 0,
              "ticks": ""
             }
            },
            "type": "scattergl"
           }
          ],
          "scattermapbox": [
           {
            "marker": {
             "colorbar": {
              "outlinewidth": 0,
              "ticks": ""
             }
            },
            "type": "scattermapbox"
           }
          ],
          "scatterpolar": [
           {
            "marker": {
             "colorbar": {
              "outlinewidth": 0,
              "ticks": ""
             }
            },
            "type": "scatterpolar"
           }
          ],
          "scatterpolargl": [
           {
            "marker": {
             "colorbar": {
              "outlinewidth": 0,
              "ticks": ""
             }
            },
            "type": "scatterpolargl"
           }
          ],
          "scatterternary": [
           {
            "marker": {
             "colorbar": {
              "outlinewidth": 0,
              "ticks": ""
             }
            },
            "type": "scatterternary"
           }
          ],
          "surface": [
           {
            "colorbar": {
             "outlinewidth": 0,
             "ticks": ""
            },
            "colorscale": [
             [
              0,
              "#0d0887"
             ],
             [
              0.1111111111111111,
              "#46039f"
             ],
             [
              0.2222222222222222,
              "#7201a8"
             ],
             [
              0.3333333333333333,
              "#9c179e"
             ],
             [
              0.4444444444444444,
              "#bd3786"
             ],
             [
              0.5555555555555556,
              "#d8576b"
             ],
             [
              0.6666666666666666,
              "#ed7953"
             ],
             [
              0.7777777777777778,
              "#fb9f3a"
             ],
             [
              0.8888888888888888,
              "#fdca26"
             ],
             [
              1,
              "#f0f921"
             ]
            ],
            "type": "surface"
           }
          ],
          "table": [
           {
            "cells": {
             "fill": {
              "color": "#EBF0F8"
             },
             "line": {
              "color": "white"
             }
            },
            "header": {
             "fill": {
              "color": "#C8D4E3"
             },
             "line": {
              "color": "white"
             }
            },
            "type": "table"
           }
          ]
         },
         "layout": {
          "annotationdefaults": {
           "arrowcolor": "#2a3f5f",
           "arrowhead": 0,
           "arrowwidth": 1
          },
          "autotypenumbers": "strict",
          "coloraxis": {
           "colorbar": {
            "outlinewidth": 0,
            "ticks": ""
           }
          },
          "colorscale": {
           "diverging": [
            [
             0,
             "#8e0152"
            ],
            [
             0.1,
             "#c51b7d"
            ],
            [
             0.2,
             "#de77ae"
            ],
            [
             0.3,
             "#f1b6da"
            ],
            [
             0.4,
             "#fde0ef"
            ],
            [
             0.5,
             "#f7f7f7"
            ],
            [
             0.6,
             "#e6f5d0"
            ],
            [
             0.7,
             "#b8e186"
            ],
            [
             0.8,
             "#7fbc41"
            ],
            [
             0.9,
             "#4d9221"
            ],
            [
             1,
             "#276419"
            ]
           ],
           "sequential": [
            [
             0,
             "#0d0887"
            ],
            [
             0.1111111111111111,
             "#46039f"
            ],
            [
             0.2222222222222222,
             "#7201a8"
            ],
            [
             0.3333333333333333,
             "#9c179e"
            ],
            [
             0.4444444444444444,
             "#bd3786"
            ],
            [
             0.5555555555555556,
             "#d8576b"
            ],
            [
             0.6666666666666666,
             "#ed7953"
            ],
            [
             0.7777777777777778,
             "#fb9f3a"
            ],
            [
             0.8888888888888888,
             "#fdca26"
            ],
            [
             1,
             "#f0f921"
            ]
           ],
           "sequentialminus": [
            [
             0,
             "#0d0887"
            ],
            [
             0.1111111111111111,
             "#46039f"
            ],
            [
             0.2222222222222222,
             "#7201a8"
            ],
            [
             0.3333333333333333,
             "#9c179e"
            ],
            [
             0.4444444444444444,
             "#bd3786"
            ],
            [
             0.5555555555555556,
             "#d8576b"
            ],
            [
             0.6666666666666666,
             "#ed7953"
            ],
            [
             0.7777777777777778,
             "#fb9f3a"
            ],
            [
             0.8888888888888888,
             "#fdca26"
            ],
            [
             1,
             "#f0f921"
            ]
           ]
          },
          "colorway": [
           "#636efa",
           "#EF553B",
           "#00cc96",
           "#ab63fa",
           "#FFA15A",
           "#19d3f3",
           "#FF6692",
           "#B6E880",
           "#FF97FF",
           "#FECB52"
          ],
          "font": {
           "color": "#2a3f5f"
          },
          "geo": {
           "bgcolor": "white",
           "lakecolor": "white",
           "landcolor": "#E5ECF6",
           "showlakes": true,
           "showland": true,
           "subunitcolor": "white"
          },
          "hoverlabel": {
           "align": "left"
          },
          "hovermode": "closest",
          "mapbox": {
           "style": "light"
          },
          "paper_bgcolor": "white",
          "plot_bgcolor": "#E5ECF6",
          "polar": {
           "angularaxis": {
            "gridcolor": "white",
            "linecolor": "white",
            "ticks": ""
           },
           "bgcolor": "#E5ECF6",
           "radialaxis": {
            "gridcolor": "white",
            "linecolor": "white",
            "ticks": ""
           }
          },
          "scene": {
           "xaxis": {
            "backgroundcolor": "#E5ECF6",
            "gridcolor": "white",
            "gridwidth": 2,
            "linecolor": "white",
            "showbackground": true,
            "ticks": "",
            "zerolinecolor": "white"
           },
           "yaxis": {
            "backgroundcolor": "#E5ECF6",
            "gridcolor": "white",
            "gridwidth": 2,
            "linecolor": "white",
            "showbackground": true,
            "ticks": "",
            "zerolinecolor": "white"
           },
           "zaxis": {
            "backgroundcolor": "#E5ECF6",
            "gridcolor": "white",
            "gridwidth": 2,
            "linecolor": "white",
            "showbackground": true,
            "ticks": "",
            "zerolinecolor": "white"
           }
          },
          "shapedefaults": {
           "line": {
            "color": "#2a3f5f"
           }
          },
          "ternary": {
           "aaxis": {
            "gridcolor": "white",
            "linecolor": "white",
            "ticks": ""
           },
           "baxis": {
            "gridcolor": "white",
            "linecolor": "white",
            "ticks": ""
           },
           "bgcolor": "#E5ECF6",
           "caxis": {
            "gridcolor": "white",
            "linecolor": "white",
            "ticks": ""
           }
          },
          "title": {
           "x": 0.05
          },
          "xaxis": {
           "automargin": true,
           "gridcolor": "white",
           "linecolor": "white",
           "ticks": "",
           "title": {
            "standoff": 15
           },
           "zerolinecolor": "white",
           "zerolinewidth": 2
          },
          "yaxis": {
           "automargin": true,
           "gridcolor": "white",
           "linecolor": "white",
           "ticks": "",
           "title": {
            "standoff": 15
           },
           "zerolinecolor": "white",
           "zerolinewidth": 2
          }
         }
        },
        "title": {
         "text": "Total Jobs per year and month"
        },
        "xaxis": {
         "anchor": "y",
         "domain": [
          0,
          1
         ],
         "title": {
          "text": "post_month"
         }
        },
        "yaxis": {
         "anchor": "x",
         "domain": [
          0,
          1
         ],
         "title": {
          "text": "job_title"
         }
        }
       }
      }
     },
     "metadata": {},
     "output_type": "display_data"
    }
   ],
   "source": [
    "import plotly.express as px\n",
    "# px.bar(totalJobsByYearMonth(df).reset_index().reset_index(), x='post_month', y='job_title')\n",
    "aux = totalJobsByYearMonth(df).reset_index().reset_index()\n",
    "fig = px.line(aux,  x='post_month', y='job_title', \n",
    "              color='post_year', title='Total Jobs per year and month')\n",
    "fig.show()"
   ]
  },
  {
   "cell_type": "code",
   "execution_count": 186,
   "metadata": {},
   "outputs": [
    {
     "data": {
      "application/vnd.plotly.v1+json": {
       "config": {
        "plotlyServerURL": "https://plot.ly"
       },
       "data": [
        {
         "alignmentgroup": "True",
         "hovertemplate": "post_month=%{x}<br>job_title=%{y}<extra></extra>",
         "legendgroup": "11",
         "marker": {
          "color": "#636efa",
          "pattern": {
           "shape": ""
          }
         },
         "name": "11",
         "offsetgroup": "11",
         "orientation": "v",
         "showlegend": true,
         "textposition": "auto",
         "type": "bar",
         "x": [
          11
         ],
         "xaxis": "x",
         "y": [
          46514
         ],
         "yaxis": "y"
        },
        {
         "alignmentgroup": "True",
         "hovertemplate": "post_month=%{x}<br>job_title=%{y}<extra></extra>",
         "legendgroup": "10",
         "marker": {
          "color": "#EF553B",
          "pattern": {
           "shape": ""
          }
         },
         "name": "10",
         "offsetgroup": "10",
         "orientation": "v",
         "showlegend": true,
         "textposition": "auto",
         "type": "bar",
         "x": [
          10
         ],
         "xaxis": "x",
         "y": [
          32403
         ],
         "yaxis": "y"
        },
        {
         "alignmentgroup": "True",
         "hovertemplate": "post_month=%{x}<br>job_title=%{y}<extra></extra>",
         "legendgroup": "9",
         "marker": {
          "color": "#00cc96",
          "pattern": {
           "shape": ""
          }
         },
         "name": "9",
         "offsetgroup": "9",
         "orientation": "v",
         "showlegend": true,
         "textposition": "auto",
         "type": "bar",
         "x": [
          9
         ],
         "xaxis": "x",
         "y": [
          4022
         ],
         "yaxis": "y"
        }
       ],
       "layout": {
        "barmode": "relative",
        "legend": {
         "title": {
          "text": "post_month"
         },
         "tracegroupgap": 0
        },
        "margin": {
         "t": 60
        },
        "template": {
         "data": {
          "bar": [
           {
            "error_x": {
             "color": "#2a3f5f"
            },
            "error_y": {
             "color": "#2a3f5f"
            },
            "marker": {
             "line": {
              "color": "#E5ECF6",
              "width": 0.5
             },
             "pattern": {
              "fillmode": "overlay",
              "size": 10,
              "solidity": 0.2
             }
            },
            "type": "bar"
           }
          ],
          "barpolar": [
           {
            "marker": {
             "line": {
              "color": "#E5ECF6",
              "width": 0.5
             },
             "pattern": {
              "fillmode": "overlay",
              "size": 10,
              "solidity": 0.2
             }
            },
            "type": "barpolar"
           }
          ],
          "carpet": [
           {
            "aaxis": {
             "endlinecolor": "#2a3f5f",
             "gridcolor": "white",
             "linecolor": "white",
             "minorgridcolor": "white",
             "startlinecolor": "#2a3f5f"
            },
            "baxis": {
             "endlinecolor": "#2a3f5f",
             "gridcolor": "white",
             "linecolor": "white",
             "minorgridcolor": "white",
             "startlinecolor": "#2a3f5f"
            },
            "type": "carpet"
           }
          ],
          "choropleth": [
           {
            "colorbar": {
             "outlinewidth": 0,
             "ticks": ""
            },
            "type": "choropleth"
           }
          ],
          "contour": [
           {
            "colorbar": {
             "outlinewidth": 0,
             "ticks": ""
            },
            "colorscale": [
             [
              0,
              "#0d0887"
             ],
             [
              0.1111111111111111,
              "#46039f"
             ],
             [
              0.2222222222222222,
              "#7201a8"
             ],
             [
              0.3333333333333333,
              "#9c179e"
             ],
             [
              0.4444444444444444,
              "#bd3786"
             ],
             [
              0.5555555555555556,
              "#d8576b"
             ],
             [
              0.6666666666666666,
              "#ed7953"
             ],
             [
              0.7777777777777778,
              "#fb9f3a"
             ],
             [
              0.8888888888888888,
              "#fdca26"
             ],
             [
              1,
              "#f0f921"
             ]
            ],
            "type": "contour"
           }
          ],
          "contourcarpet": [
           {
            "colorbar": {
             "outlinewidth": 0,
             "ticks": ""
            },
            "type": "contourcarpet"
           }
          ],
          "heatmap": [
           {
            "colorbar": {
             "outlinewidth": 0,
             "ticks": ""
            },
            "colorscale": [
             [
              0,
              "#0d0887"
             ],
             [
              0.1111111111111111,
              "#46039f"
             ],
             [
              0.2222222222222222,
              "#7201a8"
             ],
             [
              0.3333333333333333,
              "#9c179e"
             ],
             [
              0.4444444444444444,
              "#bd3786"
             ],
             [
              0.5555555555555556,
              "#d8576b"
             ],
             [
              0.6666666666666666,
              "#ed7953"
             ],
             [
              0.7777777777777778,
              "#fb9f3a"
             ],
             [
              0.8888888888888888,
              "#fdca26"
             ],
             [
              1,
              "#f0f921"
             ]
            ],
            "type": "heatmap"
           }
          ],
          "heatmapgl": [
           {
            "colorbar": {
             "outlinewidth": 0,
             "ticks": ""
            },
            "colorscale": [
             [
              0,
              "#0d0887"
             ],
             [
              0.1111111111111111,
              "#46039f"
             ],
             [
              0.2222222222222222,
              "#7201a8"
             ],
             [
              0.3333333333333333,
              "#9c179e"
             ],
             [
              0.4444444444444444,
              "#bd3786"
             ],
             [
              0.5555555555555556,
              "#d8576b"
             ],
             [
              0.6666666666666666,
              "#ed7953"
             ],
             [
              0.7777777777777778,
              "#fb9f3a"
             ],
             [
              0.8888888888888888,
              "#fdca26"
             ],
             [
              1,
              "#f0f921"
             ]
            ],
            "type": "heatmapgl"
           }
          ],
          "histogram": [
           {
            "marker": {
             "pattern": {
              "fillmode": "overlay",
              "size": 10,
              "solidity": 0.2
             }
            },
            "type": "histogram"
           }
          ],
          "histogram2d": [
           {
            "colorbar": {
             "outlinewidth": 0,
             "ticks": ""
            },
            "colorscale": [
             [
              0,
              "#0d0887"
             ],
             [
              0.1111111111111111,
              "#46039f"
             ],
             [
              0.2222222222222222,
              "#7201a8"
             ],
             [
              0.3333333333333333,
              "#9c179e"
             ],
             [
              0.4444444444444444,
              "#bd3786"
             ],
             [
              0.5555555555555556,
              "#d8576b"
             ],
             [
              0.6666666666666666,
              "#ed7953"
             ],
             [
              0.7777777777777778,
              "#fb9f3a"
             ],
             [
              0.8888888888888888,
              "#fdca26"
             ],
             [
              1,
              "#f0f921"
             ]
            ],
            "type": "histogram2d"
           }
          ],
          "histogram2dcontour": [
           {
            "colorbar": {
             "outlinewidth": 0,
             "ticks": ""
            },
            "colorscale": [
             [
              0,
              "#0d0887"
             ],
             [
              0.1111111111111111,
              "#46039f"
             ],
             [
              0.2222222222222222,
              "#7201a8"
             ],
             [
              0.3333333333333333,
              "#9c179e"
             ],
             [
              0.4444444444444444,
              "#bd3786"
             ],
             [
              0.5555555555555556,
              "#d8576b"
             ],
             [
              0.6666666666666666,
              "#ed7953"
             ],
             [
              0.7777777777777778,
              "#fb9f3a"
             ],
             [
              0.8888888888888888,
              "#fdca26"
             ],
             [
              1,
              "#f0f921"
             ]
            ],
            "type": "histogram2dcontour"
           }
          ],
          "mesh3d": [
           {
            "colorbar": {
             "outlinewidth": 0,
             "ticks": ""
            },
            "type": "mesh3d"
           }
          ],
          "parcoords": [
           {
            "line": {
             "colorbar": {
              "outlinewidth": 0,
              "ticks": ""
             }
            },
            "type": "parcoords"
           }
          ],
          "pie": [
           {
            "automargin": true,
            "type": "pie"
           }
          ],
          "scatter": [
           {
            "marker": {
             "colorbar": {
              "outlinewidth": 0,
              "ticks": ""
             }
            },
            "type": "scatter"
           }
          ],
          "scatter3d": [
           {
            "line": {
             "colorbar": {
              "outlinewidth": 0,
              "ticks": ""
             }
            },
            "marker": {
             "colorbar": {
              "outlinewidth": 0,
              "ticks": ""
             }
            },
            "type": "scatter3d"
           }
          ],
          "scattercarpet": [
           {
            "marker": {
             "colorbar": {
              "outlinewidth": 0,
              "ticks": ""
             }
            },
            "type": "scattercarpet"
           }
          ],
          "scattergeo": [
           {
            "marker": {
             "colorbar": {
              "outlinewidth": 0,
              "ticks": ""
             }
            },
            "type": "scattergeo"
           }
          ],
          "scattergl": [
           {
            "marker": {
             "colorbar": {
              "outlinewidth": 0,
              "ticks": ""
             }
            },
            "type": "scattergl"
           }
          ],
          "scattermapbox": [
           {
            "marker": {
             "colorbar": {
              "outlinewidth": 0,
              "ticks": ""
             }
            },
            "type": "scattermapbox"
           }
          ],
          "scatterpolar": [
           {
            "marker": {
             "colorbar": {
              "outlinewidth": 0,
              "ticks": ""
             }
            },
            "type": "scatterpolar"
           }
          ],
          "scatterpolargl": [
           {
            "marker": {
             "colorbar": {
              "outlinewidth": 0,
              "ticks": ""
             }
            },
            "type": "scatterpolargl"
           }
          ],
          "scatterternary": [
           {
            "marker": {
             "colorbar": {
              "outlinewidth": 0,
              "ticks": ""
             }
            },
            "type": "scatterternary"
           }
          ],
          "surface": [
           {
            "colorbar": {
             "outlinewidth": 0,
             "ticks": ""
            },
            "colorscale": [
             [
              0,
              "#0d0887"
             ],
             [
              0.1111111111111111,
              "#46039f"
             ],
             [
              0.2222222222222222,
              "#7201a8"
             ],
             [
              0.3333333333333333,
              "#9c179e"
             ],
             [
              0.4444444444444444,
              "#bd3786"
             ],
             [
              0.5555555555555556,
              "#d8576b"
             ],
             [
              0.6666666666666666,
              "#ed7953"
             ],
             [
              0.7777777777777778,
              "#fb9f3a"
             ],
             [
              0.8888888888888888,
              "#fdca26"
             ],
             [
              1,
              "#f0f921"
             ]
            ],
            "type": "surface"
           }
          ],
          "table": [
           {
            "cells": {
             "fill": {
              "color": "#EBF0F8"
             },
             "line": {
              "color": "white"
             }
            },
            "header": {
             "fill": {
              "color": "#C8D4E3"
             },
             "line": {
              "color": "white"
             }
            },
            "type": "table"
           }
          ]
         },
         "layout": {
          "annotationdefaults": {
           "arrowcolor": "#2a3f5f",
           "arrowhead": 0,
           "arrowwidth": 1
          },
          "autotypenumbers": "strict",
          "coloraxis": {
           "colorbar": {
            "outlinewidth": 0,
            "ticks": ""
           }
          },
          "colorscale": {
           "diverging": [
            [
             0,
             "#8e0152"
            ],
            [
             0.1,
             "#c51b7d"
            ],
            [
             0.2,
             "#de77ae"
            ],
            [
             0.3,
             "#f1b6da"
            ],
            [
             0.4,
             "#fde0ef"
            ],
            [
             0.5,
             "#f7f7f7"
            ],
            [
             0.6,
             "#e6f5d0"
            ],
            [
             0.7,
             "#b8e186"
            ],
            [
             0.8,
             "#7fbc41"
            ],
            [
             0.9,
             "#4d9221"
            ],
            [
             1,
             "#276419"
            ]
           ],
           "sequential": [
            [
             0,
             "#0d0887"
            ],
            [
             0.1111111111111111,
             "#46039f"
            ],
            [
             0.2222222222222222,
             "#7201a8"
            ],
            [
             0.3333333333333333,
             "#9c179e"
            ],
            [
             0.4444444444444444,
             "#bd3786"
            ],
            [
             0.5555555555555556,
             "#d8576b"
            ],
            [
             0.6666666666666666,
             "#ed7953"
            ],
            [
             0.7777777777777778,
             "#fb9f3a"
            ],
            [
             0.8888888888888888,
             "#fdca26"
            ],
            [
             1,
             "#f0f921"
            ]
           ],
           "sequentialminus": [
            [
             0,
             "#0d0887"
            ],
            [
             0.1111111111111111,
             "#46039f"
            ],
            [
             0.2222222222222222,
             "#7201a8"
            ],
            [
             0.3333333333333333,
             "#9c179e"
            ],
            [
             0.4444444444444444,
             "#bd3786"
            ],
            [
             0.5555555555555556,
             "#d8576b"
            ],
            [
             0.6666666666666666,
             "#ed7953"
            ],
            [
             0.7777777777777778,
             "#fb9f3a"
            ],
            [
             0.8888888888888888,
             "#fdca26"
            ],
            [
             1,
             "#f0f921"
            ]
           ]
          },
          "colorway": [
           "#636efa",
           "#EF553B",
           "#00cc96",
           "#ab63fa",
           "#FFA15A",
           "#19d3f3",
           "#FF6692",
           "#B6E880",
           "#FF97FF",
           "#FECB52"
          ],
          "font": {
           "color": "#2a3f5f"
          },
          "geo": {
           "bgcolor": "white",
           "lakecolor": "white",
           "landcolor": "#E5ECF6",
           "showlakes": true,
           "showland": true,
           "subunitcolor": "white"
          },
          "hoverlabel": {
           "align": "left"
          },
          "hovermode": "closest",
          "mapbox": {
           "style": "light"
          },
          "paper_bgcolor": "white",
          "plot_bgcolor": "#E5ECF6",
          "polar": {
           "angularaxis": {
            "gridcolor": "white",
            "linecolor": "white",
            "ticks": ""
           },
           "bgcolor": "#E5ECF6",
           "radialaxis": {
            "gridcolor": "white",
            "linecolor": "white",
            "ticks": ""
           }
          },
          "scene": {
           "xaxis": {
            "backgroundcolor": "#E5ECF6",
            "gridcolor": "white",
            "gridwidth": 2,
            "linecolor": "white",
            "showbackground": true,
            "ticks": "",
            "zerolinecolor": "white"
           },
           "yaxis": {
            "backgroundcolor": "#E5ECF6",
            "gridcolor": "white",
            "gridwidth": 2,
            "linecolor": "white",
            "showbackground": true,
            "ticks": "",
            "zerolinecolor": "white"
           },
           "zaxis": {
            "backgroundcolor": "#E5ECF6",
            "gridcolor": "white",
            "gridwidth": 2,
            "linecolor": "white",
            "showbackground": true,
            "ticks": "",
            "zerolinecolor": "white"
           }
          },
          "shapedefaults": {
           "line": {
            "color": "#2a3f5f"
           }
          },
          "ternary": {
           "aaxis": {
            "gridcolor": "white",
            "linecolor": "white",
            "ticks": ""
           },
           "baxis": {
            "gridcolor": "white",
            "linecolor": "white",
            "ticks": ""
           },
           "bgcolor": "#E5ECF6",
           "caxis": {
            "gridcolor": "white",
            "linecolor": "white",
            "ticks": ""
           }
          },
          "title": {
           "x": 0.05
          },
          "xaxis": {
           "automargin": true,
           "gridcolor": "white",
           "linecolor": "white",
           "ticks": "",
           "title": {
            "standoff": 15
           },
           "zerolinecolor": "white",
           "zerolinewidth": 2
          },
          "yaxis": {
           "automargin": true,
           "gridcolor": "white",
           "linecolor": "white",
           "ticks": "",
           "title": {
            "standoff": 15
           },
           "zerolinecolor": "white",
           "zerolinewidth": 2
          }
         }
        },
        "xaxis": {
         "anchor": "y",
         "categoryarray": [
          1,
          2,
          3,
          4,
          5,
          6,
          7,
          8,
          9,
          10,
          11,
          12
         ],
         "categoryorder": "array",
         "domain": [
          0,
          1
         ],
         "title": {
          "text": "post_month"
         },
         "type": "category"
        },
        "yaxis": {
         "anchor": "x",
         "domain": [
          0,
          1
         ],
         "title": {
          "text": "job_title"
         }
        }
       }
      }
     },
     "metadata": {},
     "output_type": "display_data"
    }
   ],
   "source": [
    "new_aux = aux.query('post_year==2021 & post_month>8').copy()\n",
    "# new_aux = aux.copy()\n",
    "new_aux['post_year'] = pd.Categorical(new_aux['post_year'])\n",
    "new_aux['post_month'] = pd.Categorical(new_aux['post_month'])\n",
    "\n",
    "fig = px.bar(new_aux, x='post_month', y='job_title', color='post_month', barmode='relative')\n",
    "fig.update_xaxes(type='category')\n",
    "fig.update_layout(barmode='relative', xaxis={'categoryorder':'array', 'categoryarray':[1,2,3,4,5,6,7,8,9,10,11,12]})\n",
    "fig.show()"
   ]
  },
  {
   "cell_type": "code",
   "execution_count": 187,
   "metadata": {},
   "outputs": [
    {
     "data": {
      "application/vnd.plotly.v1+json": {
       "config": {
        "plotlyServerURL": "https://plot.ly"
       },
       "data": [
        {
         "alignmentgroup": "True",
         "hovertemplate": "Job Title=%{y}<br>Total=%{x}<extra></extra>",
         "legendgroup": "comercial",
         "marker": {
          "color": "#636efa",
          "pattern": {
           "shape": ""
          }
         },
         "name": "comercial",
         "offsetgroup": "comercial",
         "orientation": "h",
         "showlegend": true,
         "textposition": "auto",
         "type": "bar",
         "x": [
          894
         ],
         "xaxis": "x",
         "y": [
          "comercial"
         ],
         "yaxis": "y"
        },
        {
         "alignmentgroup": "True",
         "hovertemplate": "Job Title=%{y}<br>Total=%{x}<extra></extra>",
         "legendgroup": "motorista de pesados",
         "marker": {
          "color": "#EF553B",
          "pattern": {
           "shape": ""
          }
         },
         "name": "motorista de pesados",
         "offsetgroup": "motorista de pesados",
         "orientation": "h",
         "showlegend": true,
         "textposition": "auto",
         "type": "bar",
         "x": [
          747
         ],
         "xaxis": "x",
         "y": [
          "motorista de pesados"
         ],
         "yaxis": "y"
        },
        {
         "alignmentgroup": "True",
         "hovertemplate": "Job Title=%{y}<br>Total=%{x}<extra></extra>",
         "legendgroup": "empregado de mesa",
         "marker": {
          "color": "#00cc96",
          "pattern": {
           "shape": ""
          }
         },
         "name": "empregado de mesa",
         "offsetgroup": "empregado de mesa",
         "orientation": "h",
         "showlegend": true,
         "textposition": "auto",
         "type": "bar",
         "x": [
          721
         ],
         "xaxis": "x",
         "y": [
          "empregado de mesa"
         ],
         "yaxis": "y"
        },
        {
         "alignmentgroup": "True",
         "hovertemplate": "Job Title=%{y}<br>Total=%{x}<extra></extra>",
         "legendgroup": "operador de armazém",
         "marker": {
          "color": "#ab63fa",
          "pattern": {
           "shape": ""
          }
         },
         "name": "operador de armazém",
         "offsetgroup": "operador de armazém",
         "orientation": "h",
         "showlegend": true,
         "textposition": "auto",
         "type": "bar",
         "x": [
          631
         ],
         "xaxis": "x",
         "y": [
          "operador de armazém"
         ],
         "yaxis": "y"
        },
        {
         "alignmentgroup": "True",
         "hovertemplate": "Job Title=%{y}<br>Total=%{x}<extra></extra>",
         "legendgroup": "consultor imobiliário",
         "marker": {
          "color": "#FFA15A",
          "pattern": {
           "shape": ""
          }
         },
         "name": "consultor imobiliário",
         "offsetgroup": "consultor imobiliário",
         "orientation": "h",
         "showlegend": true,
         "textposition": "auto",
         "type": "bar",
         "x": [
          591
         ],
         "xaxis": "x",
         "y": [
          "consultor imobiliário"
         ],
         "yaxis": "y"
        },
        {
         "alignmentgroup": "True",
         "hovertemplate": "Job Title=%{y}<br>Total=%{x}<extra></extra>",
         "legendgroup": "operador de produção",
         "marker": {
          "color": "#19d3f3",
          "pattern": {
           "shape": ""
          }
         },
         "name": "operador de produção",
         "offsetgroup": "operador de produção",
         "orientation": "h",
         "showlegend": true,
         "textposition": "auto",
         "type": "bar",
         "x": [
          558
         ],
         "xaxis": "x",
         "y": [
          "operador de produção"
         ],
         "yaxis": "y"
        },
        {
         "alignmentgroup": "True",
         "hovertemplate": "Job Title=%{y}<br>Total=%{x}<extra></extra>",
         "legendgroup": "cozinheiro",
         "marker": {
          "color": "#FF6692",
          "pattern": {
           "shape": ""
          }
         },
         "name": "cozinheiro",
         "offsetgroup": "cozinheiro",
         "orientation": "h",
         "showlegend": true,
         "textposition": "auto",
         "type": "bar",
         "x": [
          539
         ],
         "xaxis": "x",
         "y": [
          "cozinheiro"
         ],
         "yaxis": "y"
        },
        {
         "alignmentgroup": "True",
         "hovertemplate": "Job Title=%{y}<br>Total=%{x}<extra></extra>",
         "legendgroup": "colaborador",
         "marker": {
          "color": "#B6E880",
          "pattern": {
           "shape": ""
          }
         },
         "name": "colaborador",
         "offsetgroup": "colaborador",
         "orientation": "h",
         "showlegend": true,
         "textposition": "auto",
         "type": "bar",
         "x": [
          531
         ],
         "xaxis": "x",
         "y": [
          "colaborador"
         ],
         "yaxis": "y"
        },
        {
         "alignmentgroup": "True",
         "hovertemplate": "Job Title=%{y}<br>Total=%{x}<extra></extra>",
         "legendgroup": "formador",
         "marker": {
          "color": "#FF97FF",
          "pattern": {
           "shape": ""
          }
         },
         "name": "formador",
         "offsetgroup": "formador",
         "orientation": "h",
         "showlegend": true,
         "textposition": "auto",
         "type": "bar",
         "x": [
          510
         ],
         "xaxis": "x",
         "y": [
          "formador"
         ],
         "yaxis": "y"
        },
        {
         "alignmentgroup": "True",
         "hovertemplate": "Job Title=%{y}<br>Total=%{x}<extra></extra>",
         "legendgroup": "sales assistant",
         "marker": {
          "color": "#FECB52",
          "pattern": {
           "shape": ""
          }
         },
         "name": "sales assistant",
         "offsetgroup": "sales assistant",
         "orientation": "h",
         "showlegend": true,
         "textposition": "auto",
         "type": "bar",
         "x": [
          503
         ],
         "xaxis": "x",
         "y": [
          "sales assistant"
         ],
         "yaxis": "y"
        }
       ],
       "layout": {
        "barmode": "relative",
        "legend": {
         "title": {
          "text": "Job Title"
         },
         "tracegroupgap": 0
        },
        "template": {
         "data": {
          "bar": [
           {
            "error_x": {
             "color": "#2a3f5f"
            },
            "error_y": {
             "color": "#2a3f5f"
            },
            "marker": {
             "line": {
              "color": "#E5ECF6",
              "width": 0.5
             },
             "pattern": {
              "fillmode": "overlay",
              "size": 10,
              "solidity": 0.2
             }
            },
            "type": "bar"
           }
          ],
          "barpolar": [
           {
            "marker": {
             "line": {
              "color": "#E5ECF6",
              "width": 0.5
             },
             "pattern": {
              "fillmode": "overlay",
              "size": 10,
              "solidity": 0.2
             }
            },
            "type": "barpolar"
           }
          ],
          "carpet": [
           {
            "aaxis": {
             "endlinecolor": "#2a3f5f",
             "gridcolor": "white",
             "linecolor": "white",
             "minorgridcolor": "white",
             "startlinecolor": "#2a3f5f"
            },
            "baxis": {
             "endlinecolor": "#2a3f5f",
             "gridcolor": "white",
             "linecolor": "white",
             "minorgridcolor": "white",
             "startlinecolor": "#2a3f5f"
            },
            "type": "carpet"
           }
          ],
          "choropleth": [
           {
            "colorbar": {
             "outlinewidth": 0,
             "ticks": ""
            },
            "type": "choropleth"
           }
          ],
          "contour": [
           {
            "colorbar": {
             "outlinewidth": 0,
             "ticks": ""
            },
            "colorscale": [
             [
              0,
              "#0d0887"
             ],
             [
              0.1111111111111111,
              "#46039f"
             ],
             [
              0.2222222222222222,
              "#7201a8"
             ],
             [
              0.3333333333333333,
              "#9c179e"
             ],
             [
              0.4444444444444444,
              "#bd3786"
             ],
             [
              0.5555555555555556,
              "#d8576b"
             ],
             [
              0.6666666666666666,
              "#ed7953"
             ],
             [
              0.7777777777777778,
              "#fb9f3a"
             ],
             [
              0.8888888888888888,
              "#fdca26"
             ],
             [
              1,
              "#f0f921"
             ]
            ],
            "type": "contour"
           }
          ],
          "contourcarpet": [
           {
            "colorbar": {
             "outlinewidth": 0,
             "ticks": ""
            },
            "type": "contourcarpet"
           }
          ],
          "heatmap": [
           {
            "colorbar": {
             "outlinewidth": 0,
             "ticks": ""
            },
            "colorscale": [
             [
              0,
              "#0d0887"
             ],
             [
              0.1111111111111111,
              "#46039f"
             ],
             [
              0.2222222222222222,
              "#7201a8"
             ],
             [
              0.3333333333333333,
              "#9c179e"
             ],
             [
              0.4444444444444444,
              "#bd3786"
             ],
             [
              0.5555555555555556,
              "#d8576b"
             ],
             [
              0.6666666666666666,
              "#ed7953"
             ],
             [
              0.7777777777777778,
              "#fb9f3a"
             ],
             [
              0.8888888888888888,
              "#fdca26"
             ],
             [
              1,
              "#f0f921"
             ]
            ],
            "type": "heatmap"
           }
          ],
          "heatmapgl": [
           {
            "colorbar": {
             "outlinewidth": 0,
             "ticks": ""
            },
            "colorscale": [
             [
              0,
              "#0d0887"
             ],
             [
              0.1111111111111111,
              "#46039f"
             ],
             [
              0.2222222222222222,
              "#7201a8"
             ],
             [
              0.3333333333333333,
              "#9c179e"
             ],
             [
              0.4444444444444444,
              "#bd3786"
             ],
             [
              0.5555555555555556,
              "#d8576b"
             ],
             [
              0.6666666666666666,
              "#ed7953"
             ],
             [
              0.7777777777777778,
              "#fb9f3a"
             ],
             [
              0.8888888888888888,
              "#fdca26"
             ],
             [
              1,
              "#f0f921"
             ]
            ],
            "type": "heatmapgl"
           }
          ],
          "histogram": [
           {
            "marker": {
             "pattern": {
              "fillmode": "overlay",
              "size": 10,
              "solidity": 0.2
             }
            },
            "type": "histogram"
           }
          ],
          "histogram2d": [
           {
            "colorbar": {
             "outlinewidth": 0,
             "ticks": ""
            },
            "colorscale": [
             [
              0,
              "#0d0887"
             ],
             [
              0.1111111111111111,
              "#46039f"
             ],
             [
              0.2222222222222222,
              "#7201a8"
             ],
             [
              0.3333333333333333,
              "#9c179e"
             ],
             [
              0.4444444444444444,
              "#bd3786"
             ],
             [
              0.5555555555555556,
              "#d8576b"
             ],
             [
              0.6666666666666666,
              "#ed7953"
             ],
             [
              0.7777777777777778,
              "#fb9f3a"
             ],
             [
              0.8888888888888888,
              "#fdca26"
             ],
             [
              1,
              "#f0f921"
             ]
            ],
            "type": "histogram2d"
           }
          ],
          "histogram2dcontour": [
           {
            "colorbar": {
             "outlinewidth": 0,
             "ticks": ""
            },
            "colorscale": [
             [
              0,
              "#0d0887"
             ],
             [
              0.1111111111111111,
              "#46039f"
             ],
             [
              0.2222222222222222,
              "#7201a8"
             ],
             [
              0.3333333333333333,
              "#9c179e"
             ],
             [
              0.4444444444444444,
              "#bd3786"
             ],
             [
              0.5555555555555556,
              "#d8576b"
             ],
             [
              0.6666666666666666,
              "#ed7953"
             ],
             [
              0.7777777777777778,
              "#fb9f3a"
             ],
             [
              0.8888888888888888,
              "#fdca26"
             ],
             [
              1,
              "#f0f921"
             ]
            ],
            "type": "histogram2dcontour"
           }
          ],
          "mesh3d": [
           {
            "colorbar": {
             "outlinewidth": 0,
             "ticks": ""
            },
            "type": "mesh3d"
           }
          ],
          "parcoords": [
           {
            "line": {
             "colorbar": {
              "outlinewidth": 0,
              "ticks": ""
             }
            },
            "type": "parcoords"
           }
          ],
          "pie": [
           {
            "automargin": true,
            "type": "pie"
           }
          ],
          "scatter": [
           {
            "marker": {
             "colorbar": {
              "outlinewidth": 0,
              "ticks": ""
             }
            },
            "type": "scatter"
           }
          ],
          "scatter3d": [
           {
            "line": {
             "colorbar": {
              "outlinewidth": 0,
              "ticks": ""
             }
            },
            "marker": {
             "colorbar": {
              "outlinewidth": 0,
              "ticks": ""
             }
            },
            "type": "scatter3d"
           }
          ],
          "scattercarpet": [
           {
            "marker": {
             "colorbar": {
              "outlinewidth": 0,
              "ticks": ""
             }
            },
            "type": "scattercarpet"
           }
          ],
          "scattergeo": [
           {
            "marker": {
             "colorbar": {
              "outlinewidth": 0,
              "ticks": ""
             }
            },
            "type": "scattergeo"
           }
          ],
          "scattergl": [
           {
            "marker": {
             "colorbar": {
              "outlinewidth": 0,
              "ticks": ""
             }
            },
            "type": "scattergl"
           }
          ],
          "scattermapbox": [
           {
            "marker": {
             "colorbar": {
              "outlinewidth": 0,
              "ticks": ""
             }
            },
            "type": "scattermapbox"
           }
          ],
          "scatterpolar": [
           {
            "marker": {
             "colorbar": {
              "outlinewidth": 0,
              "ticks": ""
             }
            },
            "type": "scatterpolar"
           }
          ],
          "scatterpolargl": [
           {
            "marker": {
             "colorbar": {
              "outlinewidth": 0,
              "ticks": ""
             }
            },
            "type": "scatterpolargl"
           }
          ],
          "scatterternary": [
           {
            "marker": {
             "colorbar": {
              "outlinewidth": 0,
              "ticks": ""
             }
            },
            "type": "scatterternary"
           }
          ],
          "surface": [
           {
            "colorbar": {
             "outlinewidth": 0,
             "ticks": ""
            },
            "colorscale": [
             [
              0,
              "#0d0887"
             ],
             [
              0.1111111111111111,
              "#46039f"
             ],
             [
              0.2222222222222222,
              "#7201a8"
             ],
             [
              0.3333333333333333,
              "#9c179e"
             ],
             [
              0.4444444444444444,
              "#bd3786"
             ],
             [
              0.5555555555555556,
              "#d8576b"
             ],
             [
              0.6666666666666666,
              "#ed7953"
             ],
             [
              0.7777777777777778,
              "#fb9f3a"
             ],
             [
              0.8888888888888888,
              "#fdca26"
             ],
             [
              1,
              "#f0f921"
             ]
            ],
            "type": "surface"
           }
          ],
          "table": [
           {
            "cells": {
             "fill": {
              "color": "#EBF0F8"
             },
             "line": {
              "color": "white"
             }
            },
            "header": {
             "fill": {
              "color": "#C8D4E3"
             },
             "line": {
              "color": "white"
             }
            },
            "type": "table"
           }
          ]
         },
         "layout": {
          "annotationdefaults": {
           "arrowcolor": "#2a3f5f",
           "arrowhead": 0,
           "arrowwidth": 1
          },
          "autotypenumbers": "strict",
          "coloraxis": {
           "colorbar": {
            "outlinewidth": 0,
            "ticks": ""
           }
          },
          "colorscale": {
           "diverging": [
            [
             0,
             "#8e0152"
            ],
            [
             0.1,
             "#c51b7d"
            ],
            [
             0.2,
             "#de77ae"
            ],
            [
             0.3,
             "#f1b6da"
            ],
            [
             0.4,
             "#fde0ef"
            ],
            [
             0.5,
             "#f7f7f7"
            ],
            [
             0.6,
             "#e6f5d0"
            ],
            [
             0.7,
             "#b8e186"
            ],
            [
             0.8,
             "#7fbc41"
            ],
            [
             0.9,
             "#4d9221"
            ],
            [
             1,
             "#276419"
            ]
           ],
           "sequential": [
            [
             0,
             "#0d0887"
            ],
            [
             0.1111111111111111,
             "#46039f"
            ],
            [
             0.2222222222222222,
             "#7201a8"
            ],
            [
             0.3333333333333333,
             "#9c179e"
            ],
            [
             0.4444444444444444,
             "#bd3786"
            ],
            [
             0.5555555555555556,
             "#d8576b"
            ],
            [
             0.6666666666666666,
             "#ed7953"
            ],
            [
             0.7777777777777778,
             "#fb9f3a"
            ],
            [
             0.8888888888888888,
             "#fdca26"
            ],
            [
             1,
             "#f0f921"
            ]
           ],
           "sequentialminus": [
            [
             0,
             "#0d0887"
            ],
            [
             0.1111111111111111,
             "#46039f"
            ],
            [
             0.2222222222222222,
             "#7201a8"
            ],
            [
             0.3333333333333333,
             "#9c179e"
            ],
            [
             0.4444444444444444,
             "#bd3786"
            ],
            [
             0.5555555555555556,
             "#d8576b"
            ],
            [
             0.6666666666666666,
             "#ed7953"
            ],
            [
             0.7777777777777778,
             "#fb9f3a"
            ],
            [
             0.8888888888888888,
             "#fdca26"
            ],
            [
             1,
             "#f0f921"
            ]
           ]
          },
          "colorway": [
           "#636efa",
           "#EF553B",
           "#00cc96",
           "#ab63fa",
           "#FFA15A",
           "#19d3f3",
           "#FF6692",
           "#B6E880",
           "#FF97FF",
           "#FECB52"
          ],
          "font": {
           "color": "#2a3f5f"
          },
          "geo": {
           "bgcolor": "white",
           "lakecolor": "white",
           "landcolor": "#E5ECF6",
           "showlakes": true,
           "showland": true,
           "subunitcolor": "white"
          },
          "hoverlabel": {
           "align": "left"
          },
          "hovermode": "closest",
          "mapbox": {
           "style": "light"
          },
          "paper_bgcolor": "white",
          "plot_bgcolor": "#E5ECF6",
          "polar": {
           "angularaxis": {
            "gridcolor": "white",
            "linecolor": "white",
            "ticks": ""
           },
           "bgcolor": "#E5ECF6",
           "radialaxis": {
            "gridcolor": "white",
            "linecolor": "white",
            "ticks": ""
           }
          },
          "scene": {
           "xaxis": {
            "backgroundcolor": "#E5ECF6",
            "gridcolor": "white",
            "gridwidth": 2,
            "linecolor": "white",
            "showbackground": true,
            "ticks": "",
            "zerolinecolor": "white"
           },
           "yaxis": {
            "backgroundcolor": "#E5ECF6",
            "gridcolor": "white",
            "gridwidth": 2,
            "linecolor": "white",
            "showbackground": true,
            "ticks": "",
            "zerolinecolor": "white"
           },
           "zaxis": {
            "backgroundcolor": "#E5ECF6",
            "gridcolor": "white",
            "gridwidth": 2,
            "linecolor": "white",
            "showbackground": true,
            "ticks": "",
            "zerolinecolor": "white"
           }
          },
          "shapedefaults": {
           "line": {
            "color": "#2a3f5f"
           }
          },
          "ternary": {
           "aaxis": {
            "gridcolor": "white",
            "linecolor": "white",
            "ticks": ""
           },
           "baxis": {
            "gridcolor": "white",
            "linecolor": "white",
            "ticks": ""
           },
           "bgcolor": "#E5ECF6",
           "caxis": {
            "gridcolor": "white",
            "linecolor": "white",
            "ticks": ""
           }
          },
          "title": {
           "x": 0.05
          },
          "xaxis": {
           "automargin": true,
           "gridcolor": "white",
           "linecolor": "white",
           "ticks": "",
           "title": {
            "standoff": 15
           },
           "zerolinecolor": "white",
           "zerolinewidth": 2
          },
          "yaxis": {
           "automargin": true,
           "gridcolor": "white",
           "linecolor": "white",
           "ticks": "",
           "title": {
            "standoff": 15
           },
           "zerolinecolor": "white",
           "zerolinewidth": 2
          }
         }
        },
        "title": {
         "text": "Top 10 jobs with most vacancies in Portugal"
        },
        "xaxis": {
         "anchor": "y",
         "domain": [
          0,
          1
         ],
         "title": {
          "text": "Total"
         }
        },
        "yaxis": {
         "anchor": "x",
         "categoryarray": [
          "sales assistant",
          "formador",
          "colaborador",
          "cozinheiro",
          "operador de produção",
          "consultor imobiliário",
          "operador de armazém",
          "empregado de mesa",
          "motorista de pesados",
          "comercial"
         ],
         "categoryorder": "array",
         "domain": [
          0,
          1
         ],
         "title": {
          "text": "Job Title"
         },
         "type": "category"
        }
       }
      }
     },
     "metadata": {},
     "output_type": "display_data"
    }
   ],
   "source": [
    "jobs_df = pd.DataFrame(df_eda.job_title.value_counts().sort_values(ascending=False)) \\\n",
    "    .reset_index().rename(columns={'job_title':'Total', 'index':'Job Title'})[:10]\n",
    "fig = px.bar(jobs_df, 'Total', 'Job Title', color='Job Title', title='Top 10 jobs with most vacancies in Portugal')\n",
    "fig.update_yaxes(type='category')\n",
    "fig.show()"
   ]
  },
  {
   "cell_type": "code",
   "execution_count": 188,
   "metadata": {},
   "outputs": [
    {
     "data": {
      "application/vnd.plotly.v1+json": {
       "config": {
        "plotlyServerURL": "https://plot.ly"
       },
       "data": [
        {
         "alignmentgroup": "True",
         "hovertemplate": "Company=%{y}<br>Total=%{x}<extra></extra>",
         "legendgroup": "Anónimo",
         "marker": {
          "color": "#636efa",
          "pattern": {
           "shape": ""
          }
         },
         "name": "Anónimo",
         "offsetgroup": "Anónimo",
         "orientation": "h",
         "showlegend": true,
         "textposition": "auto",
         "type": "bar",
         "x": [
          1692
         ],
         "xaxis": "x",
         "y": [
          "Anónimo"
         ],
         "yaxis": "y"
        },
        {
         "alignmentgroup": "True",
         "hovertemplate": "Company=%{y}<br>Total=%{x}<extra></extra>",
         "legendgroup": "Dellent",
         "marker": {
          "color": "#EF553B",
          "pattern": {
           "shape": ""
          }
         },
         "name": "Dellent",
         "offsetgroup": "Dellent",
         "orientation": "h",
         "showlegend": true,
         "textposition": "auto",
         "type": "bar",
         "x": [
          1048
         ],
         "xaxis": "x",
         "y": [
          "Dellent"
         ],
         "yaxis": "y"
        },
        {
         "alignmentgroup": "True",
         "hovertemplate": "Company=%{y}<br>Total=%{x}<extra></extra>",
         "legendgroup": "Randstad portugal",
         "marker": {
          "color": "#00cc96",
          "pattern": {
           "shape": ""
          }
         },
         "name": "Randstad portugal",
         "offsetgroup": "Randstad portugal",
         "orientation": "h",
         "showlegend": true,
         "textposition": "auto",
         "type": "bar",
         "x": [
          1016
         ],
         "xaxis": "x",
         "y": [
          "Randstad portugal"
         ],
         "yaxis": "y"
        },
        {
         "alignmentgroup": "True",
         "hovertemplate": "Company=%{y}<br>Total=%{x}<extra></extra>",
         "legendgroup": "Yupi!",
         "marker": {
          "color": "#ab63fa",
          "pattern": {
           "shape": ""
          }
         },
         "name": "Yupi!",
         "offsetgroup": "Yupi!",
         "orientation": "h",
         "showlegend": true,
         "textposition": "auto",
         "type": "bar",
         "x": [
          969
         ],
         "xaxis": "x",
         "y": [
          "Yupi!"
         ],
         "yaxis": "y"
        },
        {
         "alignmentgroup": "True",
         "hovertemplate": "Company=%{y}<br>Total=%{x}<extra></extra>",
         "legendgroup": "Kelly services",
         "marker": {
          "color": "#FFA15A",
          "pattern": {
           "shape": ""
          }
         },
         "name": "Kelly services",
         "offsetgroup": "Kelly services",
         "orientation": "h",
         "showlegend": true,
         "textposition": "auto",
         "type": "bar",
         "x": [
          891
         ],
         "xaxis": "x",
         "y": [
          "Kelly services"
         ],
         "yaxis": "y"
        },
        {
         "alignmentgroup": "True",
         "hovertemplate": "Company=%{y}<br>Total=%{x}<extra></extra>",
         "legendgroup": "Randstad",
         "marker": {
          "color": "#19d3f3",
          "pattern": {
           "shape": ""
          }
         },
         "name": "Randstad",
         "offsetgroup": "Randstad",
         "orientation": "h",
         "showlegend": true,
         "textposition": "auto",
         "type": "bar",
         "x": [
          742
         ],
         "xaxis": "x",
         "y": [
          "Randstad"
         ],
         "yaxis": "y"
        },
        {
         "alignmentgroup": "True",
         "hovertemplate": "Company=%{y}<br>Total=%{x}<extra></extra>",
         "legendgroup": "Adecco - recursos humanos",
         "marker": {
          "color": "#FF6692",
          "pattern": {
           "shape": ""
          }
         },
         "name": "Adecco - recursos humanos",
         "offsetgroup": "Adecco - recursos humanos",
         "orientation": "h",
         "showlegend": true,
         "textposition": "auto",
         "type": "bar",
         "x": [
          691
         ],
         "xaxis": "x",
         "y": [
          "Adecco - recursos humanos"
         ],
         "yaxis": "y"
        },
        {
         "alignmentgroup": "True",
         "hovertemplate": "Company=%{y}<br>Total=%{x}<extra></extra>",
         "legendgroup": "Match profiler",
         "marker": {
          "color": "#B6E880",
          "pattern": {
           "shape": ""
          }
         },
         "name": "Match profiler",
         "offsetgroup": "Match profiler",
         "orientation": "h",
         "showlegend": true,
         "textposition": "auto",
         "type": "bar",
         "x": [
          668
         ],
         "xaxis": "x",
         "y": [
          "Match profiler"
         ],
         "yaxis": "y"
        },
        {
         "alignmentgroup": "True",
         "hovertemplate": "Company=%{y}<br>Total=%{x}<extra></extra>",
         "legendgroup": "Integer consulting",
         "marker": {
          "color": "#FF97FF",
          "pattern": {
           "shape": ""
          }
         },
         "name": "Integer consulting",
         "offsetgroup": "Integer consulting",
         "orientation": "h",
         "showlegend": true,
         "textposition": "auto",
         "type": "bar",
         "x": [
          664
         ],
         "xaxis": "x",
         "y": [
          "Integer consulting"
         ],
         "yaxis": "y"
        },
        {
         "alignmentgroup": "True",
         "hovertemplate": "Company=%{y}<br>Total=%{x}<extra></extra>",
         "legendgroup": "Neotalent",
         "marker": {
          "color": "#FECB52",
          "pattern": {
           "shape": ""
          }
         },
         "name": "Neotalent",
         "offsetgroup": "Neotalent",
         "orientation": "h",
         "showlegend": true,
         "textposition": "auto",
         "type": "bar",
         "x": [
          626
         ],
         "xaxis": "x",
         "y": [
          "Neotalent"
         ],
         "yaxis": "y"
        }
       ],
       "layout": {
        "barmode": "relative",
        "legend": {
         "title": {
          "text": "Company"
         },
         "tracegroupgap": 0
        },
        "template": {
         "data": {
          "bar": [
           {
            "error_x": {
             "color": "#2a3f5f"
            },
            "error_y": {
             "color": "#2a3f5f"
            },
            "marker": {
             "line": {
              "color": "#E5ECF6",
              "width": 0.5
             },
             "pattern": {
              "fillmode": "overlay",
              "size": 10,
              "solidity": 0.2
             }
            },
            "type": "bar"
           }
          ],
          "barpolar": [
           {
            "marker": {
             "line": {
              "color": "#E5ECF6",
              "width": 0.5
             },
             "pattern": {
              "fillmode": "overlay",
              "size": 10,
              "solidity": 0.2
             }
            },
            "type": "barpolar"
           }
          ],
          "carpet": [
           {
            "aaxis": {
             "endlinecolor": "#2a3f5f",
             "gridcolor": "white",
             "linecolor": "white",
             "minorgridcolor": "white",
             "startlinecolor": "#2a3f5f"
            },
            "baxis": {
             "endlinecolor": "#2a3f5f",
             "gridcolor": "white",
             "linecolor": "white",
             "minorgridcolor": "white",
             "startlinecolor": "#2a3f5f"
            },
            "type": "carpet"
           }
          ],
          "choropleth": [
           {
            "colorbar": {
             "outlinewidth": 0,
             "ticks": ""
            },
            "type": "choropleth"
           }
          ],
          "contour": [
           {
            "colorbar": {
             "outlinewidth": 0,
             "ticks": ""
            },
            "colorscale": [
             [
              0,
              "#0d0887"
             ],
             [
              0.1111111111111111,
              "#46039f"
             ],
             [
              0.2222222222222222,
              "#7201a8"
             ],
             [
              0.3333333333333333,
              "#9c179e"
             ],
             [
              0.4444444444444444,
              "#bd3786"
             ],
             [
              0.5555555555555556,
              "#d8576b"
             ],
             [
              0.6666666666666666,
              "#ed7953"
             ],
             [
              0.7777777777777778,
              "#fb9f3a"
             ],
             [
              0.8888888888888888,
              "#fdca26"
             ],
             [
              1,
              "#f0f921"
             ]
            ],
            "type": "contour"
           }
          ],
          "contourcarpet": [
           {
            "colorbar": {
             "outlinewidth": 0,
             "ticks": ""
            },
            "type": "contourcarpet"
           }
          ],
          "heatmap": [
           {
            "colorbar": {
             "outlinewidth": 0,
             "ticks": ""
            },
            "colorscale": [
             [
              0,
              "#0d0887"
             ],
             [
              0.1111111111111111,
              "#46039f"
             ],
             [
              0.2222222222222222,
              "#7201a8"
             ],
             [
              0.3333333333333333,
              "#9c179e"
             ],
             [
              0.4444444444444444,
              "#bd3786"
             ],
             [
              0.5555555555555556,
              "#d8576b"
             ],
             [
              0.6666666666666666,
              "#ed7953"
             ],
             [
              0.7777777777777778,
              "#fb9f3a"
             ],
             [
              0.8888888888888888,
              "#fdca26"
             ],
             [
              1,
              "#f0f921"
             ]
            ],
            "type": "heatmap"
           }
          ],
          "heatmapgl": [
           {
            "colorbar": {
             "outlinewidth": 0,
             "ticks": ""
            },
            "colorscale": [
             [
              0,
              "#0d0887"
             ],
             [
              0.1111111111111111,
              "#46039f"
             ],
             [
              0.2222222222222222,
              "#7201a8"
             ],
             [
              0.3333333333333333,
              "#9c179e"
             ],
             [
              0.4444444444444444,
              "#bd3786"
             ],
             [
              0.5555555555555556,
              "#d8576b"
             ],
             [
              0.6666666666666666,
              "#ed7953"
             ],
             [
              0.7777777777777778,
              "#fb9f3a"
             ],
             [
              0.8888888888888888,
              "#fdca26"
             ],
             [
              1,
              "#f0f921"
             ]
            ],
            "type": "heatmapgl"
           }
          ],
          "histogram": [
           {
            "marker": {
             "pattern": {
              "fillmode": "overlay",
              "size": 10,
              "solidity": 0.2
             }
            },
            "type": "histogram"
           }
          ],
          "histogram2d": [
           {
            "colorbar": {
             "outlinewidth": 0,
             "ticks": ""
            },
            "colorscale": [
             [
              0,
              "#0d0887"
             ],
             [
              0.1111111111111111,
              "#46039f"
             ],
             [
              0.2222222222222222,
              "#7201a8"
             ],
             [
              0.3333333333333333,
              "#9c179e"
             ],
             [
              0.4444444444444444,
              "#bd3786"
             ],
             [
              0.5555555555555556,
              "#d8576b"
             ],
             [
              0.6666666666666666,
              "#ed7953"
             ],
             [
              0.7777777777777778,
              "#fb9f3a"
             ],
             [
              0.8888888888888888,
              "#fdca26"
             ],
             [
              1,
              "#f0f921"
             ]
            ],
            "type": "histogram2d"
           }
          ],
          "histogram2dcontour": [
           {
            "colorbar": {
             "outlinewidth": 0,
             "ticks": ""
            },
            "colorscale": [
             [
              0,
              "#0d0887"
             ],
             [
              0.1111111111111111,
              "#46039f"
             ],
             [
              0.2222222222222222,
              "#7201a8"
             ],
             [
              0.3333333333333333,
              "#9c179e"
             ],
             [
              0.4444444444444444,
              "#bd3786"
             ],
             [
              0.5555555555555556,
              "#d8576b"
             ],
             [
              0.6666666666666666,
              "#ed7953"
             ],
             [
              0.7777777777777778,
              "#fb9f3a"
             ],
             [
              0.8888888888888888,
              "#fdca26"
             ],
             [
              1,
              "#f0f921"
             ]
            ],
            "type": "histogram2dcontour"
           }
          ],
          "mesh3d": [
           {
            "colorbar": {
             "outlinewidth": 0,
             "ticks": ""
            },
            "type": "mesh3d"
           }
          ],
          "parcoords": [
           {
            "line": {
             "colorbar": {
              "outlinewidth": 0,
              "ticks": ""
             }
            },
            "type": "parcoords"
           }
          ],
          "pie": [
           {
            "automargin": true,
            "type": "pie"
           }
          ],
          "scatter": [
           {
            "marker": {
             "colorbar": {
              "outlinewidth": 0,
              "ticks": ""
             }
            },
            "type": "scatter"
           }
          ],
          "scatter3d": [
           {
            "line": {
             "colorbar": {
              "outlinewidth": 0,
              "ticks": ""
             }
            },
            "marker": {
             "colorbar": {
              "outlinewidth": 0,
              "ticks": ""
             }
            },
            "type": "scatter3d"
           }
          ],
          "scattercarpet": [
           {
            "marker": {
             "colorbar": {
              "outlinewidth": 0,
              "ticks": ""
             }
            },
            "type": "scattercarpet"
           }
          ],
          "scattergeo": [
           {
            "marker": {
             "colorbar": {
              "outlinewidth": 0,
              "ticks": ""
             }
            },
            "type": "scattergeo"
           }
          ],
          "scattergl": [
           {
            "marker": {
             "colorbar": {
              "outlinewidth": 0,
              "ticks": ""
             }
            },
            "type": "scattergl"
           }
          ],
          "scattermapbox": [
           {
            "marker": {
             "colorbar": {
              "outlinewidth": 0,
              "ticks": ""
             }
            },
            "type": "scattermapbox"
           }
          ],
          "scatterpolar": [
           {
            "marker": {
             "colorbar": {
              "outlinewidth": 0,
              "ticks": ""
             }
            },
            "type": "scatterpolar"
           }
          ],
          "scatterpolargl": [
           {
            "marker": {
             "colorbar": {
              "outlinewidth": 0,
              "ticks": ""
             }
            },
            "type": "scatterpolargl"
           }
          ],
          "scatterternary": [
           {
            "marker": {
             "colorbar": {
              "outlinewidth": 0,
              "ticks": ""
             }
            },
            "type": "scatterternary"
           }
          ],
          "surface": [
           {
            "colorbar": {
             "outlinewidth": 0,
             "ticks": ""
            },
            "colorscale": [
             [
              0,
              "#0d0887"
             ],
             [
              0.1111111111111111,
              "#46039f"
             ],
             [
              0.2222222222222222,
              "#7201a8"
             ],
             [
              0.3333333333333333,
              "#9c179e"
             ],
             [
              0.4444444444444444,
              "#bd3786"
             ],
             [
              0.5555555555555556,
              "#d8576b"
             ],
             [
              0.6666666666666666,
              "#ed7953"
             ],
             [
              0.7777777777777778,
              "#fb9f3a"
             ],
             [
              0.8888888888888888,
              "#fdca26"
             ],
             [
              1,
              "#f0f921"
             ]
            ],
            "type": "surface"
           }
          ],
          "table": [
           {
            "cells": {
             "fill": {
              "color": "#EBF0F8"
             },
             "line": {
              "color": "white"
             }
            },
            "header": {
             "fill": {
              "color": "#C8D4E3"
             },
             "line": {
              "color": "white"
             }
            },
            "type": "table"
           }
          ]
         },
         "layout": {
          "annotationdefaults": {
           "arrowcolor": "#2a3f5f",
           "arrowhead": 0,
           "arrowwidth": 1
          },
          "autotypenumbers": "strict",
          "coloraxis": {
           "colorbar": {
            "outlinewidth": 0,
            "ticks": ""
           }
          },
          "colorscale": {
           "diverging": [
            [
             0,
             "#8e0152"
            ],
            [
             0.1,
             "#c51b7d"
            ],
            [
             0.2,
             "#de77ae"
            ],
            [
             0.3,
             "#f1b6da"
            ],
            [
             0.4,
             "#fde0ef"
            ],
            [
             0.5,
             "#f7f7f7"
            ],
            [
             0.6,
             "#e6f5d0"
            ],
            [
             0.7,
             "#b8e186"
            ],
            [
             0.8,
             "#7fbc41"
            ],
            [
             0.9,
             "#4d9221"
            ],
            [
             1,
             "#276419"
            ]
           ],
           "sequential": [
            [
             0,
             "#0d0887"
            ],
            [
             0.1111111111111111,
             "#46039f"
            ],
            [
             0.2222222222222222,
             "#7201a8"
            ],
            [
             0.3333333333333333,
             "#9c179e"
            ],
            [
             0.4444444444444444,
             "#bd3786"
            ],
            [
             0.5555555555555556,
             "#d8576b"
            ],
            [
             0.6666666666666666,
             "#ed7953"
            ],
            [
             0.7777777777777778,
             "#fb9f3a"
            ],
            [
             0.8888888888888888,
             "#fdca26"
            ],
            [
             1,
             "#f0f921"
            ]
           ],
           "sequentialminus": [
            [
             0,
             "#0d0887"
            ],
            [
             0.1111111111111111,
             "#46039f"
            ],
            [
             0.2222222222222222,
             "#7201a8"
            ],
            [
             0.3333333333333333,
             "#9c179e"
            ],
            [
             0.4444444444444444,
             "#bd3786"
            ],
            [
             0.5555555555555556,
             "#d8576b"
            ],
            [
             0.6666666666666666,
             "#ed7953"
            ],
            [
             0.7777777777777778,
             "#fb9f3a"
            ],
            [
             0.8888888888888888,
             "#fdca26"
            ],
            [
             1,
             "#f0f921"
            ]
           ]
          },
          "colorway": [
           "#636efa",
           "#EF553B",
           "#00cc96",
           "#ab63fa",
           "#FFA15A",
           "#19d3f3",
           "#FF6692",
           "#B6E880",
           "#FF97FF",
           "#FECB52"
          ],
          "font": {
           "color": "#2a3f5f"
          },
          "geo": {
           "bgcolor": "white",
           "lakecolor": "white",
           "landcolor": "#E5ECF6",
           "showlakes": true,
           "showland": true,
           "subunitcolor": "white"
          },
          "hoverlabel": {
           "align": "left"
          },
          "hovermode": "closest",
          "mapbox": {
           "style": "light"
          },
          "paper_bgcolor": "white",
          "plot_bgcolor": "#E5ECF6",
          "polar": {
           "angularaxis": {
            "gridcolor": "white",
            "linecolor": "white",
            "ticks": ""
           },
           "bgcolor": "#E5ECF6",
           "radialaxis": {
            "gridcolor": "white",
            "linecolor": "white",
            "ticks": ""
           }
          },
          "scene": {
           "xaxis": {
            "backgroundcolor": "#E5ECF6",
            "gridcolor": "white",
            "gridwidth": 2,
            "linecolor": "white",
            "showbackground": true,
            "ticks": "",
            "zerolinecolor": "white"
           },
           "yaxis": {
            "backgroundcolor": "#E5ECF6",
            "gridcolor": "white",
            "gridwidth": 2,
            "linecolor": "white",
            "showbackground": true,
            "ticks": "",
            "zerolinecolor": "white"
           },
           "zaxis": {
            "backgroundcolor": "#E5ECF6",
            "gridcolor": "white",
            "gridwidth": 2,
            "linecolor": "white",
            "showbackground": true,
            "ticks": "",
            "zerolinecolor": "white"
           }
          },
          "shapedefaults": {
           "line": {
            "color": "#2a3f5f"
           }
          },
          "ternary": {
           "aaxis": {
            "gridcolor": "white",
            "linecolor": "white",
            "ticks": ""
           },
           "baxis": {
            "gridcolor": "white",
            "linecolor": "white",
            "ticks": ""
           },
           "bgcolor": "#E5ECF6",
           "caxis": {
            "gridcolor": "white",
            "linecolor": "white",
            "ticks": ""
           }
          },
          "title": {
           "x": 0.05
          },
          "xaxis": {
           "automargin": true,
           "gridcolor": "white",
           "linecolor": "white",
           "ticks": "",
           "title": {
            "standoff": 15
           },
           "zerolinecolor": "white",
           "zerolinewidth": 2
          },
          "yaxis": {
           "automargin": true,
           "gridcolor": "white",
           "linecolor": "white",
           "ticks": "",
           "title": {
            "standoff": 15
           },
           "zerolinecolor": "white",
           "zerolinewidth": 2
          }
         }
        },
        "title": {
         "text": "Top 10 job posting companies in Portugal"
        },
        "xaxis": {
         "anchor": "y",
         "domain": [
          0,
          1
         ],
         "title": {
          "text": "Total"
         }
        },
        "yaxis": {
         "anchor": "x",
         "categoryarray": [
          "Neotalent",
          "Integer consulting",
          "Match profiler",
          "Adecco - recursos humanos",
          "Randstad",
          "Kelly services",
          "Yupi!",
          "Randstad portugal",
          "Dellent",
          "Anónimo"
         ],
         "categoryorder": "array",
         "domain": [
          0,
          1
         ],
         "title": {
          "text": "Company"
         },
         "type": "category"
        }
       }
      }
     },
     "metadata": {},
     "output_type": "display_data"
    }
   ],
   "source": [
    "import numpy as np\n",
    "df_eda['company'] = df_eda.company.replace('', np.nan)\n",
    "companies_df = pd.DataFrame(df_eda.company.value_counts().sort_values(ascending=False)) \\\n",
    "    .reset_index().rename(columns={'company':'Total', 'index':'Company'})[:10]\n",
    "fig = px.bar(companies_df, 'Total', 'Company', color='Company', title=\"Top 10 job posting companies in Portugal\")\n",
    "fig.update_yaxes(type='category')\n",
    "fig.show()"
   ]
  },
  {
   "cell_type": "code",
   "execution_count": 116,
   "metadata": {},
   "outputs": [
    {
     "name": "stdout",
     "output_type": "stream",
     "text": [
      "Lisbon\n",
      "Alcochete\n",
      "Lisboa\n",
      "Lisboa, Benfica\n",
      "Taguspark | Porto Salvo\n",
      "Guimarães\n",
      "Sintra (junto ao Taguspark)\n",
      "Porto\n",
      "Centro de Lisboa\n",
      "Aveiro district\n",
      "Braga\n",
      "Vila Nova de Famalicão (a distancia)\n",
      "Estoril\n",
      "Oeiras\n",
      "Ermesinde – Porto\n",
      "Lisboa/Odivelas\n",
      "Vila Nova de Famalicão\n",
      "Almada\n",
      "Paredes\n",
      "LISBOA\n",
      "Vila Nova de Gaia\n",
      "Remoto / Lisboa\n",
      "Maia\n",
      "Amadora\n",
      "Porto – Matosinhos\n",
      "Pataias – Alcobaça\n",
      "Coimbra/ Porto/ Aveiro/ Leiria\n",
      "Amares, Braga\n",
      "Carnaxide\n",
      "Zona centro\n",
      "Aveiro\n",
      "Beja – Albernoa\n",
      "Setúbal\n",
      "Lousã\n",
      "Trofa\n",
      "n/a\n",
      "Linhó – Sintra\n",
      "Matosinhos\n",
      "LISBOA – TELHEIRAS\n",
      "Qualquer\n",
      "Algarve-Almancil\n",
      "Zona Grande Lisboa\n",
      "PORTO\n",
      "Remote Work Offer\n",
      "Cascais; Lisboa e Sintra e Algarve\n",
      "Todo o País\n",
      "Albufeira\n",
      "São Domingos de Rana, Cascais\n",
      "Santa Maria da Feira\n",
      "Portugal\n",
      "AVEIRO\n",
      "Carnaxide (Parque Suécia)\n",
      "Santo Tirso\n",
      "Marques de Pombal\n",
      "Rio Tinto, Gondomar\n",
      "Guarda, Castelo Branco, Covilhã, Tomar, Abrantes, Santarém, Bragança (Portugal)\n",
      "Sintra\n",
      "Miraflores\n",
      "lisboa\n",
      "Grande Porto\n",
      "Torres Vedras\n",
      "Entrecampos, Lisboa\n",
      "Linda-a-Velha\n",
      "Peniche e Óbidos\n",
      "Parque das Nações, Lisboa\n",
      "Cacém\n",
      "Leiria\n",
      "Amarante\n",
      "Santo Tirso, Porto\n",
      "Lisboa – Alfragide\n",
      "Marvila, Lisboa\n",
      "Beato, Lisboa\n",
      "Lisboa e Porto\n",
      "Loures\n",
      "Lisboa e todo o País\n",
      "MOITA   _ Setúbal\n",
      "Sacavem\n",
      "Moita  _ Setúbal\n",
      "Gondomar\n",
      "Lisbon, Oeiras\n",
      "MOITA  _ Setúbal\n",
      "ODIVELAS\n",
      "Cascais\n",
      "Águeda\n",
      "S. Domingos de Rana\n",
      "Madeira\n",
      "Ponte de Lima\n",
      "Porto / Portugal\n",
      "Lumiar/Lisboa\n",
      "MIraflores – Lisboa\n",
      "Penafiel\n",
      "Av. da Liberdade / Mq. Pombal – Lisboa\n",
      "Carnaxide( Lisboa)\n",
      "Lisboa ou Torres Vedras\n",
      "Av. da Liberdade/Mq. de Pombal – LISBOA\n",
      "Alfragide, Lisboa\n",
      "Elvas\n",
      "Faro – Algarve\n",
      "Faro\n",
      "Luanda / Lisboa\n",
      "Coimbra\n",
      "Eixo, AVEIRO\n",
      "Lisboa (Marvila)\n",
      "Portugal – Lisboa\n",
      "Taguspark\n",
      "Remoto\n",
      "Todos o País\n",
      "Zona de Braga\n",
      "Oliveira de Azeméis\n",
      "Porto, Portugal\n",
      "Lisboa – Prior Velho\n",
      "Póvoa de Varzim\n",
      "São Julião do Tojal, Loures\n",
      "Alcobaça\n",
      "Barreiro, Setúbal\n",
      "ALBERGARIA-A-VELHA\n",
      "Lisbao\n",
      "Odivelas\n",
      "Santos, Lisboa\n",
      "Grande Lisboa\n",
      "Remote\n",
      "Setubal\n",
      "Portimão\n",
      "Rio Tinto\n",
      "Guidões – Trofa\n",
      "Lisboa – Palácio Sottomayor\n",
      "Porto e etc\n",
      "São Félix da Marinha\n",
      "Paços de Ferreira\n",
      "Vila Nova de Gaia – Porto\n",
      "Serpa\n",
      "Olhão\n",
      "Rio de Mouro\n",
      "Miraflores, Algés\n",
      "Loulé\n",
      "Sertã\n",
      "Lisboa – Benfica\n",
      "Mafra\n",
      "Caldas da Rainha e/ou Lisboa\n",
      "Braço de Prata, Lisboa\n",
      "Lisboa – Marquês de Pombal\n",
      "A partir de casa\n",
      "Tomar\n",
      "Madrid, Espanha\n",
      "Fátima\n",
      "Lisbon / Other\n",
      "Lisboa centro\n",
      "Cascais – Sintra – Algarve – Lisboa\n",
      "Taguspark / Porto Salvo / Oeiras\n",
      "Algés\n",
      "Sangalhos – Anadia – Aveiro\n",
      "ESTORIL\n",
      "Ermesinde, Porto\n",
      "Frankfurt, Alemanha\n",
      "Estoril, Cascais\n",
      "Guarda, Castelo Branco, Covilhã, Tomar, Abrantes, Santarém (Portugal)\n",
      "São Félix da Marinha – Vila Nova de Gaia\n",
      "LISBOA|Oeiras – Algés, Miraflores\n",
      "Mem Martins\n",
      "cascais\n",
      "Arouca\n",
      "Montijo\n",
      "Vialonga\n",
      "Cartaxo, Santarém\n",
      "Trabalho de casa própria\n",
      "MARVILA, LISBOA\n",
      "Alcabideche\n",
      "Bordeaux – França\n",
      "Remotamente\n",
      "Quinta Grande – Alfragide\n",
      "Portugal -remoto\n",
      "Paço de Arcos\n",
      "Queluz de Baixo, Lisboa\n",
      "Lisboa, Portugal\n",
      "VIla Nova de Gaia\n",
      "Vila Nova De Gaia\n",
      "SETÙBAL\n",
      "Parque Tecnológico de Óbidos\n",
      "Cascais / Lisboa / Sintra\n",
      "Abrunheira – Mem Martins\n",
      "Zona Norte  (1 fase )\n",
      "Vila Real\n",
      "Parque das Nações\n",
      "Viseu\n",
      "Norte a Sul\n",
      "Alcantara, Lisboa\n",
      "Marinha Grande, Leiria\n",
      "Lisbon, Remote\n",
      "VISEU\n",
      "Guimaraes\n",
      "Figueira da Foz\n",
      "Cidade da Maia\n",
      "Porto (Portugal)\n",
      "Lisboa, Avenida da Liberdade\n",
      "Vale de Cambra\n",
      "Saldanha e Amoreiras\n",
      "Lisboa ou Margem Sul\n",
      "Lisboa- Cais do Sodré\n",
      "grande porto\n",
      "Lisboa – Paço do Lumiar\n",
      "Local: Lisboa/Porto/Londres/São Paulo\n",
      "Vila do Conde\n",
      "MONTE ESTORIL- CASCAIS\n",
      "Porto Salvo Oeiras\n",
      "Esposende\n",
      "6290 Gouveia\n",
      "carnaxide, Lisboa\n",
      "Tagus Park\n",
      "Vila-Nova-Gaia\n",
      "Carcavelos – Cascais\n",
      "Almada-Seixal\n",
      "Rebordosa, Paredes\n",
      "Portugal Continental e Ilhas\n",
      "Lisboa / Arredores\n",
      "Zona Grande Porto\n",
      "Zona Lisboa\n",
      "Nazaré\n",
      "The Netherlands &amp; Belgium\n",
      "Miraflores – Algés\n",
      "AGUALVA – SINTRA\n",
      "Porto Salvo, Oeiras\n",
      "Lisboa – Porto Salvo\n",
      "Alegro Sintra\n",
      "Prior Velho, Lisboa\n",
      "ABRUNHEIRA\n",
      "Marvila :: Lisboa\n",
      "Braga – VN Famalicão\n",
      "área metropolitana de lisboa\n",
      "LISBOA/ LUMIAR\n",
      "Palmela\n",
      "The Netherlands\n",
      "trofa\n",
      "Agência de comunicação\n",
      "Santo tirso\n",
      "Antanhol, Coimbra\n",
      "Algarve\n",
      "Matosinhos / Porto\n",
      "MERCADO A NORTE DO RIO DOURO\n",
      "VN Gaia\n",
      "Lisboa- Cascais – Sintra\n",
      "Tagus Park, Oeiras\n",
      "Carnide\n",
      "Almada, distrito de Setúbal\n",
      "Miraflores; Lisboa\n",
      "Lisbon, Portugal\n",
      "Quinta da Beloura, Sintra\n",
      "Óbidos\n",
      "Sofia, Bulgaria\n",
      "BRAGA\n",
      "Parque das Nações-Lisboa\n",
      "Vila Nova de Famalicao\n",
      "Todo o país\n",
      "Valongo\n",
      "leiria/ remoto\n",
      "ALGARVE\n",
      "LISBOA/CASCAIS/SINTRA\n",
      "Lisboa – Remote\n",
      "Linda-a-Velha, Lisboa\n",
      "Murtede, Coimbra\n",
      "Remote, Portugal\n",
      "Nacional\n",
      "Work From Home\n",
      "Portugal inteiro\n",
      "Gandra, Paredes\n",
      "Flexível\n",
      "Funchal, Madeira\n",
      "Teletrabalho\n",
      "Europa\n",
      "Madrid\n",
      "Londres\n",
      "Costa da Caparica\n",
      "Lisboa, Coimbra\n",
      "qualquer zona do país com preferência por Lisboa\n",
      "Lisboa / remote\n",
      "Lisbon or Remote\n",
      "Região Norte\n",
      "Lisboa – Amoreiras\n",
      "Almancil\n",
      "Cortegaça\n",
      "Portugal e estrangeiro\n",
      "Atenas, Grécia\n",
      "Praia de Valadares (Gaia)\n",
      "home office\n",
      "Selho S. Jorge – Pevidem\n",
      "Feira\n",
      "Remote/Lisboa\n",
      "Da própria casa\n",
      "Oeiras / Porto Salvo\n",
      "Alfragide\n",
      "Norte  (Minho – Braga preferencialmente)\n",
      "Leiria | Lisboa | Remoto\n",
      "Alcantara – Lisboa\n",
      "Trabalho remoto\n",
      "Leiria | Lisboa  Remoto\n",
      "Aveleda, Vila do Conde\n",
      "Em qualquer lugar\n",
      "Eindhoven (The Netherlands)\n",
      "Online\n",
      "Alés\n",
      "Região de Lisboa e Lisboa e Vale do Tejo\n",
      "Mealhada\n",
      "Oeiras – Lisboas\n",
      "Gouveia\n",
      "Freelancer\n",
      "Vila nova de Gaia\n",
      "algarve\n",
      "Torres Vedras ou Lisboa\n",
      "Distrito de Setúbal\n",
      "LEIRIA e COIMBRA\n",
      "Vila Nova de Famalicão, Braga\n",
      "São João de Vêr\n",
      "Global\n",
      "Sacavém\n",
      "teletrabalho\n",
      "Região do Algarve\n",
      "LEIRIA\n",
      "Algoz\n",
      "Sao Joao de Ver\n",
      "Rio de Mouro – Sintra\n",
      "Porto, Maia\n",
      "Oeiras / Remote\n",
      "Viana do Castelo\n",
      "Cartaxo, Portugal\n",
      "Leça do Balio\n",
      "Leiria, Santarém ou Lisboa\n",
      "Carcavelos, Portugal\n",
      "Albergaria-a-Velha\n",
      "Lisboa / Margem Sul\n",
      "R. Pedro Homem de Melo 389, 4150-331 Porto\n",
      "PORTO, LISBOA E ALGARVE\n",
      "Marcelo / Vila do Conde / Vila Nova de Famalic-ao\n",
      "Porto – Ermesinde\n",
      "Lisboa / Sintra\n",
      "Oportunidade trabalho remoto\n",
      "Frankfurt am Main, Alemanha\n",
      "Palmela, Setúbal\n",
      "Aveiro, PT\n",
      "Lisboa / Cascais / Sintra\n",
      "VILA NOVA DE FAMALICÃO\n",
      "Matosinhos; Porto\n",
      "Matosinhos;Porto\n",
      "Benedita, Alcobaça\n",
      "matosinhos; porto\n",
      "Quinta da Beloura – Sintra\n",
      "Taguspark – Oeiras / Remoto\n",
      "Lisboa/Cascais/Sintra\n",
      "Portugal / Reino Unido ( tele-estágio)\n",
      "AVEIRO / Oliveira do Bairro\n",
      "Espinho\n",
      "Lisboa – belém\n",
      "Litoral Alentejano\n",
      "Soure – Coimbra\n",
      "Cascais, Alcabideche\n",
      "Remota\n",
      "Portugal – Zona Centro\n",
      "Lisbon (Parque das Nações, Oriente)\n",
      "Lisboa/Cascais/Oeiras/Sintra/ Algarve\n",
      "Lisbon or Covilhã\n",
      "Porto / Braga\n",
      "Mangualde / Viseu\n",
      "Porto – Maia\n",
      "Lisboa – Parque das Nações\n",
      "Queijas – Oeiras\n",
      "Moita   _ Setúbal\n",
      "Seixal-Lisboa\n",
      "Lisboa ou outro\n",
      "Angola\n",
      "OEIRAS | Taguspark\n",
      "Almada / Remoto\n",
      "Rio Tinto, Porto\n",
      "Indiferente [trabalho remoto]\n",
      "Ramadfa\n",
      "RIBEIRÃO – V.N.F\n",
      "Mira, Coimbra\n",
      "Santarém\n",
      "Lisboa e Margem Sul do Tejo\n",
      "Matosinhos, Porto\n",
      "Àrea de Lisboa\n",
      "online\n",
      "Idanha-a-Nova\n",
      "avenida europa 633, aveiro\n",
      "PORTO – AGUAS SANTAS / MAIA\n",
      "Lumiar\n",
      "Água Longa – Santo Tirso\n",
      "Póvoa de Santa Iria\n",
      "Proença-a-Nova\n",
      "Ponta Delgada\n",
      "Porto/remoto\n",
      "Prior Velho\n",
      "Ermesinde – Valongo – Porto\n",
      "Oliveira de Azeméis; Aveiro; Gaia; Guarda; Lisboa\n",
      "porto\n",
      "Montemor-o-Novo\n",
      "Aveiro – Oliveira do Bairro\n",
      "Porto, Rio Tinto\n",
      "Maia – Porto\n",
      "aveiro\n",
      "REMOTO / ESTORIL\n",
      "Alcântara, Lisboa\n",
      "Cascais e Oeiras\n",
      "Cesar\n",
      "Todas as zonas\n",
      "Lisboa e Vale do Tejo\n",
      "Amadora; Lisboa\n",
      "São Domingos de Rana\n",
      "remoto\n",
      "Évora\n",
      "Lisboa – Graça\n",
      "Portugal (Remote)\n",
      "Ovar\n",
      "Braga, VN Famalicão\n",
      "Miraflores – Lisboa\n",
      "Seixal\n",
      "Carregado\n",
      "Santos, Lisboa, Portugal\n",
      "Marco de Canaveses\n",
      "Soza – Vagos (Aveiro)\n",
      "Península de Setúbal\n",
      "Indiferente\n",
      "Região de Lisboa\n",
      "Braga/Porto\n",
      "Póvoa de Lanhoso\n",
      "Póvoa de Santa Iria – Lisboa\n",
      "Talaíde / Oeiras\n",
      "Avenida D. Carlos I, Nº 44, 5º Andar 1200-649 Lisboa\n",
      "Alvalade\n",
      "Braga Parque\n",
      "Vale de Ourem, Batalha\n",
      "Lisboa (Saldanha)\n",
      "aveiro centro\n",
      "Home-Office\n",
      "SEIXAL\n",
      "Pinhal Novo – Setúbal\n",
      "indiferente\n",
      "Barrosas – St. Estevão – Lousada\n",
      "Porto de Mós, Leiria\n",
      "Lisboa/ ou outra região\n",
      "Beja\n",
      "Obidos-Leiria-Santarém\n",
      "ALB-A-VELHA – AVEIRO\n",
      "Aveiro, Viseu\n",
      "Lisboa / Remoto\n",
      "Viela da Beloura 7, Quinta da Beloura, Sintra\n",
      "São Marcos (próximo do Taguspark)\n",
      "ALVALADE\n",
      "Boavista, Porto\n",
      "Norte | Porto\n",
      "Valadares, Vila Nova de Gaia\n",
      "Todo o País (Elearning)\n",
      "Ílhavo- Aveiro – remote working\n",
      "Lisboa / teletrabalho\n",
      "Concelho de Sintra\n",
      "Centro Escritórios Bela Vista Office – Estrada de Paço de Arcos, nº 66 2735-336 Cacém\n",
      "– Zona Oeiras, Aboboda/Sintra\n",
      "Setúbal, Palmela\n",
      "VIANA CASTELO\n",
      "Piquete\n",
      "Vila Nova de Gaia, Porto\n",
      "Porto Coimbra Braga Aveiro Vila Real Viseu\n",
      "Porto e Naciona\n",
      "Lisboa – Alto de São João\n",
      "Região de Setúbal\n",
      "Leça da Palmeira\n",
      "Paços de ferreira\n",
      "Moita\n",
      "Porto – Rio Tinto\n",
      "Lisboa (remoto)\n",
      "Médio Oriente\n",
      "porto, vila nova de gaia (junto ao el corte ingles)\n",
      "Vila Nova da Barquinha\n",
      "Pinhal Novo, Palmela\n",
      "Porto (Vila Nova de Gaia)\n",
      "A definir\n",
      "Válega – Ovar\n",
      "Barcelos\n",
      "Perafita\n",
      "Carnaxide, Lisboa, Portugal\n",
      "Ramalde\n",
      "Odivelas – Lisboa\n",
      "Bob\n",
      "Lordelo GMR\n",
      "Montemor o Novo\n",
      "GRANDE PORTO – MAIA\n",
      "Linha de Sintra\n",
      "Queluz\n",
      "Lisboa, Queluz\n",
      "Lisboa – Ajuda\n",
      "Oeiras (Lisboa)\n",
      "Amoreira da Gândara – Anadia (Aveiro)\n",
      "GRANDE LISBOA\n",
      "Vila do  Conde\n",
      "Barreiro\n",
      "Maia, Porto\n",
      "Guarda\n",
      "nacional\n",
      "Salvaterra de Magos\n",
      "Estúdio Margem Sul Tejo\n",
      "Odivelas, Lisboa\n",
      "Oeiras / Remoto\n",
      "Bragança\n",
      "Lisboa – Alcântara\n",
      "None\n",
      "Portalegre\n",
      "Abrantes – Santarém\n",
      "Castelo Branco\n",
      "Braga, Portugal\n",
      "Portugal (preferencialmente zona Centro/Norte)\n",
      "Perafita – Matosinhos\n",
      "Agueda\n",
      "Concelhos de Palmela e Setúbal\n",
      "Montemor-o-Velho\n",
      "GUIMARÃES\n",
      "Porto – Rua Gonçalo Cristóvão, 309\n",
      "Miraflores (Lisboa)\n",
      "Lisboa / remoto\n",
      "porto, vila nova de gaia\n",
      "França\n",
      "Reino Unido\n",
      "Dinamarca\n",
      "ONLINE\n",
      "Açores\n",
      "seixal\n",
      "Moninhos – Loures\n",
      "Lisboa ou Covilhã\n",
      "Malveira, Mafra\n",
      "Portugal (todas as cidades)\n",
      "setubal\n",
      "viana castelo\n",
      "Vilamoura-Algarve\n",
      "Lisboa / Paço de Arcos (actualmente parcialmente remoto)\n",
      "Lisboa – Pavilhão do Conhecimento\n",
      "Lisboa (ou remoto)\n",
      "Foz do Douro – Porto\n",
      "Anadia\n",
      "SA\n",
      "Lisboa (Remote)\n",
      "Albergaria-A-Velha\n",
      "Anywhere\n",
      "Manique, Cascais\n",
      "Mindelo\n",
      "sintra\n",
      "SINTRA\n",
      "Lisboa | Parque das Nações\n",
      "Trabalho Remoto\n",
      "Malveira\n",
      "Bélem, Lisboa\n",
      "Caldas da Rainha\n",
      "Lagoa – Algarve\n",
      "Porto – Leça do Balio\n",
      "Apúlia – Braga\n",
      "Portugal / The Netherlands\n",
      "Paço d Arcos\n",
      "Lisboa/Remote\n",
      "Lisbon / Remote\n",
      "Remote + Lisbon, Portugal\n",
      "Óbidos/Teletrabalho\n",
      "Oeiras ou Porto\n",
      "Lisboa ou Porto\n",
      "Seroa- Paços de Ferreira\n",
      "Lisbon or remote\n",
      "Online – Remote\n",
      "Home Office\n",
      "Lisboa – Marvila\n",
      "Portugal (trabalho remoto)\n",
      "Valongo | Porto\n",
      "Portugal (remoto)\n",
      "Distrito de Viseu\n",
      "Braga, Guimarães e Fafe\n",
      "Sul de Portugal\n",
      "Algés, Linda-a-Velha\n",
      "Lisboa – Remoto\n",
      "São João da Madeira\n",
      "Figueira da Foz, Coimbra\n",
      "São Miguel, Açores\n",
      "Lisboa / arredores\n",
      "Porto, Praça da Galiza\n",
      "Loures / Lumiar / Amadora\n",
      "Fátima- Ourém – Leiria\n",
      "Zona Industrial Frielas – Junto IKEA Loures\n",
      "Póvoa de Lanhoso, Braga\n",
      "PORTO | MAIA\n",
      "Porto ou Lisboa\n",
      "Barcelos / Lisboa\n",
      "TagusPark, Porto Salvo\n",
      "Sintra – Linhó\n",
      "Mangualde – Viseu\n",
      "Fafe\n",
      "Carcavelos\n",
      "Lisboa / Remote\n",
      "Oliveira do Bairro\n",
      "MAIA\n",
      "Part-Time at home\n",
      "Praça de Alvalade, Lisboa\n",
      "Dinamizador de Loja (m/f) Pardilhó\n",
      "vila nova de gaia\n",
      "remota\n",
      "Malta\n",
      "Todo o país e arredores\n",
      "faro\n",
      "Lisboa – Teletrabalho\n",
      "Cidade Universitária, Lisboa\n",
      "Lisboa – Graça (Teletrabalho)\n",
      "Lisboa/Tele trabalho\n",
      "Mira\n",
      "Concelhos de Palmela, Setúbal e Montijo\n",
      "AGUALVA CACÉM\n",
      "Lagos Algarve\n",
      "Lisboa (Graça)\n",
      "LIsboa\n",
      "Barcelos – Braga\n",
      "COIMBRA\n",
      "Albufeira – Ferreiras\n",
      "Portugal / Remote working\n",
      "Oliveira de Frades\n",
      "Marinha das Ondas\n",
      "PORTUGAL\n",
      "Full-Remote\n",
      "Athens\n",
      "Oeiiras\n",
      "Rio de Mouro, Sintra, Lisboa\n",
      "Polo Tecnológico de Lisboa\n",
      "Mostly Remote\n",
      "Águeda, Aveiro\n",
      "TELETRABALHO\n",
      "Portugal Continental\n",
      "Vila Nova da Barquinha + Tomar\n",
      "100% Remote – Portugal\n",
      "Rio tinto\n",
      "Lisboa – Remote Work\n",
      "Alvor, Portimão\n",
      "Bobadela – Junto ao Parque das Nações\n",
      "Lisbon  – Portugal\n",
      "Braga/remoto\n",
      "Vila Franca de Xira\n",
      "Região Centro\n",
      "Lisbon, Portugal (remote)\n",
      "Taguspark | Porto Salvo | Oeiras\n",
      "Lisboa (Miraflores)\n",
      "Europe_Lisbon\n",
      "Lisboa; Coimbra\n",
      "Timor-Leste\n",
      "Seixal, Setúbal\n",
      "Azeitão\n",
      "MAMODEIRO – AVEIRO\n",
      "São Pedro Fins, Maia\n",
      "Forma Remota\n",
      "Lisboa / Graça\n",
      "Ermesinde\n",
      "Saldanha\n",
      "Lisboa (teletrabalho)\n",
      "Lagoas Park – Oeiras\n",
      "Coimbra (Trabalho Remoto)\n",
      "Lisboa, Portugal + remoto\n",
      "Lisboa – Trabalho Remoto\n",
      "Suécia - Bora\n",
      "Rio Maior\n",
      "Suécia\n",
      "Oeiras, Lisboa\n",
      "TeleTrabalho\n",
      "Vila nova de gaia\n",
      "vila Nova de Gaia\n",
      "Tábua, Coimbra\n",
      "Porto (centro)\n",
      "Vialonga perto do MARL\n",
      "Vialonga perto do MARL  (+- 18 minutos de carros do centro de lisboa)\n",
      "Estarreja\n",
      "Funchal\n",
      "Home e Portela\n",
      "Torres Novas\n",
      "VILA NOVA DE GAIA\n",
      "Qualquer localização\n",
      "Lisboa, Loures Camarate\n",
      "Hídrido (Parque das Nações e Casa)\n",
      "https://goo.gl/maps/yLQ6PYRVTgj3YGA8A\n",
      "Porto, Aveiro, Coimbra, Leiria ou Lisboa\n",
      "Lisbon/Remote\n",
      "Paço d Aros\n",
      "Portugal/Belgium\n",
      "Porto or Lisbon\n",
      "Moita _ Setúbal\n",
      "Porto // Remote\n",
      "Oliveira de Azemeis\n",
      "Moita_ Setúbal\n",
      "Penafiel – Porto\n",
      "Vila Nova Famalicão\n",
      "Valongo – Sobrado\n",
      "Pombal\n",
      "Oeiras / Online\n",
      "Bulgária / Grécia\n",
      "Fully remote\n",
      "Em Casa\n",
      "Leiria, Alcobaça\n",
      "Porto – Work Remotely\n",
      "Paços de Ferreira, Porto, Portugal\n",
      "Monte Redondo – Leiria\n",
      "Aveiro, Beja. Braga, Bragança, Castelo Branco, Coimbra, Évora, Faro, Guarda, Lisboa, Portalegre, Santarém, Setúbal, Viana do Castelo, Vila Real e Viseu.\n",
      "Venda do Pinheiro\n",
      "grande lisboa\n",
      "Remote work\n",
      "ílhavo\n",
      "Online/Remoto\n",
      "Sobral Monte Agraço\n",
      "Oliveira do Bairro, Aveiro Portugal\n",
      "Porto (remote)\n",
      "VN Gaia/Porto\n",
      "Montijo e Alcochete\n",
      "Brito Guimarães\n",
      "Lisboa – Saldanha\n",
      "Viseu, Portugal\n",
      "Lisboa/Oeiras\n",
      "Lisboa – Linha Cascais\n",
      "Cabo Verde e Portugal\n",
      "No conforto do teu lar\n",
      "Vila do Conde e Teletrabalho\n",
      "Athens, Greece\n",
      "Espinho/Miramar\n",
      "Talaíde – São Domingos de Rana\n",
      "loures\n",
      "Costa Caparica\n",
      "Pinhal Novo – Palmela\n",
      "Lisboa – Full Remote\n",
      "Lisboa/Porto/Leiria\n",
      "Azambuja\n",
      "Santa Iria da Azoia\n",
      "Parede – Carcavelos\n",
      "Oliveira do Bairro (Aveiro)\n",
      "Matosinhos – Perafita (Porto)\n",
      "Lisboa (Remoto)\n",
      "Porto Lisboa\n",
      "Todo-o-país\n",
      "Sliema, Malta\n",
      "Porto / Remoto\n",
      "Porto, Valongo\n",
      "Second Home (Lisboa)\n",
      "Benfica, Lisboa\n",
      "Coimbra e Arredores\n",
      "Distrito Santarém\n",
      "Santo Tirso – Porto\n",
      "Charneca de Caparica\n",
      "TAVIRA – Portugal\n",
      "Germany\n",
      "Alfandega da Fé – Bragança\n",
      "Portugal, Alemanha, Dinamarca, Noruega, Suécia\n",
      "AVEIRO – MURTOSA\n",
      "MOITA\n",
      "Barcelos, Braga, Portugal\n",
      "Todo o País – Trabalho Remoto\n",
      "Agualva-Cacém\n",
      "Ilhavo\n",
      "Parque das Nações, Lisbon\n",
      "Ericeira / Remoto\n",
      "Monte da Caparica\n",
      "Vilela, Paredes\n",
      "Benedita\n",
      "Barcelona,Spain\n",
      "Porto ou remoto\n",
      "Queluz de Baixo\n",
      "Oeiras / Lisboa  / Online\n",
      "Carvoeiro – Algarve\n",
      "São Domingos De Rana\n",
      "Lisboa, Miraflores\n",
      "Alverca do Ribatejo\n",
      "Moita | Setúbal\n",
      "Portugal / remote\n",
      "Lisboa, Marvila\n",
      "São Martinho do Porto\n",
      "Tele Trabalho\n",
      "FRANÇA\n",
      "Monção\n",
      "Carnide / Alfragide\n",
      "Lousada\n",
      "Lousada – Stº Estevão de Barrosas\n",
      "Distrito do Porto\n",
      "Ílhavo – Aveiro\n",
      "Zona Norte\n",
      "Avintes, V.N.Gaia\n",
      "todo o mundo\n",
      "Lisboa + Remoto\n",
      "Lisboa –  Bairro Alto\n",
      "Lisboa ou Coimbra\n",
      "MOITA_Setúbal\n",
      "Funchalinho – Almada\n",
      "Porto ou remotamente\n",
      "Vandoma, Paredes\n",
      "MOITA _ Setúbal\n",
      "Valongo, Porto\n",
      "Perô Pinhiero sintra\n",
      "Porto / Teletrabalho\n",
      "Rio Meão\n",
      "Lisboa/Remoto\n",
      "Lojas do Norte do país (Foz e Leça da Palmeira)\n",
      "Sintra – Terrugem\n",
      "Poznan, Poland\n",
      "Lisboa – Cacém –\n",
      "Linha Cascais\n",
      "Poznan, Polonia\n",
      "Lisboa, Portugal.\n",
      "Lisboa/ Margem Sul\n",
      "Gaia\n",
      "Soure, Coimbra\n",
      "Espinho, Aveiro\n",
      "Aguas Livres\n",
      "Área da Grande Lisboa\n",
      "Linha de Cascais\n",
      "Cascais, Portugal\n",
      "Zona de Leiria\n",
      "Chiado – Lisboa\n",
      "Avenida da Boavista\n",
      "Cascais ou Grande Lisboa\n",
      "Lisboa; Remoto\n",
      "Oeiras E São Julião Da Barra, Paço De Arcos E Caxias, Lisboa\n",
      "PRIOR VELHO EM LISBOA\n",
      "Lisboa e Portela Sacavém\n",
      "Alfragide_Amadora\n",
      "Remoto / Odivelas\n",
      "Oliveira do Bairro (Oiã)\n",
      "CARCAVELOS\n",
      "Covilhã\n",
      "Lisbon, Porto, Leiria or remote\n",
      "Dubai, UAE\n",
      "Travessa S. Vicente (à graça)\n",
      "Remote Work\n",
      "Remote (preferencialmente desde a zona do Porto)\n",
      "Lisboa ou Aveiro\n",
      "Porto (Boavista)\n",
      "Zona Industrial da Taboeira – Aveiro\n",
      "Perafita – Porto\n",
      "Porto, Aveiro ou Remoto\n",
      "Oliveira do Bairro, Aveiro\n",
      "Remote, Vienna or Lisbon\n",
      "S. Maria da Feira\n",
      "Avenida da Liberdade, Lisboa\n",
      "Liabos\n",
      "Estoril, Lisboa\n",
      "Remoto – online\n",
      "Remote work; home office\n",
      "Cascais, Lisboa\n",
      "Caldas da Rainha – Portugal\n",
      "FREELANCER\n",
      "Lisboa / Online\n",
      "Mansores\n",
      "Irrelevante\n",
      "S. Brissos, Beja, Portugal\n",
      "Linda a Velha\n",
      "MANGUALDE/VISEU\n",
      "Carnxide\n",
      "COIMBRA/LEIRIA\n",
      "Porto de Mós – Leiria\n",
      "100% Remote\n",
      "Lisboa, Oeiras\n",
      "santo tirso\n",
      "Galiza (Espanha)\n",
      "Margem sul – Corroios\n",
      "Alcântara – Lisboa\n",
      "Monchique\n",
      "Ourém\n",
      "Porto – Remote\n",
      "Alvaiázere – Leiria\n",
      "Carcavelos / Oeiras\n",
      "Almancil / Tele-trabalho\n",
      "Lisboa | Remoto\n",
      "Lisboa / Paço de Arcos (actualmente remoto)\n",
      "Lisboa, Portugal / Remote\n",
      "São Domingos de Benfica – Lisboa\n",
      "Lisboa – Hub Creativo do Beato\n",
      "Maia, Portugal\n",
      "Lisboa – Restelo\n",
      "Ílhavo\n",
      "Várzea, Barcelos\n",
      "Ponta Delgada, São Miguel, Açores\n",
      "COIMBRA/FIG.FOZ/CANTANHEDE/MONTEMOR-O-VELHO/CONDEIXA/LOUSÃ/MIRANDA DO CORVO\n",
      "Quarteira – Vilamoura\n",
      "Batalha Centro de Cinema e Filmaporto – film comission\n",
      "Batalha Centro de Cinema\n",
      "Aldeia de Paio Pires- Seixal\n",
      "Sintra e Lisboa\n",
      "Addsolutions\n",
      "Lisboa, Saldanha.\n",
      "Cascais, Abóboda\n",
      "Braga / Póvoa de Lanhoso\n",
      "Queijas, Oeiras\n",
      "Remote (Company based in Cascais)\n",
      "Fernão Ferro Seixal\n",
      "Remoto, Lisbon\n",
      "Gaia / Porto\n",
      "Via Rota dos Móveis I 445 Fração E 4585-325 Gandra – Paredes\n",
      "São Antão do Tojal, Loures\n",
      "Todas as localizações\n",
      "Obidos\n",
      "Margem Sul do Tejo\n",
      "Carcavelos, Cascais\n",
      "Local: Matosinhos\n",
      "Vila Nova de Gaia, VNG\n",
      "Arcozelo – Vila Nova de Gaia\n",
      "Porto e Lisboa\n",
      "Lisboa/Coimbra\n",
      "Qualquer Lugar\n",
      "Faro, Portugal\n",
      "Odivelas / Lisboa\n",
      "ALCOBAÇA\n",
      "Freelancer / Teletrabalho\n",
      "Venda do Pinheiro – Lisboa\n",
      "EVORA\n",
      "\n",
      "Santa Cruz, Torres Vedras\n",
      "Internacional\n",
      "Alcobaça – Valado dos Frades\n",
      "Em regime teletrabalho\n",
      "Fátima – Lisboa\n",
      "Arquivo Histórico Municipal do Porto\n",
      "Parque das Nações – Lisbon\n",
      "Terrugem – Sintra\n",
      "Remote (Portugal)\n",
      "Portugal Continental (m/f)\n",
      "Abóbada – São Domingos Rana\n",
      "Parede São Domingos Rana\n",
      "Porto/Coimbra e Algarve\n",
      "Mêda (Distrito da Guarda)\n",
      "Felgueiras\n",
      "Murtede\n",
      "Remoto / Grande Lisboa\n",
      "Soure – Coimrbra\n",
      "Remote, within one hour drive from Lisbon\n",
      "Saldanha, Lisboa\n",
      "Alvor – Portimão\n",
      "Fernando Pó, Palmela\n",
      "POVOA DE VARZIM\n",
      "Loulé (Zona Industrial)\n",
      "Vila-do-Conde\n",
      "Zona de Lisboa, Porto e Coimbra\n",
      "MONTIJO\n",
      "Ramada, Odivelas\n",
      "Porto, Avenida da Boavista\n",
      "Lisboa e digressão\n",
      "Portugual Faro\n",
      "Tele-trabalho\n",
      "Teletrabalho / Lisboa\n",
      "Àrea de Lisboa (e não só)\n",
      "Oriente – Lisboa\n",
      "Lisboa or Porto\n",
      "Portela e Moscavide\n",
      "Salldanha\n",
      "Distrito Leiria\n",
      "Remote &amp; within 90 mins drive from Lisbon\n",
      "São Paio de Oleiros\n",
      "Abrantes\n",
      "Porto ou Home-office\n",
      "Paredes, Distrito do Porto\n",
      "Maceira – Torres Vedras\n",
      "Alverca\n",
      "Sede da Amnistia Internacional Portugal\n",
      "Lordelo, Paredes\n",
      " Braga\n",
      "Grimancelos\n",
      "Camarate\n",
      " Setúbal\n",
      "Fundão\n",
      " Bragança - Lisboa\n",
      "Póvoa\n",
      " Santarém\n",
      " Aveiro\n",
      "Meia Via\n",
      " Bragança\n",
      "Mozelos\n",
      " Lisboa\n",
      "Apúlia\n",
      " Castelo Branco\n",
      " Porto\n",
      " Leiria - Pousos\n",
      " Leiria\n",
      " Viana do Castelo\n",
      "Lanheses\n",
      "Lavradio\n",
      "Distrito de Faro\n",
      "Fernão Ferro\n",
      "Alenquer\n",
      "Vila Nova da Telha\n",
      "Vila Nova da Rainha\n",
      " AZ\n",
      " Viseu - Phoenix\n",
      "Ariz\n",
      "Vilarinho das Cambas\n",
      "Alcácer do Sal\n",
      " Setúbal - Feijó\n",
      "Benavente\n",
      "Distrito de Braga\n",
      "Cristelo Covo\n",
      "Adaúfe\n",
      " Faro\n",
      " Coimbra\n",
      "Miranda do Corvo\n",
      "Laranjeiro\n",
      "Silva Escura\n",
      "Distrito de Porto\n",
      " Guarda\n",
      " Évora - Senhora da Saúde\n",
      " Évora\n",
      " Lisboa - Cascais\n",
      "Seia\n",
      "Distrito de Lisboa\n",
      "Viana do Castelo - Vila Real\n",
      "Sines\n",
      "Bacelo\n",
      "Ansião\n",
      "Lordelo\n",
      "Guardão\n",
      " Viseu\n",
      "Sé\n",
      " Lisboa - Queijas\n",
      " Évora - Sé\n",
      " Porto - Paredes\n",
      "Gafanha da Nazaré\n",
      "Pousos\n",
      " Leiria - Barreira\n",
      "Estômbar\n",
      " Faro - Parchal\n",
      "Quiaios\n",
      "Aguada de Cima\n",
      "Vila Nova de Foz Côa\n",
      "Portugal - Portugal\n",
      "Aguda\n",
      "São Paio de Gramaços\n",
      " Aveiro - Águeda\n",
      " Coimbra - Oliveira do Hospital\n",
      "Sé e São Pedro\n",
      "Valpaços\n",
      " Vila Real\n",
      "Distrito de Aveiro\n",
      "Borralha\n",
      " Faro - Conceição\n",
      "Cabanas de Tavira\n",
      " Coimbra - Vilarinho\n",
      "Senhora da Hora e São Mamede de Infesta\n",
      "Loures – S.Julião do Tojal\n",
      "Carregosa – Oliveira de Azeméis\n",
      "Batalha\n",
      " Viana do Castelo - Monção\n",
      "Troviscoso\n",
      "Vimioso\n",
      "Porto Covo\n",
      "Alvaiázere\n",
      "Arrentela\n",
      "Lagoa\n",
      "Famalicão\n",
      " Setúbal - Aldeia de Paio Pires\n",
      " Beja\n",
      "Palmaz\n",
      " Loulé\n",
      "Cabeça Gorda\n",
      "São Sebastião\n",
      "Maçãs de Dona Maria\n",
      " Aveiro - Pinheiro da Bemposta\n",
      "Gatões\n",
      " Leiria - Serra do Bouro\n",
      "Esgueira\n",
      " Leiria - Alcobaça\n",
      "Vestiaria\n",
      "Carriço\n",
      "Santo António dos Olivais\n",
      " Viana do Castelo - Cardielos\n",
      "Serreleis\n",
      "Alcanede\n",
      "São João de Negrilhos\n",
      "Tabuaço\n",
      "Lousado\n",
      "Arroios\n",
      "Vale de Remígio\n",
      "Pataias\n",
      " Setúbal - Charneca de Caparica\n",
      "Santo Onofre\n",
      "A dos Francos\n",
      " Viseu - Nandufe\n",
      "Tondela\n",
      "Alcoentre\n",
      "Santiago da Guarda\n",
      "Porto - Lisboa\n",
      " Aveiro - Albergaria-a-Velha\n",
      "Valmaior\n",
      "Sobreda\n",
      " Leiria - Martingança\n",
      "Silves\n",
      "Nossa Senhora das Misericórdias\n",
      "Cedofeita\n",
      "Vizela\n",
      "Almeirim\n",
      " Porto - Miragaia\n",
      "Santa Maria\n",
      "São Miguel\n",
      " Coimbra - Rabaçal\n",
      " Faro - Santiago\n",
      " Tavira\n",
      "Forte da Casa\n",
      " Lisboa - Póvoa de Santa Iria\n",
      "Ferrel\n",
      "Fazendas de Almeirim\n",
      "Margaride\n",
      " Lisboa - São Miguel de Alcainça\n",
      "Atouguia da Baleia\n",
      "Cacia\n",
      "Vitorino das Donas\n",
      "Distrito de Santarém\n",
      "Vila Velha de Ródão\n",
      "Lisboa - London\n",
      "Faiões\n",
      "Vila de Punhe\n",
      "Alhos Vedros\n",
      " Lisboa - Cadaval\n",
      "Pero Moniz\n",
      " Lisboa - Cadafais\n",
      " Coimbra - Sebal\n",
      "Belide\n",
      "Buarcos\n",
      " Porto - Leça da Palmeira\n",
      " Porto - Perosinho\n",
      "Serzedo\n",
      " Évora - São Julião do Tojal\n",
      "Santo Antão\n",
      "Amora\n",
      " Vila Real - Vale de Nogueiras\n",
      "Constantim\n",
      "Carmões\n",
      "Pinhal Novo\n",
      " Coimbra - Arzila\n",
      "Ameal\n",
      "Jovim\n",
      "Vila Franca das Naves\n",
      "Samões\n",
      " Évora - Horta das Figueiras\n",
      "Malagueira\n",
      " Lisboa - Miragaia\n",
      "Marteleira\n",
      "Ventosa do Bairro\n",
      " Porto - Alvarelhos\n",
      "Guidões\n",
      "Golegã\n",
      "Aguiar de Sousa\n",
      " Porto - São Cosme\n",
      "Massarelos\n",
      "Ribeira de Pena\n",
      " Porto - Lordelo do Ouro\n",
      "Azinhaga\n",
      " Lisboa - Famões\n",
      "Pontinha\n",
      "São Domingos de Benfica\n",
      "Tavira\n",
      "Cartaxo\n",
      " Santarém - Vale da Pinta\n",
      " Coimbra - Castelo Viegas\n",
      "Santa Clara\n",
      "Aborim\n",
      "Ponte do Rol\n",
      "Quarteira\n",
      "Caparica\n",
      "Cabeceiras de Basto\n",
      "São Brás\n",
      "Revinhade\n",
      "Bairradas\n",
      " Leiria - Figueiró dos Vinhos\n",
      "Rio Vide\n",
      "Alfeizerão\n",
      " Coimbra - Semide\n",
      " Leiria - Alfeizerão\n",
      "Vale de Santarém\n",
      "Vimeiro\n",
      " Setúbal - Poceirão\n",
      " Lisboa - Santo António dos Cavaleiros\n",
      "Frielas\n",
      "Marateca\n",
      "Distrito de Leiria\n",
      " Bragança - Meixedo\n",
      "Venteira\n",
      "Água Longa\n",
      "Travanca de Lagos\n",
      "Vieira de Leiria\n",
      "Lapa dos Dinheiros\n",
      " Leiria - Marrazes\n",
      "Barosa\n",
      "Zibreira\n",
      " Guarda - São Romão\n",
      "Vila Nova de Cacela\n",
      " Madeira\n",
      "Alto do Seixalinho, Santo André e Verderena, Barreiro\n",
      "Santo António dos Cavaleiros e Frielas, Loures\n",
      "Peniche\n",
      "Riba de Ave, Vila Nova de Famalicão\n",
      "São Pedro, Figueira da Foz\n",
      "Home office\n",
      "Ovar, São João, Arada e São Vicente de Pereira Jusã, Ovar\n",
      "Arroios, Lisboa\n",
      "Grândola\n",
      "Cantanhede\n",
      "Lagoa, Faro\n",
      "Penacova\n",
      "Ribeirão, Vila Nova de Famalicão\n",
      "Senhora da Hora\n",
      "Carnaxide e Queijas, Oeiras\n",
      "Guia, Albufeira\n",
      "Margem Sul\n",
      "Lagos\n",
      "Chaves\n",
      "Marinha Grande\n",
      "Vila Real de Santo António\n",
      "Mirandela\n",
      "Arcos de Valdevez\n",
      "Atalaia\n",
      "Braga/Póvoa de Lanhoso\n",
      "Pedreiras\n",
      " Lisboa - Lourinhã\n",
      " Coimbra - Antanhol\n",
      "Frechas, Mirandela\n",
      "Manteigas\n",
      "Matosinhos e Leça da Palmeira, Matosinhos\n",
      "Aljezur\n",
      "Custóias, Leça do Balio e Guifões, Matosinhos\n",
      "Venteira, Amadora\n",
      "No estrangeiro\n",
      "Carcavelos e Parede, Cascais\n",
      "Sazes do Lorvão, Penacova\n",
      "Albergaria-a-Velha e Valmaior, Albergaria-a-Velha\n",
      "Seixal, Arrentela e Aldeia de Paio Pires, Seixal\n",
      " Coimbra - Montemor-o-Velho\n",
      "Odiáxere\n",
      "Póvoa de Lanhoso (Nossa Senhora do Amparo), Póvoa de Lanhoso\n",
      "Albufeira e Olhos de Água, Albufeira\n",
      "Sangalhos, Anadia\n",
      "Gâmbia-Pontes-Alto da Guerra, Setúbal\n",
      "São Miguel do Souto e Mosteirô, Santa Maria da Feira\n",
      "Perafita, Lavra e Santa Cruz do Bispo, Matosinhos\n",
      "Leiria, Pousos, Barreira e Cortes, Leiria\n",
      "Colares, Sintra\n",
      "Vimieiro, Arraiolos\n",
      "Moscavide e Portela, Loures\n",
      "Santa Maria Maior, Lisboa\n",
      "Algés, Linda-a-Velha e Cruz Quebrada-Dafundo, Oeiras\n",
      "Algueirão-Mem Martins, Sintra\n",
      "Colmeias e Memória, Leiria\n",
      "Paços de Brandão, Santa Maria da Feira\n",
      "Faro (Sé e São Pedro), Faro\n",
      "Darque, Viana do Castelo\n",
      "Caíde de Rei, Lousada\n",
      "Montijo e Afonsoeiro, Montijo\n",
      "Santo António\n",
      "Vilar Formoso\n",
      "Bucelas\n",
      "Sobrosa\n",
      "Monsaraz\n",
      "Canhoso\n",
      "Pêra do Moço\n",
      "Carvalhosa\n",
      "Dardavaz\n",
      "Mata Mourisca\n",
      "Campolide\n",
      " Portalegre\n",
      "Vilar de Andorinho\n",
      "Chamusca\n",
      " Santarém - Pinheiro Grande\n",
      " Castelo Branco - Covilhã\n",
      "Porto - Rio Douro\n",
      " Porto - Arreigada\n",
      "Rebolosa\n",
      "Frazão\n",
      "Matança\n",
      "Abragão\n",
      "São Brás e São Lourenço\n",
      "Assafarge\n",
      " Guarda - Lagarinhos\n",
      "Abade de Vermoim\n",
      "Rio Torto\n",
      " Portalegre - Alcáçova\n",
      " Santarém - Erra\n",
      "Fajarda\n",
      " Bragança - Mazouco\n",
      "Freixo de Espada à Cinta\n",
      " Sofala - Alcáçova\n",
      "Britelo\n",
      " Braga - Ourilhe\n",
      "Samora Correia\n",
      "Milharado\n",
      "Vandoma\n",
      "Alijó\n",
      "Areias\n",
      "Esmoriz\n",
      "Moreira de Cónegos\n",
      "Delães\n",
      " Lisboa - Caneças\n",
      "Ramada\n",
      " Porto - Sequeiró\n",
      "Caia\n",
      "Alandroal\n",
      "Quinta do Conde\n",
      "Mondrões\n",
      "Escalos de Baixo\n",
      "Ourique\n",
      "Macedo de Cavaleiros\n",
      "Alpedriz\n",
      "Mangualde\n",
      " Viseu - Almaça\n",
      " Lisboa - Linda-a-Velha\n",
      "Cruz Quebrada\n",
      "( Todas as Zonas )\n",
      "Santarem\n",
      "Estrangeiro - São Tome e Principe\n",
      "Outros Locais - Estrangeiro\n",
      "Evora\n",
      "Estrangeiro - Angola\n",
      "Porto Porto\n",
      "Viana Do Castelo Viana Do Castelo\n",
      "LISBOA Lisboa\n",
      "Braga Braga\n",
      "Maia Porto\n",
      "Lisboa Lisboa\n",
      "Escapães (Santa Maria da Feira)\n",
      "Mix (Lisboa + remoto)\n",
      "Almada /Seixal/Setúbal\n",
      "Estrangeiro - Moçambique\n",
      "Estrangeiro - Brasil\n",
      "Vila Nova de Gaia – Canelas\n",
      "Estrangeiro - Cabo Verde\n",
      "Redondo\n",
      "São João do Campo\n",
      "Aguiar da Beira\n",
      "Valença\n",
      " Sesimbra\n",
      "Distrito de Portalegre\n",
      "Graça\n",
      "Ilha de São Jorge\n",
      "Fânzeres\n",
      "Recarei\n",
      "Alter do Chão\n",
      "Paranhos\n",
      "Murtosa\n",
      "Castro Daire\n",
      "Cuba\n",
      "Almeida\n",
      " Açores\n",
      "Benfica\n",
      "Praia da Rocha\n",
      "Distrito de Castelo Branco\n",
      "Santa Comba Dão\n",
      "Marinhais\n",
      "Santiago\n",
      "Leiria - Batalha\n",
      "Vila Verde\n",
      "São Mamede de Infesta\n",
      "Castro Verde\n",
      "Castro Marim\n",
      "Foros de Vale de Figueira, Montemor-o-Novo\n",
      "Póvoa de Santo Adrião\n",
      "Ericeira\n",
      "Fiães\n",
      "Penela\n",
      "Valado dos Frades\n",
      "Juncal\n",
      "Odemira\n",
      "Soure\n",
      "Vila Nova de Cerveira\n",
      "Vouzela\n",
      "Guia\n",
      " Faro - Olhão\n",
      "Lisboa – Lumiar\n",
      "Praia da Vitória\n",
      "Lamego\n",
      "Braga - Porto\n",
      "Ribeira Grande\n",
      "Pragal\n",
      "Marrazes\n",
      "Distrito de Viana do Castelo\n",
      "Pardilhó\n",
      " Viseu - Santa Comba Dão\n",
      "Couto do Mosteiro\n",
      "Cinfães\n",
      "Carregal do Sal\n",
      " Santarém - Mação\n",
      " Aveiro - Anta\n",
      "Guetim\n",
      "São Brás de Alportel\n",
      "Horta\n",
      "Nelas\n",
      "Celorico de Basto\n",
      "Louredo\n",
      "Maceira\n",
      "Santa Maria Maior, Chaves\n",
      "Alcobaça e Vestiaria, Alcobaça\n",
      "Freiria, Torres Vedras\n",
      "Trouxemil e Torre de Vilela, Coimbra\n",
      "Santa Iria de Azoia, São João da Talha e Bobadela, Loures\n",
      "Santa Maria da Feira, Travanca, Sanfins e Espargo, Santa Maria da Feira\n",
      "Olivais, Lisboa\n",
      "Paredes de Coura\n",
      "Mortágua\n",
      "Vila e Roussas, Melgaço\n",
      "Alfarelos\n",
      "Porto Salvo\n",
      "Oliveira (Santa Maria), Vila Nova de Famalicão\n",
      "Arada\n",
      "Amares\n",
      "Quelfes\n",
      "Vila Praia de Âncora\n",
      "Sanguedo\n",
      "Sapataria\n",
      " Lisboa - Braga\n",
      "Sesimbra\n",
      "Castanheira do Ribatejo\n",
      " Leiria - Ansião\n",
      "Monte Redondo\n",
      "Alfena\n",
      "Oliveira do Conde\n",
      "Moimenta da Beira\n",
      "Porto de Mós\n",
      "Montenegro, Faro\n",
      "Lobão, Gião, Louredo e Guisande, Santa Maria da Feira\n",
      "São Vicente, Lisboa\n",
      "Aldoar, Foz do Douro e Nevogilde, Porto\n",
      "Santo António, Lisboa\n",
      "Tomar (São João Baptista) e Santa Maria dos Olivais, Tomar\n",
      "Ponte, Guimarães\n",
      "Santa Cruz das Flores\n",
      "Corroios, Seixal\n",
      "Ferragudo, Lagoa\n",
      "Carrazedo de Montenegro e Curros, Valpaços\n",
      "São Martinho de Antas e Paradela de Guiães, Sabrosa\n",
      "Sesimbra (Santiago), Sesimbra\n",
      "Casal de Cambra, Sintra\n",
      "Pontinha e Famões, Odivelas\n",
      "Arrabal, Leiria\n",
      "Avenidas Novas, Lisboa\n",
      "Póvoa de Varzim, Beiriz e Argivai, Póvoa de Varzim\n",
      "Póvoa de Santo Adrião e Olival Basto, Odivelas\n",
      "Laranjeiro e Feijó, Almada\n",
      "Mafamude e Vilar do Paraíso, Vila Nova de Gaia\n",
      "Antas e Abade de Vermoim, Vila Nova de Famalicão\n",
      "Cedofeita, Santo Ildefonso, Sé, Miragaia, São Nicolau e Vitória, Porto\n",
      "Cepães e Fareja, Fafe\n",
      "Estrangeiro - Timor\n",
      "Pinhal Novo, Palmela – Setúbal\n",
      "Viseu - Castelo Branco\n",
      "Vilamoura\n",
      "Santo Estêvão\n",
      "Pedroso\n",
      "Parceiros\n",
      "Frades\n",
      "Avanca\n",
      "Estremoz\n",
      "Sever do Vouga\n",
      "Avintes\n",
      "Lisboa - Setúbal\n",
      "Pegões\n",
      " Setúbal - Montijo\n",
      "Sabrosa\n",
      "Guilhabreu\n",
      "Ilha Terceira\n",
      " Porto - Lousada\n",
      "Foz do Arelho\n",
      "Ribeirão\n",
      " Braga - Vila Nova de Famalicão\n",
      "Braga - Lisboa\n",
      "Meirinhas\n",
      "Várzea\n",
      "Alcântara\n",
      " Leiria - Pombal\n",
      "Mogadouro\n",
      "Carvalhal\n",
      " Porto - Póvoa de Varzim\n",
      "Coruche\n",
      "Porto - Aveiro\n",
      "Azoia\n",
      "Carregosa\n",
      "Condeixa-a-Nova\n",
      "Praia do Carvoeiro\n",
      " Faro - Lagoa\n",
      "Pego\n",
      "Torrão\n",
      " Aveiro - Vila Nova de Gaia\n",
      "Distrito de Vila Real\n",
      " Porto - Guimarães\n",
      "Distrito de Coimbra\n",
      " Lisboa - Mafra\n",
      " Setúbal - Seixal\n",
      "Gafanha da Encarnação\n",
      "Paderne\n",
      "São João de Negrilhos, Aljustrel\n",
      "Alhandra, São João dos Montes e Calhandriz, Vila Franca de Xira\n",
      "Graça, Lisboa\n",
      "Grande Lisboa: Sintra (zona da Terrugem)\n",
      "Teletrabalho – Porto\n",
      "Tele Trabalho – Porto\n",
      "Cascais e Estoril, Cascais\n",
      "Travassô e Óis da Ribeira, Águeda\n",
      "Belém, Lisboa\n",
      "Meirinhas, Pombal\n",
      "Alvor\n",
      "Nossa Senhora da Vila, Nossa Senhora do Bispo e Silveiras, Montemor-o-Novo\n",
      "Costa da Caparica, Almada\n",
      "Fanhões, Loures\n",
      "Santa Cruz\n",
      "Moita, Marinha Grande\n",
      "Pinhel\n",
      "Coimbra (Sé Nova, Santa Cruz, Almedina e São Bartolomeu), Coimbra\n",
      "São Vicente\n",
      "Sardoal\n",
      "Lordelo, Guimarães\n",
      "Lousado, Vila Nova de Famalicão\n",
      "Sacavém e Prior Velho, Loures\n",
      "Alcácer do Sal (Santa Maria do Castelo e Santiago) e Santa Susana, Alcácer do Sal\n",
      "Ramalde, Porto\n",
      "Figueiró dos Vinhos e Bairradas, Figueiró dos Vinhos\n",
      "Ferreira do Alentejo\n",
      "Lourosa\n",
      "Arraiolos\n",
      "Vagos e Santo António, Vagos\n",
      "Castanheira Do Ribatejo\n",
      "Santo António da Charneca, Barreiro\n",
      "Caldas de Vizela (São Miguel e São João), Vizela\n",
      "Tábua\n",
      "Ponta do Sol\n",
      "Loulé (São Sebastião), Loulé\n",
      "Conceição e Cabanas de Tavira, Tavira\n",
      "Vila Real (Nossa Senhora da Conceição, São Pedro e São Dinis), Vila Real\n",
      "Belmonte\n",
      "Leça Do Balio\n",
      "Canedo, Vale e Vila Maior, Santa Maria da Feira\n",
      "Alvalade, Lisboa\n",
      "Campo de Ourique, Lisboa\n",
      "Vialonga, Vila Franca de Xira\n",
      "Milharado, Mafra\n",
      "Ilha da Madeira\n",
      "Braga Porto Coimbra\n",
      "Remote from Portugal\n",
      "Lisboa – CCB\n",
      "Seroa\n",
      "Lisboa e/ou Teletrabalho\n",
      "Angra do Heroísmo, Terceira, Açores\n",
      "Fafe, Braga\n",
      "Anywhere in Portugal\n",
      "Porto or Swindon\n",
      "Mafra (Presencial &amp; Teletrabalho)\n",
      "Mafra &amp; Teletrabalho\n",
      "Lisboa ou todo o país\n",
      "Lisboa, Campo Pequeno\n",
      "Sacavém, Lisboa\n",
      " Aveiro - Arcos\n",
      "Mogofores\n",
      "Reigoso\n",
      "Distrito de Bragança\n",
      "Vermoil\n",
      "Estoi\n",
      "Ramalhal\n",
      " Faro - Quarteira\n",
      "Abiul\n",
      "São Pedro do Sul\n",
      "Gominhães\n",
      "Porto Alegre - RS - Campo\n",
      "Santa Cruz da Trapa\n",
      "São Bartolomeu da Serra\n",
      " Setúbal - Santa Cruz\n",
      "Vila Do Bispo\n",
      "Arranhó\n",
      " Lisboa - Sobralinho\n",
      "Carreço\n",
      "Borba de Montanha\n",
      "Caminha\n",
      " Braga - Arco de Baúlhe\n",
      "Vila Nune\n",
      "Colmeias\n",
      "Celeirós\n",
      "São Pedro da Torre\n",
      "Lourinhã\n",
      "Sebadelhe\n",
      "Durrães\n",
      "Parada do Bouro\n",
      " Guarda - São Julião\n",
      " Gouveia\n",
      "São Pedro\n",
      "Moura\n",
      "Vinha da Rainha\n",
      "Regueira de Pontes\n",
      " Lisboa - Prior Velho\n",
      "Valverde\n",
      "Damaia\n",
      " Lisboa - Massamá\n",
      "Alcanena\n",
      "Boidobra\n",
      "Vendas Novas\n",
      "Salto\n",
      "Darque\n",
      "Travassô\n",
      " Viana do Castelo - Guimarães\n",
      " Barcelona - Portugal\n",
      "Santiago do Cacém\n",
      "Sant Cugat del Vallès\n",
      "Armamar\n",
      "Bombarral\n",
      "Montargil\n",
      "Entroncamento\n",
      " Santarém - Torres Novas\n",
      "Alhandra\n",
      "São Martinho do Bispo\n",
      " Coimbra - Ribeira de Frades\n",
      " Porto - Fânzeres\n",
      "Fornos de Maceira Dão\n",
      "Salir do Porto\n",
      " Aveiro - Oliveira de Azeméis\n",
      "Torre de Vilela\n",
      " Coimbra - Trouxemil\n",
      "São Pedro da Cova\n",
      "Bobadela\n",
      "Sandim\n",
      "Ponte da Barca\n",
      "Airães\n",
      "Celorico da Beira\n",
      "Arrabal\n",
      "Formariz\n",
      "Arcos\n",
      "Sabugosa\n",
      " Viseu - São Miguel do Outeiro\n",
      " Setúbal - Lavradio\n",
      "Porto - Setúbal\n",
      " Lisboa - Viseu\n",
      "Luso\n",
      "Olhos de Água\n",
      "Vidigueira\n",
      "Oiã\n",
      "Viseu - Coimbra\n",
      "Espinhosa\n",
      " Viseu - Trevões\n",
      "Lisboa (freguesia de Carnide)\n",
      "Rio de Mouro, Sintra\n",
      "Rebordosa\n",
      "Santana\n",
      "Caxarias, Ourém\n",
      "Campo Maior\n",
      "Ilha, Santana\n",
      "Arões (São Romão), Fafe\n",
      "Vagos\n",
      "Valado dos Frades, Nazaré\n",
      "Massamá e Monte Abraão, Sintra\n",
      "Almodôvar e Graça dos Padrões, Almodôvar\n",
      "São Cristóvão de Nogueira, Cinfães\n",
      "Barqueiros, Barcelos\n",
      "Currelos, Papízios e Sobral, Carregal do Sal\n",
      "Pontével, Cartaxo\n",
      "Lumiar, Lisboa\n",
      "Cacém e São Marcos, Sintra\n",
      "Charneca de Caparica e Sobreda, Almada\n",
      "Arruda dos Vinhos\n",
      "Cidade da Maia, Maia\n",
      "Ramalhal, Torres Vedras\n",
      "Câmara de Lobos\n",
      "Funchal (Santa Maria Maior), Funchal\n",
      "Ericeira, Mafra\n",
      "Gualtar, Braga\n",
      "Covilhã e Canhoso, Covilhã\n",
      "Ramada e Caneças, Odivelas\n",
      "Braga (São Vicente), Braga\n",
      "Parceiros e Azoia, Leiria\n",
      "Mealhada, Ventosa do Bairro e Antes, Mealhada\n",
      "Póvoa de Santa Iria e Forte da Casa, Vila Franca de Xira\n",
      "Buarcos, Figueira da Foz\n",
      "Alhos Vedros, Moita\n",
      "Repeses e São Salvador, Viseu\n",
      "Alcabideche, Cascais\n",
      "Braga (São José de São Lázaro e São João do Souto), Braga\n",
      "Gondomar (São Cosme), Valbom e Jovim, Gondomar\n",
      "Olaia e Paço, Torres Novas\n",
      "São Silvestre, Coimbra\n",
      "Campolide, Lisboa\n",
      "Sobral de Monte Agraço\n",
      "Boliqueime, Loulé\n",
      "Louredo e Fornelos, Santa Marta de Penaguião\n",
      "Baltar, Paredes\n",
      "Estrela, Lisboa\n",
      "Setúbal (São Julião, Nossa Senhora da Anunciada e Santa Maria da Graça), Setúbal\n",
      "Moreira, Maia\n",
      "Carrazeda de Ansiães\n",
      "Alemanha\n",
      "Angra do Heroísmo\n",
      "Mondim de Basto\n",
      "Arrifana, Santa Maria da Feira\n",
      "São Martinho, Funchal\n",
      "Tortosendo, Covilhã\n",
      "Tentúgal, Montemor-o-Velho\n",
      "São João de Ver, Santa Maria da Feira\n"
     ]
    }
   ],
   "source": [
    "for i in df_eda.job_location.unique():\n",
    "    print(i)"
   ]
  }
 ],
 "metadata": {
  "interpreter": {
   "hash": "9e535343e6d0cfbdb35da6db8eab66841e012489031fe4877fd1f7a7339b03e4"
  },
  "kernelspec": {
   "display_name": "Python 3.8.10 64-bit ('ml_workproject': conda)",
   "name": "python3"
  },
  "language_info": {
   "codemirror_mode": {
    "name": "ipython",
    "version": 3
   },
   "file_extension": ".py",
   "mimetype": "text/x-python",
   "name": "python",
   "nbconvert_exporter": "python",
   "pygments_lexer": "ipython3",
   "version": "3.9.1"
  },
  "orig_nbformat": 4
 },
 "nbformat": 4,
 "nbformat_minor": 2
}
