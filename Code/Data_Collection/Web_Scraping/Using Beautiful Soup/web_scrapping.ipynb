{
 "cells": [
  {
   "cell_type": "code",
   "execution_count": 186,
   "source": [
    "import csv\r\n",
    "import datetime as datetime\r\n",
    "import requests\r\n",
    "from bs4 import BeautifulSoup\r\n",
    "import pandas as pd"
   ],
   "outputs": [],
   "metadata": {}
  },
  {
   "cell_type": "code",
   "execution_count": 187,
   "source": [
    "def get_url(location):\r\n",
    "    \"\"\"Generate URL from position and Location\r\n",
    "    :parameter: location -> Country\"\"\"\r\n",
    "    template = 'https://pt.indeed.com/ofertas?jt=all&st=&radius=25&l={}&fromage=any&limit=50&sort=date&psf=advsrch&from=advancedsearch&start=0'\r\n",
    "    url = template.format(location)\r\n",
    "    return url"
   ],
   "outputs": [],
   "metadata": {}
  },
  {
   "cell_type": "code",
   "execution_count": 188,
   "source": [
    "url = get_url(location='Portugal')\r\n",
    "url"
   ],
   "outputs": [
    {
     "output_type": "execute_result",
     "data": {
      "text/plain": [
       "'https://pt.indeed.com/ofertas?jt=all&st=&radius=25&l=Portugal&fromage=any&limit=50&sort=date&psf=advsrch&from=advancedsearch&start=0'"
      ]
     },
     "metadata": {},
     "execution_count": 188
    }
   ],
   "metadata": {}
  },
  {
   "cell_type": "markdown",
   "source": [
    "# Extract Raw Html"
   ],
   "metadata": {}
  },
  {
   "cell_type": "code",
   "execution_count": 189,
   "source": [
    "response = requests.get(url)\r\n",
    "response"
   ],
   "outputs": [
    {
     "output_type": "execute_result",
     "data": {
      "text/plain": [
       "<Response [200]>"
      ]
     },
     "metadata": {},
     "execution_count": 189
    }
   ],
   "metadata": {}
  },
  {
   "cell_type": "code",
   "execution_count": 190,
   "source": [
    "soup = BeautifulSoup(response.text, 'html.parser')"
   ],
   "outputs": [],
   "metadata": {}
  },
  {
   "cell_type": "code",
   "execution_count": 191,
   "source": [
    "refs = soup.find_all('a', {'rel':'nofollow', 'data-hiring-event':'false'})\r\n",
    "ref = refs[0]"
   ],
   "outputs": [],
   "metadata": {}
  },
  {
   "cell_type": "code",
   "execution_count": 192,
   "source": [
    "cards = soup.find_all('div', 'job_seen_beacon')"
   ],
   "outputs": [],
   "metadata": {}
  },
  {
   "cell_type": "code",
   "execution_count": 193,
   "source": [
    "len(cards)"
   ],
   "outputs": [
    {
     "output_type": "execute_result",
     "data": {
      "text/plain": [
       "50"
      ]
     },
     "metadata": {},
     "execution_count": 193
    }
   ],
   "metadata": {}
  },
  {
   "cell_type": "markdown",
   "source": [
    "# Prototype the model with a single record"
   ],
   "metadata": {}
  },
  {
   "cell_type": "code",
   "execution_count": 53,
   "source": [
    "card = cards[0]"
   ],
   "outputs": [],
   "metadata": {}
  },
  {
   "cell_type": "code",
   "execution_count": 54,
   "source": [
    "jobId = ref.get('data-jk')\r\n",
    "jobUrl = 'https://pt.indeed.com/ver-oferta?jk={}&tk=1ffnjle1itv8s800&from=serp&vjs=3'.format(jobId)"
   ],
   "outputs": [],
   "metadata": {}
  },
  {
   "cell_type": "code",
   "execution_count": 55,
   "source": [
    "jobTitle = card.h2.find_all(\"span\")[1].text\r\n",
    "jobTitle"
   ],
   "outputs": [
    {
     "output_type": "execute_result",
     "data": {
      "text/plain": [
       "'Atendimento ao Cidadão – Refª. 2734'"
      ]
     },
     "metadata": {},
     "execution_count": 55
    }
   ],
   "metadata": {}
  },
  {
   "cell_type": "code",
   "execution_count": 56,
   "source": [
    "companyName = card.find_all('span', class_='companyName')[0].string\r\n",
    "companyName\r\n"
   ],
   "outputs": [
    {
     "output_type": "execute_result",
     "data": {
      "text/plain": [
       "'Techinfor'"
      ]
     },
     "metadata": {},
     "execution_count": 56
    }
   ],
   "metadata": {}
  },
  {
   "cell_type": "code",
   "execution_count": 66,
   "source": [
    "jobLocation = card.find_all('div', class_='companyLocation')[0].contents[0]\r\n",
    "jobLocation"
   ],
   "outputs": [
    {
     "output_type": "execute_result",
     "data": {
      "text/plain": [
       "'Lisboa'"
      ]
     },
     "metadata": {},
     "execution_count": 66
    }
   ],
   "metadata": {}
  },
  {
   "cell_type": "code",
   "execution_count": 81,
   "source": [
    "shortSummary = card.find('div', 'job-snippet').text.strip().replace('\\n', ' ')\r\n",
    "shortSummary "
   ],
   "outputs": [
    {
     "output_type": "execute_result",
     "data": {
      "text/plain": [
       "'Contrato de Trabalho com Vencimento base + Subsídio de Alimentação ´+ Prémio. Possibilidade de integração num projeto de grande visibilidade Nacional.'"
      ]
     },
     "metadata": {},
     "execution_count": 81
    }
   ],
   "metadata": {}
  },
  {
   "cell_type": "code",
   "execution_count": 58,
   "source": [
    "try:\r\n",
    "    jobSalary = card.find('span', class_='salary-snippet').string[:-8]\r\n",
    "except AttributeError:\r\n",
    "    jobSalary = ''\r\n",
    "jobSalary\r\n"
   ],
   "outputs": [
    {
     "output_type": "execute_result",
     "data": {
      "text/plain": [
       "''"
      ]
     },
     "metadata": {},
     "execution_count": 58
    }
   ],
   "metadata": {}
  },
  {
   "cell_type": "code",
   "execution_count": 59,
   "source": [
    "postDate = card.find('span', 'date').string\r\n",
    "today = datetime.date.today().strftime('%Y-%m-%d')"
   ],
   "outputs": [],
   "metadata": {}
  },
  {
   "cell_type": "markdown",
   "source": [
    "## Get full Job Description"
   ],
   "metadata": {}
  },
  {
   "cell_type": "code",
   "execution_count": 27,
   "source": [
    "response = requests.get(jobUrl)\r\n",
    "response"
   ],
   "outputs": [
    {
     "output_type": "execute_result",
     "data": {
      "text/plain": [
       "<Response [200]>"
      ]
     },
     "metadata": {},
     "execution_count": 27
    }
   ],
   "metadata": {}
  },
  {
   "cell_type": "code",
   "execution_count": 28,
   "source": [
    "soup = BeautifulSoup(response.text, 'html.parser')"
   ],
   "outputs": [],
   "metadata": {}
  },
  {
   "cell_type": "code",
   "execution_count": 29,
   "source": [
    "jobDescription = soup.find('div', 'jobsearch-jobDescriptionText').text.strip().replace('\\n', ' ')"
   ],
   "outputs": [],
   "metadata": {}
  },
  {
   "cell_type": "code",
   "execution_count": 30,
   "source": [
    "# originalJobLink\r\n",
    "try:\r\n",
    "    originalJobLink = soup.find('div', {'id':\"originalJobLinkContainer\"}).a['href']\r\n",
    "except AttributeError:\r\n",
    "    originalJobLink = ''"
   ],
   "outputs": [],
   "metadata": {}
  },
  {
   "cell_type": "code",
   "execution_count": null,
   "source": [
    "def get_jobDescription(jobUrl):\r\n",
    "    response = requests.get(jobUrl)\r\n",
    "    soup = BeautifulSoup(response.text, 'html.parser')\r\n",
    "    jobDescription = soup.find('div', 'jobsearch-jobDescriptionText').text.strip().replace('\\n', ' ')\r\n",
    "    \r\n",
    "    # originalJobLink\r\n",
    "    try:\r\n",
    "        originalJobLink = soup.find('div', {'id':\"originalJobLinkContainer\"}).a['href']\r\n",
    "    except AttributeError:\r\n",
    "        originalJobLink = ''\r\n",
    "    return jobDescription, originalJobLink"
   ],
   "outputs": [],
   "metadata": {}
  },
  {
   "cell_type": "markdown",
   "source": [
    "# Generalize the Model with a function"
   ],
   "metadata": {}
  },
  {
   "cell_type": "code",
   "execution_count": null,
   "source": [
    "def get_record(card):\r\n",
    "    \"\"\"Extract Job dat from a single record\"\"\"\r\n",
    "    \r\n",
    "    # job Id and job Url\r\n",
    "    jobId = ref.get('data-jk')\r\n",
    "    jobUrl = 'https://pt.indeed.com/ver-oferta?jk={}&tk=1ffnjle1itv8s800&from=serp&vjs=3'.format(jobId)\r\n",
    "\r\n",
    "    # job title\r\n",
    "    jobTitle = card.h2.find_all(\"span\")[1].text\r\n",
    "\r\n",
    "    # company name\r\n",
    "    companyName = card.find_all('span', class_='companyName')[0].string\r\n",
    "\r\n",
    "    # job location\r\n",
    "    jobLocation = card.find_all('div', class_='companyLocation')[0].contents[0]\r\n",
    "\r\n",
    "    # Short Summary\r\n",
    "    shortSummary = card.find('div', 'job-snippet').text.strip().replace('\\n', ' ')\r\n",
    "\r\n",
    "    # job salary\r\n",
    "    try:\r\n",
    "        jobSalary = card.find('span', class_='salary-snippet').string[:-8]\r\n",
    "    except AttributeError:\r\n",
    "        jobSalary = ''\r\n",
    "    \r\n",
    "    # posting date and scraping date\r\n",
    "    postDate = card.find('span', 'date').string\r\n",
    "    today = datetime.date.today().strftime('%Y-%m-%d')\r\n",
    "    \r\n",
    "    jobDescription, originalJobLink = get_jobDescription(jobUrl)\r\n",
    "\r\n",
    "    record = (jobId, jobTitle, companyName, jobLocation, shortSummary, jobSalary, today, postDate, jobUrl, jobDescription, originalJobLink)\r\n",
    "    return record "
   ],
   "outputs": [],
   "metadata": {}
  },
  {
   "cell_type": "markdown",
   "source": [
    "# Iterating By Page"
   ],
   "metadata": {}
  },
  {
   "cell_type": "code",
   "execution_count": 64,
   "source": [
    "while True:\r\n",
    "    response = requests.get(url)\r\n",
    "    soup = BeautifulSoup(response.text, 'html.parser')\r\n",
    "    refs = soup.find_all('a', {'rel':'nofollow', 'data-hiring-event':'false'})\r\n",
    "    cards = soup.find_all('div', 'job_seen_beacon')\r\n",
    "\r\n",
    "    for card in cards:\r\n",
    "        record = get_record()\r\n",
    "        records.append(record)\r\n",
    "\r\n",
    "    try:\r\n",
    "        url = 'https://pt.indeed.com' + soup.find('a', {'aria-label':'Próxima'}).get('href')\r\n",
    "    except AttributeError:\r\n",
    "        break"
   ],
   "outputs": [],
   "metadata": {}
  },
  {
   "cell_type": "markdown",
   "source": [
    "# Putting All together"
   ],
   "metadata": {}
  },
  {
   "cell_type": "code",
   "execution_count": 1,
   "source": [
    "import csv\r\n",
    "import datetime as datetime\r\n",
    "import requests\r\n",
    "from bs4 import BeautifulSoup\r\n",
    "import pandas as pd\r\n",
    "import time \r\n",
    "import random\r\n",
    "import os\r\n",
    "\r\n",
    "\r\n",
    "def get_url(location, start):\r\n",
    "    \"\"\"Generate URL from position and Location\r\n",
    "    :parameter: location -> Country\"\"\"\r\n",
    "    template = 'https://pt.indeed.com/ofertas?jt=all&st=&radius=25&l={}&fromage=any&limit=50&sort=date&psf=advsrch&from=advancedsearch&start={}'\r\n",
    "    url = template.format(location, start)\r\n",
    "    return url\r\n",
    "\r\n",
    "def get_jobDescription(jobUrl):\r\n",
    "    response = requests.get(jobUrl)\r\n",
    "    soup = BeautifulSoup(response.text, 'html.parser')\r\n",
    "    try:\r\n",
    "        jobDescription = soup.find('div', 'jobsearch-jobDescriptionText').text.strip().replace('\\n', ' ')\r\n",
    "    except AttributeError:\r\n",
    "        jobDescription = ''\r\n",
    "\r\n",
    "    # originalJobLink\r\n",
    "    try:\r\n",
    "        originalJobLink = soup.find('div', {'id':\"originalJobLinkContainer\"}).a['href']\r\n",
    "    except AttributeError:\r\n",
    "        originalJobLink = ''\r\n",
    "\r\n",
    "    return jobDescription, originalJobLink\r\n",
    "\r\n",
    "def get_record(card, ref):\r\n",
    "    \"\"\"Extract Job dat from a single record\"\"\"\r\n",
    "    \r\n",
    "    # job Id and job Url\r\n",
    "    jobId = ref.get('data-jk')\r\n",
    "    jobUrl = 'https://pt.indeed.com/ver-oferta?jk={}&tk=1ffnjle1itv8s800&from=serp&vjs=3'.format(jobId)\r\n",
    "\r\n",
    "    # job title\r\n",
    "    try:\r\n",
    "        jobTitle = card.h2.find_all(\"span\")[1].text\r\n",
    "    except AttributeError:\r\n",
    "        jobTitle = ''\r\n",
    "\r\n",
    "    # company name\r\n",
    "    try:\r\n",
    "        companyName = card.find('span', class_='companyName').string\r\n",
    "    except AttributeError:\r\n",
    "        companyName = ''\r\n",
    "\r\n",
    "    # job location\r\n",
    "    try:\r\n",
    "        jobLocation = card.find('div', class_='companyLocation').contents[0]\r\n",
    "    except:\r\n",
    "        jobLocation = ''\r\n",
    "\r\n",
    "    # Short Summary\r\n",
    "    try:\r\n",
    "        shortSummary = card.find('div', 'job-snippet').text.strip().replace('\\n', ' ')\r\n",
    "    except AttributeError:\r\n",
    "        shortSummary = ''\r\n",
    "        \r\n",
    "    # job salary\r\n",
    "    try:\r\n",
    "        jobSalary = card.find('span', class_='salary-snippet').string[:-8]\r\n",
    "    except AttributeError:\r\n",
    "        jobSalary = ''\r\n",
    "    \r\n",
    "    # posting date and scraping date\r\n",
    "    postDate = card.find('span', 'date').string\r\n",
    "    today = datetime.date.today().strftime('%Y-%m-%d')\r\n",
    "    \r\n",
    "    jobDescription, originalJobLink = get_jobDescription(jobUrl)\r\n",
    "\r\n",
    "    record = (jobId, jobTitle, companyName, jobLocation, shortSummary, jobSalary, today, postDate, jobUrl, jobDescription, originalJobLink)\r\n",
    "    return record \r\n",
    "\r\n",
    "def main(location, start):\r\n",
    "    \"\"\"Run the main program routine\"\"\"\r\n",
    "    records = []\r\n",
    "    url = get_url(location, start)\r\n",
    "\r\n",
    "    # Extract Job Data\r\n",
    "    while True:\r\n",
    "        # Random Sleep Time 0 to 4 seconds\r\n",
    "        time.sleep(random.random()*20)\r\n",
    "\r\n",
    "        response = requests.get(url)\r\n",
    "        soup = BeautifulSoup(response.text, 'html.parser')\r\n",
    "        refs = soup.find_all('a', {'rel':'nofollow', 'data-hiring-event':'false'})\r\n",
    "        cards = soup.find_all('div', 'job_seen_beacon')\r\n",
    "\r\n",
    "        for idx, card in enumerate(cards):\r\n",
    "            record = get_record(card, refs[idx])\r\n",
    "            records.append(record)\r\n",
    "\r\n",
    "        try:\r\n",
    "            url = 'https://pt.indeed.com' + soup.find('a', {'aria-label':'Próxima'}).get('href')\r\n",
    "        except AttributeError:\r\n",
    "            print(url)\r\n",
    "            break\r\n",
    "\r\n",
    "    # Save Job Data\r\n",
    "    if os.path.exists('indeed_jobs.csv') == False:\r\n",
    "        with open('indeed_jobs.csv', 'w', newline='', encoding='utf-8') as f:\r\n",
    "            writer = csv.writer(f)\r\n",
    "            writer.writerow(['Id', 'JobTitle', 'Company', 'Location', 'ShortSummary', 'Salary', 'ExtractDate', 'PostDate', 'JobUrl', 'FullDescription', 'CompanyLink'])\r\n",
    "            writer.writerows(records)\r\n",
    "        f.close()\r\n",
    "    else:\r\n",
    "        with open('indeed_jobs.csv', 'a+', newline='', encoding='utf-8') as f:\r\n",
    "            writer = csv.writer(f)\r\n",
    "            writer.writerows(records)\r\n",
    "        f.close()\r\n",
    "    \r\n",
    "    print(f'Scrapped {len(records)} job posting')"
   ],
   "outputs": [],
   "metadata": {}
  },
  {
   "cell_type": "code",
   "execution_count": 2,
   "source": [
    "start = len(pd.read_csv('indeed_jobs.csv'))\r\n",
    "main('Portugal', start)"
   ],
   "outputs": [
    {
     "output_type": "error",
     "ename": "IndexError",
     "evalue": "list index out of range",
     "traceback": [
      "\u001b[1;31m---------------------------------------------------------------------------\u001b[0m",
      "\u001b[1;31mIndexError\u001b[0m                                Traceback (most recent call last)",
      "\u001b[1;32m<ipython-input-2-601230d3251e>\u001b[0m in \u001b[0;36m<module>\u001b[1;34m\u001b[0m\n\u001b[0;32m      1\u001b[0m \u001b[0mstart\u001b[0m \u001b[1;33m=\u001b[0m \u001b[0mlen\u001b[0m\u001b[1;33m(\u001b[0m\u001b[0mpd\u001b[0m\u001b[1;33m.\u001b[0m\u001b[0mread_csv\u001b[0m\u001b[1;33m(\u001b[0m\u001b[1;34m'indeed_jobs.csv'\u001b[0m\u001b[1;33m)\u001b[0m\u001b[1;33m)\u001b[0m\u001b[1;33m\u001b[0m\u001b[1;33m\u001b[0m\u001b[0m\n\u001b[1;32m----> 2\u001b[1;33m \u001b[0mmain\u001b[0m\u001b[1;33m(\u001b[0m\u001b[1;34m'Portugal'\u001b[0m\u001b[1;33m,\u001b[0m \u001b[0mstart\u001b[0m\u001b[1;33m)\u001b[0m\u001b[1;33m\u001b[0m\u001b[1;33m\u001b[0m\u001b[0m\n\u001b[0m",
      "\u001b[1;32m<ipython-input-1-935f2629b47d>\u001b[0m in \u001b[0;36mmain\u001b[1;34m(location, start)\u001b[0m\n\u001b[0;32m     94\u001b[0m \u001b[1;33m\u001b[0m\u001b[0m\n\u001b[0;32m     95\u001b[0m         \u001b[1;32mfor\u001b[0m \u001b[0midx\u001b[0m\u001b[1;33m,\u001b[0m \u001b[0mcard\u001b[0m \u001b[1;32min\u001b[0m \u001b[0menumerate\u001b[0m\u001b[1;33m(\u001b[0m\u001b[0mcards\u001b[0m\u001b[1;33m)\u001b[0m\u001b[1;33m:\u001b[0m\u001b[1;33m\u001b[0m\u001b[1;33m\u001b[0m\u001b[0m\n\u001b[1;32m---> 96\u001b[1;33m             \u001b[0mrecord\u001b[0m \u001b[1;33m=\u001b[0m \u001b[0mget_record\u001b[0m\u001b[1;33m(\u001b[0m\u001b[0mcard\u001b[0m\u001b[1;33m,\u001b[0m \u001b[0mrefs\u001b[0m\u001b[1;33m[\u001b[0m\u001b[0midx\u001b[0m\u001b[1;33m]\u001b[0m\u001b[1;33m)\u001b[0m\u001b[1;33m\u001b[0m\u001b[1;33m\u001b[0m\u001b[0m\n\u001b[0m\u001b[0;32m     97\u001b[0m             \u001b[0mrecords\u001b[0m\u001b[1;33m.\u001b[0m\u001b[0mappend\u001b[0m\u001b[1;33m(\u001b[0m\u001b[0mrecord\u001b[0m\u001b[1;33m)\u001b[0m\u001b[1;33m\u001b[0m\u001b[1;33m\u001b[0m\u001b[0m\n\u001b[0;32m     98\u001b[0m \u001b[1;33m\u001b[0m\u001b[0m\n",
      "\u001b[1;32m<ipython-input-1-935f2629b47d>\u001b[0m in \u001b[0;36mget_record\u001b[1;34m(card, ref)\u001b[0m\n\u001b[0;32m     41\u001b[0m     \u001b[1;31m# job title\u001b[0m\u001b[1;33m\u001b[0m\u001b[1;33m\u001b[0m\u001b[1;33m\u001b[0m\u001b[0m\n\u001b[0;32m     42\u001b[0m     \u001b[1;32mtry\u001b[0m\u001b[1;33m:\u001b[0m\u001b[1;33m\u001b[0m\u001b[1;33m\u001b[0m\u001b[0m\n\u001b[1;32m---> 43\u001b[1;33m         \u001b[0mjobTitle\u001b[0m \u001b[1;33m=\u001b[0m \u001b[0mcard\u001b[0m\u001b[1;33m.\u001b[0m\u001b[0mh2\u001b[0m\u001b[1;33m.\u001b[0m\u001b[0mfind_all\u001b[0m\u001b[1;33m(\u001b[0m\u001b[1;34m\"span\"\u001b[0m\u001b[1;33m)\u001b[0m\u001b[1;33m[\u001b[0m\u001b[1;36m1\u001b[0m\u001b[1;33m]\u001b[0m\u001b[1;33m.\u001b[0m\u001b[0mtext\u001b[0m\u001b[1;33m\u001b[0m\u001b[1;33m\u001b[0m\u001b[0m\n\u001b[0m\u001b[0;32m     44\u001b[0m     \u001b[1;32mexcept\u001b[0m \u001b[0mAttributeError\u001b[0m\u001b[1;33m:\u001b[0m\u001b[1;33m\u001b[0m\u001b[1;33m\u001b[0m\u001b[0m\n\u001b[0;32m     45\u001b[0m         \u001b[0mjobTitle\u001b[0m \u001b[1;33m=\u001b[0m \u001b[1;34m''\u001b[0m\u001b[1;33m\u001b[0m\u001b[1;33m\u001b[0m\u001b[0m\n",
      "\u001b[1;31mIndexError\u001b[0m: list index out of range"
     ]
    }
   ],
   "metadata": {}
  },
  {
   "cell_type": "code",
   "execution_count": null,
   "source": [
    "print(f'Number of scraped Job Ads -> {len(pd.read_csv(\"indeed_jobs.csv\"))}')\r\n",
    "pd.read_csv('indeed_jobs.csv')"
   ],
   "outputs": [
    {
     "output_type": "stream",
     "name": "stdout",
     "text": [
      "Number of scraped Job Ads -> 1000\n"
     ]
    },
    {
     "output_type": "execute_result",
     "data": {
      "text/html": [
       "<div>\n",
       "<style scoped>\n",
       "    .dataframe tbody tr th:only-of-type {\n",
       "        vertical-align: middle;\n",
       "    }\n",
       "\n",
       "    .dataframe tbody tr th {\n",
       "        vertical-align: top;\n",
       "    }\n",
       "\n",
       "    .dataframe thead th {\n",
       "        text-align: right;\n",
       "    }\n",
       "</style>\n",
       "<table border=\"1\" class=\"dataframe\">\n",
       "  <thead>\n",
       "    <tr style=\"text-align: right;\">\n",
       "      <th></th>\n",
       "      <th>Id</th>\n",
       "      <th>JobTitle</th>\n",
       "      <th>Company</th>\n",
       "      <th>Location</th>\n",
       "      <th>ShortSummary</th>\n",
       "      <th>Salary</th>\n",
       "      <th>ExtractDate</th>\n",
       "      <th>PostDate</th>\n",
       "      <th>JobUrl</th>\n",
       "      <th>FullDescription</th>\n",
       "      <th>CompanyLink</th>\n",
       "    </tr>\n",
       "  </thead>\n",
       "  <tbody>\n",
       "    <tr>\n",
       "      <th>0</th>\n",
       "      <td>ca973c0cd8100998</td>\n",
       "      <td>Operador Gasolineira</td>\n",
       "      <td>Auchan</td>\n",
       "      <td>Lisboa</td>\n",
       "      <td>Na Auchan Retail Portugal o cliente é o centro...</td>\n",
       "      <td>NaN</td>\n",
       "      <td>9/17/2021</td>\n",
       "      <td>Agora mesmo</td>\n",
       "      <td>https://pt.indeed.com/ver-oferta?jk=ca973c0cd8...</td>\n",
       "      <td>Vem descobrir como é trabalhar no comércio. Na...</td>\n",
       "      <td>https://pt.indeed.com/rc/clk?jk=ca973c0cd81009...</td>\n",
       "    </tr>\n",
       "    <tr>\n",
       "      <th>1</th>\n",
       "      <td>4.34691E+15</td>\n",
       "      <td>Transactional Support Junior Specialist</td>\n",
       "      <td>Nestlé</td>\n",
       "      <td>Linda-a-Velha</td>\n",
       "      <td>This professional will be responsible to execu...</td>\n",
       "      <td>NaN</td>\n",
       "      <td>9/17/2021</td>\n",
       "      <td>Agora mesmo</td>\n",
       "      <td>https://pt.indeed.com/ver-oferta?jk=4346909910...</td>\n",
       "      <td>Position Snapshot  Location: Linda-a-Velha, Li...</td>\n",
       "      <td>https://pt.indeed.com/rc/clk?jk=43469099100027...</td>\n",
       "    </tr>\n",
       "    <tr>\n",
       "      <th>2</th>\n",
       "      <td>8800866b699bfe57</td>\n",
       "      <td>Consultoria</td>\n",
       "      <td>Via Consulting</td>\n",
       "      <td>Portugal</td>\n",
       "      <td>Procuramos pessoas com formação superior (lice...</td>\n",
       "      <td>NaN</td>\n",
       "      <td>9/17/2021</td>\n",
       "      <td>Agora mesmo</td>\n",
       "      <td>https://pt.indeed.com/ver-oferta?jk=8800866b69...</td>\n",
       "      <td>Procuramos pessoas com formação superior (lice...</td>\n",
       "      <td>NaN</td>\n",
       "    </tr>\n",
       "    <tr>\n",
       "      <th>3</th>\n",
       "      <td>c8eb1a51935523cf</td>\n",
       "      <td>R&amp;D</td>\n",
       "      <td>Via Consulting</td>\n",
       "      <td>Portugal</td>\n",
       "      <td>Procuramos pessoas com formação (licenciatura ...</td>\n",
       "      <td>NaN</td>\n",
       "      <td>9/17/2021</td>\n",
       "      <td>Agora mesmo</td>\n",
       "      <td>https://pt.indeed.com/ver-oferta?jk=c8eb1a5193...</td>\n",
       "      <td>Procuramos pessoas com formação (licenciatura ...</td>\n",
       "      <td>NaN</td>\n",
       "    </tr>\n",
       "    <tr>\n",
       "      <th>4</th>\n",
       "      <td>da9e05f1c0278071</td>\n",
       "      <td>Vendedor (m/f)</td>\n",
       "      <td>Sonae</td>\n",
       "      <td>Portugal</td>\n",
       "      <td>. Acompanhamento e aconselhamento dos nossos c...</td>\n",
       "      <td>NaN</td>\n",
       "      <td>9/17/2021</td>\n",
       "      <td>Agora mesmo</td>\n",
       "      <td>https://pt.indeed.com/ver-oferta?jk=da9e05f1c0...</td>\n",
       "      <td>Na Direção de Vendas temos como missão garanti...</td>\n",
       "      <td>https://pt.indeed.com/rc/clk?jk=da9e05f1c02780...</td>\n",
       "    </tr>\n",
       "    <tr>\n",
       "      <th>...</th>\n",
       "      <td>...</td>\n",
       "      <td>...</td>\n",
       "      <td>...</td>\n",
       "      <td>...</td>\n",
       "      <td>...</td>\n",
       "      <td>...</td>\n",
       "      <td>...</td>\n",
       "      <td>...</td>\n",
       "      <td>...</td>\n",
       "      <td>...</td>\n",
       "      <td>...</td>\n",
       "    </tr>\n",
       "    <tr>\n",
       "      <th>995</th>\n",
       "      <td>4f786cd8ad7d8ddf</td>\n",
       "      <td>Support Specialist, Trilogy (Remote) - $30,000...</td>\n",
       "      <td>Crossover</td>\n",
       "      <td>Lisboa</td>\n",
       "      <td>We make weekly investments in our team’s profe...</td>\n",
       "      <td>NaN</td>\n",
       "      <td>2021-09-18</td>\n",
       "      <td>há 4 dias</td>\n",
       "      <td>https://pt.indeed.com/ver-oferta?jk=4f786cd8ad...</td>\n",
       "      <td>NaN</td>\n",
       "      <td>NaN</td>\n",
       "    </tr>\n",
       "    <tr>\n",
       "      <th>996</th>\n",
       "      <td>96ebfc6d338a3711</td>\n",
       "      <td>Subsystem CTO, Trilogy (Remote) - $200,000/yea...</td>\n",
       "      <td>Crossover</td>\n",
       "      <td>&lt;span&gt;Remoto&lt;/span&gt;</td>\n",
       "      <td>Each week you will have a different design pro...</td>\n",
       "      <td>NaN</td>\n",
       "      <td>2021-09-18</td>\n",
       "      <td>há 4 dias</td>\n",
       "      <td>https://pt.indeed.com/ver-oferta?jk=96ebfc6d33...</td>\n",
       "      <td>NaN</td>\n",
       "      <td>NaN</td>\n",
       "    </tr>\n",
       "    <tr>\n",
       "      <th>997</th>\n",
       "      <td>caffaf953afd5362</td>\n",
       "      <td>Inside Sales Representative, Trilogy (Remote) ...</td>\n",
       "      <td>Crossover</td>\n",
       "      <td>Lisboa</td>\n",
       "      <td>It is time to move on from deceptive and archa...</td>\n",
       "      <td>NaN</td>\n",
       "      <td>2021-09-18</td>\n",
       "      <td>há 4 dias</td>\n",
       "      <td>https://pt.indeed.com/ver-oferta?jk=caffaf953a...</td>\n",
       "      <td>NaN</td>\n",
       "      <td>NaN</td>\n",
       "    </tr>\n",
       "    <tr>\n",
       "      <th>998</th>\n",
       "      <td>787c03babc40e3bf</td>\n",
       "      <td>Team Leader (German speaker)</td>\n",
       "      <td>TIME FRAME</td>\n",
       "      <td>Porto</td>\n",
       "      <td>As specialists in customer care, we use the la...</td>\n",
       "      <td>NaN</td>\n",
       "      <td>2021-09-18</td>\n",
       "      <td>há 4 dias</td>\n",
       "      <td>https://pt.indeed.com/ver-oferta?jk=787c03babc...</td>\n",
       "      <td>NaN</td>\n",
       "      <td>NaN</td>\n",
       "    </tr>\n",
       "    <tr>\n",
       "      <th>999</th>\n",
       "      <td>0a7b49462b5ff082</td>\n",
       "      <td>PHONE INTERPRETER - HEBREW</td>\n",
       "      <td>Kelly Services Portugal</td>\n",
       "      <td>Lisboa</td>\n",
       "      <td>Our client solutions (phone, video), are easy ...</td>\n",
       "      <td>NaN</td>\n",
       "      <td>2021-09-18</td>\n",
       "      <td>há 4 dias</td>\n",
       "      <td>https://pt.indeed.com/ver-oferta?jk=0a7b49462b...</td>\n",
       "      <td>NaN</td>\n",
       "      <td>NaN</td>\n",
       "    </tr>\n",
       "  </tbody>\n",
       "</table>\n",
       "<p>1000 rows × 11 columns</p>\n",
       "</div>"
      ],
      "text/plain": [
       "                   Id                                           JobTitle  \\\n",
       "0    ca973c0cd8100998                               Operador Gasolineira   \n",
       "1         4.34691E+15            Transactional Support Junior Specialist   \n",
       "2    8800866b699bfe57                                        Consultoria   \n",
       "3    c8eb1a51935523cf                                                R&D   \n",
       "4    da9e05f1c0278071                                     Vendedor (m/f)   \n",
       "..                ...                                                ...   \n",
       "995  4f786cd8ad7d8ddf  Support Specialist, Trilogy (Remote) - $30,000...   \n",
       "996  96ebfc6d338a3711  Subsystem CTO, Trilogy (Remote) - $200,000/yea...   \n",
       "997  caffaf953afd5362  Inside Sales Representative, Trilogy (Remote) ...   \n",
       "998  787c03babc40e3bf                       Team Leader (German speaker)   \n",
       "999  0a7b49462b5ff082                         PHONE INTERPRETER - HEBREW   \n",
       "\n",
       "                     Company             Location  \\\n",
       "0                     Auchan               Lisboa   \n",
       "1                     Nestlé        Linda-a-Velha   \n",
       "2             Via Consulting             Portugal   \n",
       "3             Via Consulting             Portugal   \n",
       "4                      Sonae             Portugal   \n",
       "..                       ...                  ...   \n",
       "995                Crossover               Lisboa   \n",
       "996                Crossover  <span>Remoto</span>   \n",
       "997                Crossover               Lisboa   \n",
       "998               TIME FRAME                Porto   \n",
       "999  Kelly Services Portugal               Lisboa   \n",
       "\n",
       "                                          ShortSummary Salary ExtractDate  \\\n",
       "0    Na Auchan Retail Portugal o cliente é o centro...    NaN   9/17/2021   \n",
       "1    This professional will be responsible to execu...    NaN   9/17/2021   \n",
       "2    Procuramos pessoas com formação superior (lice...    NaN   9/17/2021   \n",
       "3    Procuramos pessoas com formação (licenciatura ...    NaN   9/17/2021   \n",
       "4    . Acompanhamento e aconselhamento dos nossos c...    NaN   9/17/2021   \n",
       "..                                                 ...    ...         ...   \n",
       "995  We make weekly investments in our team’s profe...    NaN  2021-09-18   \n",
       "996  Each week you will have a different design pro...    NaN  2021-09-18   \n",
       "997  It is time to move on from deceptive and archa...    NaN  2021-09-18   \n",
       "998  As specialists in customer care, we use the la...    NaN  2021-09-18   \n",
       "999  Our client solutions (phone, video), are easy ...    NaN  2021-09-18   \n",
       "\n",
       "        PostDate                                             JobUrl  \\\n",
       "0    Agora mesmo  https://pt.indeed.com/ver-oferta?jk=ca973c0cd8...   \n",
       "1    Agora mesmo  https://pt.indeed.com/ver-oferta?jk=4346909910...   \n",
       "2    Agora mesmo  https://pt.indeed.com/ver-oferta?jk=8800866b69...   \n",
       "3    Agora mesmo  https://pt.indeed.com/ver-oferta?jk=c8eb1a5193...   \n",
       "4    Agora mesmo  https://pt.indeed.com/ver-oferta?jk=da9e05f1c0...   \n",
       "..           ...                                                ...   \n",
       "995    há 4 dias  https://pt.indeed.com/ver-oferta?jk=4f786cd8ad...   \n",
       "996    há 4 dias  https://pt.indeed.com/ver-oferta?jk=96ebfc6d33...   \n",
       "997    há 4 dias  https://pt.indeed.com/ver-oferta?jk=caffaf953a...   \n",
       "998    há 4 dias  https://pt.indeed.com/ver-oferta?jk=787c03babc...   \n",
       "999    há 4 dias  https://pt.indeed.com/ver-oferta?jk=0a7b49462b...   \n",
       "\n",
       "                                       FullDescription  \\\n",
       "0    Vem descobrir como é trabalhar no comércio. Na...   \n",
       "1    Position Snapshot  Location: Linda-a-Velha, Li...   \n",
       "2    Procuramos pessoas com formação superior (lice...   \n",
       "3    Procuramos pessoas com formação (licenciatura ...   \n",
       "4    Na Direção de Vendas temos como missão garanti...   \n",
       "..                                                 ...   \n",
       "995                                                NaN   \n",
       "996                                                NaN   \n",
       "997                                                NaN   \n",
       "998                                                NaN   \n",
       "999                                                NaN   \n",
       "\n",
       "                                           CompanyLink  \n",
       "0    https://pt.indeed.com/rc/clk?jk=ca973c0cd81009...  \n",
       "1    https://pt.indeed.com/rc/clk?jk=43469099100027...  \n",
       "2                                                  NaN  \n",
       "3                                                  NaN  \n",
       "4    https://pt.indeed.com/rc/clk?jk=da9e05f1c02780...  \n",
       "..                                                 ...  \n",
       "995                                                NaN  \n",
       "996                                                NaN  \n",
       "997                                                NaN  \n",
       "998                                                NaN  \n",
       "999                                                NaN  \n",
       "\n",
       "[1000 rows x 11 columns]"
      ]
     },
     "metadata": {},
     "execution_count": 8
    }
   ],
   "metadata": {}
  }
 ],
 "metadata": {
  "orig_nbformat": 4,
  "language_info": {
   "name": "python",
   "version": "3.8.8",
   "mimetype": "text/x-python",
   "codemirror_mode": {
    "name": "ipython",
    "version": 3
   },
   "pygments_lexer": "ipython3",
   "nbconvert_exporter": "python",
   "file_extension": ".py"
  },
  "kernelspec": {
   "name": "python3",
   "display_name": "Python 3.8.8 64-bit ('mlcourse': conda)"
  },
  "interpreter": {
   "hash": "e4bff5b682aa07adb254283e21d36547e3dbb28a7d578473d3b997b4eaaa90c6"
  }
 },
 "nbformat": 4,
 "nbformat_minor": 2
}