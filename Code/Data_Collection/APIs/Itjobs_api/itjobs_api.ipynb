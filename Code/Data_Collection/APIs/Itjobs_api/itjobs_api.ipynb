{
 "cells": [
  {
   "cell_type": "code",
   "execution_count": 60,
   "metadata": {},
   "outputs": [],
   "source": [
    "from config import API_KEY\n",
    "import requests\n",
    "import os\n",
    "import json\n",
    "import pandas as pd\n",
    "from util import save_data_to_json\n",
    "from datetime import date\n",
    "from w3lib.html import remove_tags"
   ]
  },
  {
   "cell_type": "code",
   "execution_count": 63,
   "metadata": {},
   "outputs": [],
   "source": [
    "def call_api():#json query\n",
    "    params = {\n",
    "        'api_key': API_KEY,\n",
    "        'limit': 3890\n",
    "        }\n",
    "\n",
    "    response = requests.get(url=f\"https://api.itjobs.pt/job/list.json\", params=params)\n",
    "    print(response)\n",
    "\n",
    "    # Save results to json\n",
    "    results = response.json()\n",
    "    jobs = results['results']\n",
    "    return jobs"
   ]
  },
  {
   "cell_type": "code",
   "execution_count": 81,
   "metadata": {},
   "outputs": [],
   "source": [
    "def main():\n",
    "    jobs = call_api()\n",
    "\n",
    "    job_offers = []\n",
    "    for j in jobs:\n",
    "\n",
    "        title = j['title']\n",
    "        description = remove_tags(j['body'])\n",
    "        post_date = j['publishedAt']\n",
    "        company = j['company']['name']\n",
    "        try:\n",
    "            job_location = [i['name'] for i in j['locations']]\n",
    "            ', '.join(job_location)\n",
    "        except KeyError:\n",
    "            job_location = ''\n",
    "\n",
    "        try:\n",
    "            salary = j['wage']\n",
    "        except AttributeError:\n",
    "            salary = ''\n",
    "\n",
    "        job_offer = {\n",
    "            'job_title': title,\n",
    "            'job_description': description, \n",
    "            'post_date': post_date, \n",
    "            'scrape_date': date.today().strftime(\"%d/%m/%Y\"),\n",
    "            'company': company,\n",
    "            'job_location': job_location,\n",
    "            'job_category': 'IT',\n",
    "            'job_ref': f\"https://www.itjobs.pt/oferta/{j['id']}/{j['slug']}\",\n",
    "            'salary': salary,\n",
    "        }\n",
    "\n",
    "        job_offers.append(job_offer)\n",
    "\n",
    "    save_data_to_json(\"C:/Users/gilnr/OneDrive - NOVASBE/Work Project/Code/Job Vacancies Data/itjobs_jobs\", jobs)"
   ]
  },
  {
   "cell_type": "code",
   "execution_count": 82,
   "metadata": {},
   "outputs": [
    {
     "name": "stdout",
     "output_type": "stream",
     "text": [
      "<Response [200]>\n"
     ]
    }
   ],
   "source": [
    "main()"
   ]
  }
 ],
 "metadata": {
  "interpreter": {
   "hash": "e4bff5b682aa07adb254283e21d36547e3dbb28a7d578473d3b997b4eaaa90c6"
  },
  "kernelspec": {
   "display_name": "Python 3.8.8 64-bit ('mlcourse': conda)",
   "name": "python3"
  },
  "language_info": {
   "codemirror_mode": {
    "name": "ipython",
    "version": 3
   },
   "file_extension": ".py",
   "mimetype": "text/x-python",
   "name": "python",
   "nbconvert_exporter": "python",
   "pygments_lexer": "ipython3",
   "version": "3.8.8"
  },
  "orig_nbformat": 4
 },
 "nbformat": 4,
 "nbformat_minor": 2
}
