{
 "cells": [
  {
   "cell_type": "code",
   "execution_count": 6,
   "metadata": {},
   "outputs": [],
   "source": [
    "import pandas as pd\n",
    "from Local_database import LocalDatabase\n",
    "import os"
   ]
  },
  {
   "cell_type": "code",
   "execution_count": 8,
   "metadata": {},
   "outputs": [
    {
     "data": {
      "text/plain": [
       "WindowsPath('c:/Users/gilnr/OneDrive - NOVASBE/Work Project/Thesis - Code/Data')"
      ]
     },
     "execution_count": 8,
     "metadata": {},
     "output_type": "execute_result"
    }
   ],
   "source": [
    "from pathlib import Path, PureWindowsPath\n",
    "\n",
    "main_folder = PureWindowsPath(\"c:\\\\Users\\\\gilnr\\\\OneDrive - NOVASBE\\\\Work Project\\\\Code\")\n",
    "MAIN_FOLDER = Path(main_folder)\n",
    "DATA_FOLDER = MAIN_FOLDER / \"Data\"\n",
    "DATA_FOLDER"
   ]
  },
  {
   "cell_type": "code",
   "execution_count": 13,
   "metadata": {},
   "outputs": [],
   "source": [
    "LD = LocalDatabase()"
   ]
  },
  {
   "cell_type": "code",
   "execution_count": 14,
   "metadata": {},
   "outputs": [],
   "source": [
    "LD.insert_file_db(DATA_FOLDER / 'full_data_clean_v1.json', 'jobsdb', 'Job Vacancies Clean')"
   ]
  },
  {
   "cell_type": "code",
   "execution_count": 15,
   "metadata": {},
   "outputs": [],
   "source": [
    "items = LD.pull_data('jobsdb', 'Job Vacancies Clean')"
   ]
  },
  {
   "cell_type": "code",
   "execution_count": 16,
   "metadata": {},
   "outputs": [],
   "source": [
    "df = pd.DataFrame(items)"
   ]
  },
  {
   "cell_type": "code",
   "execution_count": 17,
   "metadata": {},
   "outputs": [
    {
     "data": {
      "text/html": [
       "<div>\n",
       "<style scoped>\n",
       "    .dataframe tbody tr th:only-of-type {\n",
       "        vertical-align: middle;\n",
       "    }\n",
       "\n",
       "    .dataframe tbody tr th {\n",
       "        vertical-align: top;\n",
       "    }\n",
       "\n",
       "    .dataframe thead th {\n",
       "        text-align: right;\n",
       "    }\n",
       "</style>\n",
       "<table border=\"1\" class=\"dataframe\">\n",
       "  <thead>\n",
       "    <tr style=\"text-align: right;\">\n",
       "      <th></th>\n",
       "      <th>_id</th>\n",
       "      <th>job_title</th>\n",
       "      <th>job_description</th>\n",
       "      <th>company</th>\n",
       "      <th>job_location</th>\n",
       "      <th>job_category</th>\n",
       "      <th>salary</th>\n",
       "      <th>post_date</th>\n",
       "      <th>scrape_date</th>\n",
       "      <th>job_href</th>\n",
       "      <th>website</th>\n",
       "    </tr>\n",
       "  </thead>\n",
       "  <tbody>\n",
       "    <tr>\n",
       "      <th>0</th>\n",
       "      <td>61780d54241b9c12971cca61</td>\n",
       "      <td>Backend Developer (Python)</td>\n",
       "      <td>Na Dellent, ligamos os melhores talentos aos m...</td>\n",
       "      <td>Dellent</td>\n",
       "      <td>Porto</td>\n",
       "      <td>Informática (Programação)</td>\n",
       "      <td>None</td>\n",
       "      <td>1633046400000</td>\n",
       "      <td>1620604800000</td>\n",
       "      <td>https://www.bonsempregos.com/oferta-emprego/ba...</td>\n",
       "      <td>Bons empregos</td>\n",
       "    </tr>\n",
       "    <tr>\n",
       "      <th>1</th>\n",
       "      <td>61780d54241b9c12971cca62</td>\n",
       "      <td>Assistant de gestion Assurance - Français</td>\n",
       "      <td>Génération, une entreprise innovante, motivant...</td>\n",
       "      <td>Generation</td>\n",
       "      <td>Porto</td>\n",
       "      <td>Informática (Programação)</td>\n",
       "      <td>None</td>\n",
       "      <td>1633046400000</td>\n",
       "      <td>1620604800000</td>\n",
       "      <td>https://www.bonsempregos.com/oferta-emprego/as...</td>\n",
       "      <td>Bons empregos</td>\n",
       "    </tr>\n",
       "    <tr>\n",
       "      <th>2</th>\n",
       "      <td>61780d54241b9c12971cca63</td>\n",
       "      <td>Business Intelligence Developer (Tableau)</td>\n",
       "      <td>Dellent Consulting is a Portuguese consulting,...</td>\n",
       "      <td>Dellent</td>\n",
       "      <td>Porto</td>\n",
       "      <td>Informática (Programação)</td>\n",
       "      <td>None</td>\n",
       "      <td>1633046400000</td>\n",
       "      <td>1620604800000</td>\n",
       "      <td>https://www.bonsempregos.com/oferta-emprego/bu...</td>\n",
       "      <td>Bons empregos</td>\n",
       "    </tr>\n",
       "    <tr>\n",
       "      <th>3</th>\n",
       "      <td>61780d54241b9c12971cca64</td>\n",
       "      <td>Senior Python/Angular Developer</td>\n",
       "      <td>A Dellent Consulting é uma consultora especial...</td>\n",
       "      <td>Dellent</td>\n",
       "      <td>Porto</td>\n",
       "      <td>Informática (Programação)</td>\n",
       "      <td>None</td>\n",
       "      <td>1633046400000</td>\n",
       "      <td>1620604800000</td>\n",
       "      <td>https://www.bonsempregos.com/oferta-emprego/se...</td>\n",
       "      <td>Bons empregos</td>\n",
       "    </tr>\n",
       "    <tr>\n",
       "      <th>4</th>\n",
       "      <td>61780d54241b9c12971cca65</td>\n",
       "      <td>Application Maintenance Engineer</td>\n",
       "      <td>At Dellent Consulting, we know that with the r...</td>\n",
       "      <td>Dellent</td>\n",
       "      <td>Porto</td>\n",
       "      <td>Informática (Programação)</td>\n",
       "      <td>None</td>\n",
       "      <td>1633046400000</td>\n",
       "      <td>1620604800000</td>\n",
       "      <td>https://www.bonsempregos.com/oferta-emprego/ap...</td>\n",
       "      <td>Bons empregos</td>\n",
       "    </tr>\n",
       "  </tbody>\n",
       "</table>\n",
       "</div>"
      ],
      "text/plain": [
       "                        _id                                  job_title  \\\n",
       "0  61780d54241b9c12971cca61                 Backend Developer (Python)   \n",
       "1  61780d54241b9c12971cca62  Assistant de gestion Assurance - Français   \n",
       "2  61780d54241b9c12971cca63  Business Intelligence Developer (Tableau)   \n",
       "3  61780d54241b9c12971cca64            Senior Python/Angular Developer   \n",
       "4  61780d54241b9c12971cca65           Application Maintenance Engineer   \n",
       "\n",
       "                                     job_description     company job_location  \\\n",
       "0  Na Dellent, ligamos os melhores talentos aos m...     Dellent        Porto   \n",
       "1  Génération, une entreprise innovante, motivant...  Generation        Porto   \n",
       "2  Dellent Consulting is a Portuguese consulting,...     Dellent        Porto   \n",
       "3  A Dellent Consulting é uma consultora especial...     Dellent        Porto   \n",
       "4  At Dellent Consulting, we know that with the r...     Dellent        Porto   \n",
       "\n",
       "                job_category salary      post_date    scrape_date  \\\n",
       "0  Informática (Programação)   None  1633046400000  1620604800000   \n",
       "1  Informática (Programação)   None  1633046400000  1620604800000   \n",
       "2  Informática (Programação)   None  1633046400000  1620604800000   \n",
       "3  Informática (Programação)   None  1633046400000  1620604800000   \n",
       "4  Informática (Programação)   None  1633046400000  1620604800000   \n",
       "\n",
       "                                            job_href        website  \n",
       "0  https://www.bonsempregos.com/oferta-emprego/ba...  Bons empregos  \n",
       "1  https://www.bonsempregos.com/oferta-emprego/as...  Bons empregos  \n",
       "2  https://www.bonsempregos.com/oferta-emprego/bu...  Bons empregos  \n",
       "3  https://www.bonsempregos.com/oferta-emprego/se...  Bons empregos  \n",
       "4  https://www.bonsempregos.com/oferta-emprego/ap...  Bons empregos  "
      ]
     },
     "execution_count": 17,
     "metadata": {},
     "output_type": "execute_result"
    }
   ],
   "source": [
    "df.head()"
   ]
  },
  {
   "cell_type": "code",
   "execution_count": 31,
   "metadata": {},
   "outputs": [
    {
     "data": {
      "text/plain": [
       "job_location\n",
       "Lisboa         2492\n",
       "Braga           736\n",
       "Porto           674\n",
       "Estrangeiro     434\n",
       "Aveiro          358\n",
       "Faro            180\n",
       "Leiria          118\n",
       "Setúbal          80\n",
       "Madeira          40\n",
       "Bragança         20\n",
       "Santarém         20\n",
       "Name: _id, dtype: int64"
      ]
     },
     "execution_count": 31,
     "metadata": {},
     "output_type": "execute_result"
    }
   ],
   "source": [
    "df.groupby('job_location')['_id'].count().sort_values(ascending=False)"
   ]
  }
 ],
 "metadata": {
  "interpreter": {
   "hash": "bba407521fb45c5dd5a2b5ae16c1e8a65c7c02f8cd42de997334a0fa9503eae1"
  },
  "kernelspec": {
   "display_name": "Python 3.8.5 64-bit ('mongo_env': conda)",
   "name": "python3"
  },
  "language_info": {
   "codemirror_mode": {
    "name": "ipython",
    "version": 3
   },
   "file_extension": ".py",
   "mimetype": "text/x-python",
   "name": "python",
   "nbconvert_exporter": "python",
   "pygments_lexer": "ipython3",
   "version": "3.8.5"
  },
  "orig_nbformat": 4
 },
 "nbformat": 4,
 "nbformat_minor": 2
}
