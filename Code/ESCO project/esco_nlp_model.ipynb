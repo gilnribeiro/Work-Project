{
 "cells": [
  {
   "cell_type": "code",
   "execution_count": 1,
   "metadata": {
    "ExecuteTime": {
     "end_time": "2021-12-03T20:08:15.447036Z",
     "start_time": "2021-12-03T20:08:15.375178Z"
    }
   },
   "outputs": [],
   "source": [
    "import pandas as pd\n",
    "import numpy as np\n",
    "import json"
   ]
  },
  {
   "cell_type": "code",
   "execution_count": 2,
   "metadata": {
    "ExecuteTime": {
     "end_time": "2021-12-03T20:08:20.780125Z",
     "start_time": "2021-12-03T20:08:16.045934Z"
    }
   },
   "outputs": [],
   "source": [
    "test = pd.read_json('full_data_with_esco_similarity_titles.json')    "
   ]
  },
  {
   "cell_type": "code",
   "execution_count": 3,
   "metadata": {
    "ExecuteTime": {
     "end_time": "2021-12-03T20:08:21.076615Z",
     "start_time": "2021-12-03T20:08:20.782388Z"
    }
   },
   "outputs": [],
   "source": [
    "with open(\"esco_dictionary.json\", 'r', encoding='utf-8') as file:\n",
    "    esco_dict = json.load(file)"
   ]
  },
  {
   "cell_type": "code",
   "execution_count": 4,
   "metadata": {
    "ExecuteTime": {
     "end_time": "2021-12-03T20:08:21.092541Z",
     "start_time": "2021-12-03T20:08:21.079532Z"
    }
   },
   "outputs": [
    {
     "data": {
      "text/plain": [
       "{'occupationUri': 'http://data.europa.eu/esco/occupation/00030d09-2b3a-4efd-87cc-c4ea39d27c34',\n",
       " 'iscoGroup': 2166,\n",
       " 'occupation': 'diretor tecnico',\n",
       " 'skills': ['organizar ensaios',\n",
       "  'avaliar os riscos de uma produção de artes performativas',\n",
       "  'coordenar as atividades com outros departamentos artísticos',\n",
       "  'adaptar-se às necessidades criativas dos artistas',\n",
       "  'negociar questões de saúde e segurança com terceiros',\n",
       "  'promover saúde e segurança',\n",
       "  'coordenar as equipas técnicas das produções artísticas',\n",
       "  'técnicas teatrais']}"
      ]
     },
     "execution_count": 4,
     "metadata": {},
     "output_type": "execute_result"
    }
   ],
   "source": [
    "esco_dict['diretor tecnico']"
   ]
  },
  {
   "cell_type": "code",
   "execution_count": 5,
   "metadata": {
    "ExecuteTime": {
     "end_time": "2021-12-03T20:08:21.373516Z",
     "start_time": "2021-12-03T20:08:21.095530Z"
    }
   },
   "outputs": [
    {
     "name": "stdout",
     "output_type": "stream",
     "text": [
      "(37211, 2)\n"
     ]
    },
    {
     "data": {
      "text/html": [
       "<div>\n",
       "<style scoped>\n",
       "    .dataframe tbody tr th:only-of-type {\n",
       "        vertical-align: middle;\n",
       "    }\n",
       "\n",
       "    .dataframe tbody tr th {\n",
       "        vertical-align: top;\n",
       "    }\n",
       "\n",
       "    .dataframe thead th {\n",
       "        text-align: right;\n",
       "    }\n",
       "</style>\n",
       "<table border=\"1\" class=\"dataframe\">\n",
       "  <thead>\n",
       "    <tr style=\"text-align: right;\">\n",
       "      <th></th>\n",
       "      <th>job_title</th>\n",
       "      <th>esco_similarity_match</th>\n",
       "    </tr>\n",
       "  </thead>\n",
       "  <tbody>\n",
       "    <tr>\n",
       "      <th>1</th>\n",
       "      <td>procuramos designer grafico a</td>\n",
       "      <td>designer grafico</td>\n",
       "    </tr>\n",
       "    <tr>\n",
       "      <th>2</th>\n",
       "      <td>designer grafico</td>\n",
       "      <td>designer grafico</td>\n",
       "    </tr>\n",
       "    <tr>\n",
       "      <th>4</th>\n",
       "      <td>area de marketing e comunicacao gestor junior</td>\n",
       "      <td>gestor de marketing</td>\n",
       "    </tr>\n",
       "    <tr>\n",
       "      <th>6</th>\n",
       "      <td>marketeer digital</td>\n",
       "      <td>marketeer</td>\n",
       "    </tr>\n",
       "    <tr>\n",
       "      <th>12</th>\n",
       "      <td>gestor marketing e e commerce</td>\n",
       "      <td>gestor de marketing</td>\n",
       "    </tr>\n",
       "  </tbody>\n",
       "</table>\n",
       "</div>"
      ],
      "text/plain": [
       "                                        job_title esco_similarity_match\n",
       "1                   procuramos designer grafico a      designer grafico\n",
       "2                                designer grafico      designer grafico\n",
       "4   area de marketing e comunicacao gestor junior   gestor de marketing\n",
       "6                               marketeer digital             marketeer\n",
       "12                  gestor marketing e e commerce   gestor de marketing"
      ]
     },
     "execution_count": 5,
     "metadata": {},
     "output_type": "execute_result"
    }
   ],
   "source": [
    "mask = test['esco_similarity_match'].str.contains('NOT FOUND', case=False, na=False)\n",
    "print(test[~mask][['job_title','esco_similarity_match']].shape)\n",
    "test[~mask][['job_title','esco_similarity_match']].head()"
   ]
  },
  {
   "cell_type": "markdown",
   "metadata": {},
   "source": [
    "# The Model"
   ]
  },
  {
   "cell_type": "code",
   "execution_count": 6,
   "metadata": {
    "ExecuteTime": {
     "end_time": "2021-12-02T19:10:07.340353Z",
     "start_time": "2021-12-02T19:10:07.317559Z"
    }
   },
   "outputs": [],
   "source": [
    "# import re\n",
    "\n",
    "# def ngrams(string, n=3):\n",
    "#     string = re.sub(r'[,-./]|\\sBD',r'', string)\n",
    "#     ngrams = zip(*[string[i:] for i in range(n)])\n",
    "#     return [''.join(ngram) for ngram in ngrams]"
   ]
  },
  {
   "cell_type": "code",
   "execution_count": 7,
   "metadata": {
    "ExecuteTime": {
     "end_time": "2021-12-02T19:39:39.130064Z",
     "start_time": "2021-12-02T19:39:37.679354Z"
    }
   },
   "outputs": [],
   "source": [
    "# from sklearn.feature_extraction.text import CountVectorizer\n",
    "from sklearn.feature_extraction.text import TfidfVectorizer\n",
    "\n",
    "job_titles = [i for i in esco_dict]\n",
    "vectorizer = TfidfVectorizer(min_df=1, ngram_range=(1, 3))\n",
    "tf_idf_matrix = vectorizer.fit_transform(job_titles)"
   ]
  },
  {
   "cell_type": "code",
   "execution_count": 46,
   "metadata": {
    "ExecuteTime": {
     "end_time": "2021-12-02T19:51:50.652951Z",
     "start_time": "2021-12-02T19:51:50.467272Z"
    }
   },
   "outputs": [],
   "source": [
    "feature_names = vectorizer.get_feature_names_out()\n",
    "m = vectorizer.transform([\"\"])\n",
    "for i in m.nonzero()[1]:\n",
    "    print(f\"{i} - {feature_names[i]}\\n\\t\\t{m[0,i]}\")"
   ]
  },
  {
   "cell_type": "code",
   "execution_count": 10,
   "metadata": {
    "ExecuteTime": {
     "end_time": "2021-12-02T19:51:15.977514Z",
     "start_time": "2021-12-02T19:51:15.958289Z"
    }
   },
   "outputs": [],
   "source": [
    "import numpy as np\n",
    "from scipy.sparse import csr_matrix\n",
    "import sparse_dot_topn.sparse_dot_topn as ct\n",
    "\n",
    "def awesome_cossim_top(A, B, ntop, lower_bound=0):\n",
    "    # force A and B as a CSR matrix.\n",
    "    # If they have already been CSR, there is no overhead\n",
    "    A = A.tocsr()\n",
    "    B = B.tocsr()\n",
    "    M, _ = A.shape\n",
    "    _, N = B.shape\n",
    " \n",
    "    idx_dtype = np.int32\n",
    " \n",
    "    nnz_max = M*ntop\n",
    " \n",
    "    indptr = np.zeros(M+1, dtype=idx_dtype)\n",
    "    indices = np.zeros(nnz_max, dtype=idx_dtype)\n",
    "    data = np.zeros(nnz_max, dtype=A.dtype)\n",
    "    \n",
    "    ct.sparse_dot_topn(\n",
    "        M, N, np.asarray(A.indptr, dtype=idx_dtype),\n",
    "        np.asarray(A.indices, dtype=idx_dtype),\n",
    "        A.data,\n",
    "        np.asarray(B.indptr, dtype=idx_dtype),\n",
    "        np.asarray(B.indices, dtype=idx_dtype),\n",
    "        B.data,\n",
    "        ntop,\n",
    "        lower_bound,\n",
    "        indptr, indices, data)\n",
    "\n",
    "    return csr_matrix((data,indices,indptr),shape=(M,N))"
   ]
  },
  {
   "cell_type": "code",
   "execution_count": 47,
   "metadata": {
    "ExecuteTime": {
     "end_time": "2021-12-02T19:51:19.934296Z",
     "start_time": "2021-12-02T19:51:19.904399Z"
    }
   },
   "outputs": [
    {
     "ename": "IndexError",
     "evalue": "Out of bounds on buffer access (axis 0)",
     "output_type": "error",
     "traceback": [
      "\u001b[1;31m---------------------------------------------------------------------------\u001b[0m",
      "\u001b[1;31mIndexError\u001b[0m                                Traceback (most recent call last)",
      "\u001b[1;32m~\\AppData\\Local\\Temp/ipykernel_21924/141534244.py\u001b[0m in \u001b[0;36m<module>\u001b[1;34m\u001b[0m\n\u001b[0;32m      1\u001b[0m \u001b[1;32mimport\u001b[0m \u001b[0mtime\u001b[0m\u001b[1;33m\u001b[0m\u001b[1;33m\u001b[0m\u001b[0m\n\u001b[0;32m      2\u001b[0m \u001b[0mt1\u001b[0m \u001b[1;33m=\u001b[0m \u001b[0mtime\u001b[0m\u001b[1;33m.\u001b[0m\u001b[0mtime\u001b[0m\u001b[1;33m(\u001b[0m\u001b[1;33m)\u001b[0m\u001b[1;33m\u001b[0m\u001b[1;33m\u001b[0m\u001b[0m\n\u001b[1;32m----> 3\u001b[1;33m \u001b[0mmatches\u001b[0m \u001b[1;33m=\u001b[0m \u001b[0mawesome_cossim_top\u001b[0m\u001b[1;33m(\u001b[0m\u001b[0mm\u001b[0m\u001b[1;33m,\u001b[0m \u001b[0mtf_idf_matrix\u001b[0m\u001b[1;33m.\u001b[0m\u001b[0mtranspose\u001b[0m\u001b[1;33m(\u001b[0m\u001b[1;33m)\u001b[0m\u001b[1;33m,\u001b[0m \u001b[1;36m10\u001b[0m\u001b[1;33m,\u001b[0m \u001b[1;36m0\u001b[0m\u001b[1;33m)\u001b[0m\u001b[1;33m\u001b[0m\u001b[1;33m\u001b[0m\u001b[0m\n\u001b[0m\u001b[0;32m      4\u001b[0m \u001b[0mt\u001b[0m \u001b[1;33m=\u001b[0m \u001b[0mtime\u001b[0m\u001b[1;33m.\u001b[0m\u001b[0mtime\u001b[0m\u001b[1;33m(\u001b[0m\u001b[1;33m)\u001b[0m\u001b[1;33m-\u001b[0m\u001b[0mt1\u001b[0m\u001b[1;33m\u001b[0m\u001b[1;33m\u001b[0m\u001b[0m\n\u001b[0;32m      5\u001b[0m \u001b[0mprint\u001b[0m\u001b[1;33m(\u001b[0m\u001b[0mm\u001b[0m\u001b[1;33m.\u001b[0m\u001b[0mshape\u001b[0m\u001b[1;33m)\u001b[0m\u001b[1;33m\u001b[0m\u001b[1;33m\u001b[0m\u001b[0m\n",
      "\u001b[1;32m~\\AppData\\Local\\Temp/ipykernel_21924/3809509513.py\u001b[0m in \u001b[0;36mawesome_cossim_top\u001b[1;34m(A, B, ntop, lower_bound)\u001b[0m\n\u001b[0;32m     19\u001b[0m     \u001b[0mdata\u001b[0m \u001b[1;33m=\u001b[0m \u001b[0mnp\u001b[0m\u001b[1;33m.\u001b[0m\u001b[0mzeros\u001b[0m\u001b[1;33m(\u001b[0m\u001b[0mnnz_max\u001b[0m\u001b[1;33m,\u001b[0m \u001b[0mdtype\u001b[0m\u001b[1;33m=\u001b[0m\u001b[0mA\u001b[0m\u001b[1;33m.\u001b[0m\u001b[0mdtype\u001b[0m\u001b[1;33m)\u001b[0m\u001b[1;33m\u001b[0m\u001b[1;33m\u001b[0m\u001b[0m\n\u001b[0;32m     20\u001b[0m \u001b[1;33m\u001b[0m\u001b[0m\n\u001b[1;32m---> 21\u001b[1;33m     ct.sparse_dot_topn(\n\u001b[0m\u001b[0;32m     22\u001b[0m         \u001b[0mM\u001b[0m\u001b[1;33m,\u001b[0m \u001b[0mN\u001b[0m\u001b[1;33m,\u001b[0m \u001b[0mnp\u001b[0m\u001b[1;33m.\u001b[0m\u001b[0masarray\u001b[0m\u001b[1;33m(\u001b[0m\u001b[0mA\u001b[0m\u001b[1;33m.\u001b[0m\u001b[0mindptr\u001b[0m\u001b[1;33m,\u001b[0m \u001b[0mdtype\u001b[0m\u001b[1;33m=\u001b[0m\u001b[0midx_dtype\u001b[0m\u001b[1;33m)\u001b[0m\u001b[1;33m,\u001b[0m\u001b[1;33m\u001b[0m\u001b[1;33m\u001b[0m\u001b[0m\n\u001b[0;32m     23\u001b[0m         \u001b[0mnp\u001b[0m\u001b[1;33m.\u001b[0m\u001b[0masarray\u001b[0m\u001b[1;33m(\u001b[0m\u001b[0mA\u001b[0m\u001b[1;33m.\u001b[0m\u001b[0mindices\u001b[0m\u001b[1;33m,\u001b[0m \u001b[0mdtype\u001b[0m\u001b[1;33m=\u001b[0m\u001b[0midx_dtype\u001b[0m\u001b[1;33m)\u001b[0m\u001b[1;33m,\u001b[0m\u001b[1;33m\u001b[0m\u001b[1;33m\u001b[0m\u001b[0m\n",
      "\u001b[1;32mc:\\Users\\gilnr\\OneDrive - NOVASBE\\Work Project\\venv\\lib\\site-packages\\sparse_dot_topn\\sparse_dot_topn.pyx\u001b[0m in \u001b[0;36msparse_dot_topn.sparse_dot_topn.__pyx_fuse_1sparse_dot_topn\u001b[1;34m()\u001b[0m\n",
      "\u001b[1;32mc:\\Users\\gilnr\\OneDrive - NOVASBE\\Work Project\\venv\\lib\\site-packages\\sparse_dot_topn\\sparse_dot_topn.pyx\u001b[0m in \u001b[0;36msparse_dot_topn.sparse_dot_topn.sparse_dot_topn\u001b[1;34m()\u001b[0m\n",
      "\u001b[1;31mIndexError\u001b[0m: Out of bounds on buffer access (axis 0)"
     ]
    }
   ],
   "source": [
    "import time\n",
    "t1 = time.time()\n",
    "matches = awesome_cossim_top(m, tf_idf_matrix.transpose(), 10, 0)\n",
    "t = time.time()-t1\n",
    "print(m.shape)\n",
    "print(tf_idf_matrix.shape)\n",
    "print(\"SELFTIMED:\", t)\n",
    "matches.nonzero()"
   ]
  },
  {
   "cell_type": "code",
   "execution_count": 13,
   "metadata": {
    "ExecuteTime": {
     "end_time": "2021-12-02T19:51:21.424856Z",
     "start_time": "2021-12-02T19:51:21.398486Z"
    }
   },
   "outputs": [
    {
     "name": "stdout",
     "output_type": "stream",
     "text": [
      "11145 - advogado empresa\n",
      "\t\t0.7975335365133421\n",
      "6867 - advogado\n",
      "\t\t0.7145417364007014\n",
      "11146 - advogada empresa advogado empresa\n",
      "\t\t0.6027085931097672\n",
      "9035 - trabalhadora empresa mudancas trabalhador empresa mudancas\n",
      "\t\t0.2973130678196964\n",
      "9034 - trabalhador empresa mudancas\n",
      "\t\t0.2871932896210978\n",
      "6868 - advogado solicitador solicitadora advogada\n",
      "\t\t0.2187481960198304\n",
      "3859 - diretor geral gerente empresa diretor comercial diretora comercial diretora geral\n",
      "\t\t0.12357243223785598\n"
     ]
    },
    {
     "data": {
      "text/plain": [
       "'advogado empresa'"
      ]
     },
     "execution_count": 13,
     "metadata": {},
     "output_type": "execute_result"
    }
   ],
   "source": [
    "for i in matches.nonzero()[1]:\n",
    "    print(f\"{i} - {job_titles[i]}\\n\\t\\t{matches[0,i]}\")\n",
    "best_match = job_titles[matches.nonzero()[1][0]]\n",
    "best_match"
   ]
  },
  {
   "cell_type": "code",
   "execution_count": 14,
   "metadata": {},
   "outputs": [
    {
     "data": {
      "text/plain": [
       "{'occupationUri': 'http://data.europa.eu/esco/occupation/fdfce14e-992d-4ff4-9f9d-7a353c75654e',\n",
       " 'iscoGroup': 2611,\n",
       " 'occupation': 'advogado empresa',\n",
       " 'skills': ['rastrear transações financeiras',\n",
       "  'fusões e aquisições',\n",
       "  'prestar aconselhamento jurídico sobre investimentos',\n",
       "  'legislação farmacêutica',\n",
       "  'comércio internacional',\n",
       "  'legislação em matéria de cuidados de saúde',\n",
       "  'legislação ferroviária',\n",
       "  'direito da comunicação social',\n",
       "  'compilar documentos jurídicos',\n",
       "  'direito urbanístico',\n",
       "  'negociar em processos jurídicos',\n",
       "  'proteger os interesses do cliente',\n",
       "  'direito da propriedade intelectual',\n",
       "  'analisar provas legais',\n",
       "  'apresentar argumentos persuasivamente',\n",
       "  'utilizar técnicas de consultoria',\n",
       "  'demonstrações financeiras',\n",
       "  'legislação relativa ao transporte rodoviário',\n",
       "  'apresentar argumentos jurídicos',\n",
       "  'moderar negociações',\n",
       "  'interpretar a lei',\n",
       "  'direito contratual',\n",
       "  'legislação agrícola',\n",
       "  'interpretar demonstrações financeiras',\n",
       "  'gestão de processos jurídicos',\n",
       "  'direito antidumping',\n",
       "  'legislação ambiental',\n",
       "  'legislação alimentar',\n",
       "  'valores mobiliários',\n",
       "  'representar clientes em tribunal',\n",
       "  'legislação relativa à segurança informática',\n",
       "  'operações de filiais',\n",
       "  'joint ventures',\n",
       "  'responder a solicitações',\n",
       "  'respeitar a confidencialidade',\n",
       "  'legislação em matéria de insolvência',\n",
       "  'analisar fatores internos de empresas',\n",
       "  'gerir contratos',\n",
       "  'consultar os clientes empresariais',\n",
       "  'legislação do emprego',\n",
       "  'direito internacional',\n",
       "  'investigação jurídica',\n",
       "  'direito aéreo',\n",
       "  'direito da propriedade',\n",
       "  'direito da segurança social',\n",
       "  'desenvolver uma rede de contactos profissional',\n",
       "  'processos de leilão público',\n",
       "  'terminologia jurídica',\n",
       "  'direito da concorrência',\n",
       "  'direito comercial',\n",
       "  'legislação fiscal',\n",
       "  'direito das sociedades',\n",
       "  'processos judiciais',\n",
       "  'legislação em matéria de direitos de autor',\n",
       "  'negociar honorários de advogados',\n",
       "  'avaliar a viabilidade financeira',\n",
       "  'prestar aconselhamento jurídico',\n",
       "  'analisar a aplicabilidade',\n",
       "  'aconselhar sobre conformidade legal para participação em mercados financeiros',\n",
       "  'identificar as necessidades dos clientes',\n",
       "  'detetar crimes financeiros',\n",
       "  'gerir o contencioso em matéria contratual']}"
      ]
     },
     "execution_count": 14,
     "metadata": {},
     "output_type": "execute_result"
    }
   ],
   "source": [
    "esco_dict[best_match]"
   ]
  },
  {
   "cell_type": "markdown",
   "metadata": {},
   "source": [
    "# Model Functions"
   ]
  },
  {
   "cell_type": "code",
   "execution_count": 114,
   "metadata": {
    "ExecuteTime": {
     "end_time": "2021-12-03T20:08:28.370473Z",
     "start_time": "2021-12-03T20:08:28.350758Z"
    }
   },
   "outputs": [],
   "source": [
    "import numpy as np\n",
    "from scipy.sparse import csr_matrix\n",
    "import sparse_dot_topn.sparse_dot_topn as ct\n",
    "\n",
    "def awesome_cossim_top(A, B, ntop, lower_bound=0):\n",
    "    # force A and B as a CSR matrix.\n",
    "    # If they have already been CSR, there is no overhead\n",
    "    A = A.tocsr()\n",
    "    B = B.tocsr()\n",
    "    M, _ = A.shape\n",
    "    _, N = B.shape\n",
    " \n",
    "    idx_dtype = np.int32\n",
    " \n",
    "    nnz_max = M*ntop\n",
    " \n",
    "    indptr = np.zeros(M+1, dtype=idx_dtype)\n",
    "    indices = np.zeros(nnz_max, dtype=idx_dtype)\n",
    "    data = np.zeros(nnz_max, dtype=A.dtype)\n",
    "\n",
    "    try:\n",
    "        ct.sparse_dot_topn(\n",
    "            M, N, np.asarray(A.indptr, dtype=idx_dtype),\n",
    "            np.asarray(A.indices, dtype=idx_dtype),\n",
    "            A.data,\n",
    "            np.asarray(B.indptr, dtype=idx_dtype),\n",
    "            np.asarray(B.indices, dtype=idx_dtype),\n",
    "            B.data,\n",
    "            ntop,\n",
    "            lower_bound,\n",
    "            indptr, indices, data)\n",
    "    except IndexError:\n",
    "        return \"NOT FOUND\"\n",
    "\n",
    "    return csr_matrix((data,indices,indptr),shape=(M,N))"
   ]
  },
  {
   "cell_type": "code",
   "execution_count": 127,
   "metadata": {
    "ExecuteTime": {
     "end_time": "2021-12-04T01:38:59.566179Z",
     "start_time": "2021-12-04T01:38:58.947331Z"
    }
   },
   "outputs": [],
   "source": [
    "from sklearn.feature_extraction.text import TfidfVectorizer\n",
    "\n",
    "def nlpModel(esco_dict):\n",
    "    # Get the list of all job known job titles in the ESCO database\n",
    "    known_job_titles = [i for i in esco_dict]\n",
    "    vectorizer = TfidfVectorizer(min_df=1, ngram_range=(1, 3))\n",
    "    tf_idf_matrix = vectorizer.fit_transform(known_job_titles)\n",
    "    return vectorizer, tf_idf_matrix, known_job_titles\n",
    "\n",
    "vectorizer, tf_idf_matrix, known_job_titles = nlpModel(esco_dict)\n",
    "\n",
    "def getMatches(vectorizer, tf_idf_matrix, known_job_titles, esco_dict, text, ret_score=False, threshold=0.6):    \n",
    "    m = vectorizer.transform([text])\n",
    "    matches = awesome_cossim_top(m, tf_idf_matrix.transpose(), 1, 0)\n",
    "    try:\n",
    "        best_match, score = known_job_titles[matches.nonzero()[1][0]], matches[0,matches.nonzero()[1][0]]\n",
    "    except:\n",
    "        return 'NOT FOUND', 'NOT FOUND', 'NOT FOUND', 'NOT FOUND' \n",
    "    if score >= threshold:\n",
    "        return best_match, esco_dict[best_match]['skills'], esco_dict[best_match]['iscoGroup'], score\n",
    "    return 'NOT FOUND', 'NOT FOUND', 'NOT FOUND', 'NOT FOUND'\n",
    "    # if score >= 0.6 and ret_score == False:\n",
    "    # #     return best_match, esco_dict[best_match]['skills'], esco_dict[best_match]['iscoGroup']\n",
    "    # elif score >= 0.6 and ret_score == True:\n",
    "    #     return best_match, esco_dict[best_match]['skills'], esco_dict[best_match]['iscoGroup'], score"
   ]
  },
  {
   "cell_type": "code",
   "execution_count": 37,
   "metadata": {},
   "outputs": [
    {
     "name": "stdout",
     "output_type": "stream",
     "text": [
      "consultor financeiro 0.7343019766987195\n"
     ]
    }
   ],
   "source": [
    "vectorizer, tf_idf_matrix, known_job_titles = nlpModel(esco_dict)\n",
    "\n",
    "best_match, skills, isco_group, score = getMatches(vectorizer, tf_idf_matrix, known_job_titles, \n",
    "                               esco_dict, 'consultor para trabalhar como financeiro', ret_score=True)\n",
    "print(best_match, score)"
   ]
  },
  {
   "cell_type": "markdown",
   "metadata": {},
   "source": [
    "# Define Model"
   ]
  },
  {
   "cell_type": "code",
   "execution_count": 116,
   "metadata": {
    "ExecuteTime": {
     "end_time": "2021-12-03T20:08:33.704578Z",
     "start_time": "2021-12-03T20:08:33.528185Z"
    }
   },
   "outputs": [],
   "source": [
    "from tqdm.notebook import tqdm"
   ]
  },
  {
   "cell_type": "code",
   "execution_count": 117,
   "metadata": {
    "ExecuteTime": {
     "end_time": "2021-12-03T20:20:05.217217Z",
     "start_time": "2021-12-03T20:08:35.377440Z"
    }
   },
   "outputs": [
    {
     "data": {
      "application/vnd.jupyter.widget-view+json": {
       "model_id": "7fbe776c875c42cb9f0d0af75b58ec3b",
       "version_major": 2,
       "version_minor": 0
      },
      "text/plain": [
       "  0%|          | 0/112555 [00:00<?, ?it/s]"
      ]
     },
     "metadata": {},
     "output_type": "display_data"
    }
   ],
   "source": [
    "vectorizer, tf_idf_matrix, known_job_titles = nlpModel(esco_dict)\n",
    "\n",
    "best_matches = []\n",
    "skills_list = []\n",
    "scores = []\n",
    "isco_groups = []\n",
    "\n",
    "for text in tqdm(test['job_title']):\n",
    "    best_match, skills, isco_group, score = getMatches(vectorizer, tf_idf_matrix, known_job_titles, \n",
    "                               esco_dict, text, ret_score=True)\n",
    "    best_matches.append(best_match)\n",
    "    skills_list.append(skills)\n",
    "    scores.append(score)\n",
    "    isco_groups.append(isco_group)"
   ]
  },
  {
   "cell_type": "code",
   "execution_count": 118,
   "metadata": {
    "ExecuteTime": {
     "end_time": "2021-12-03T20:20:05.264568Z",
     "start_time": "2021-12-03T20:20:05.221491Z"
    }
   },
   "outputs": [],
   "source": [
    "test['similarity_titles'] = best_matches\n",
    "test['similarity_scores'] = scores\n",
    "test['skills'] = skills_list\n",
    "test['iscoGroup'] = isco_groups"
   ]
  },
  {
   "cell_type": "code",
   "execution_count": 124,
   "metadata": {
    "ExecuteTime": {
     "end_time": "2021-12-04T01:35:30.273220Z",
     "start_time": "2021-12-04T01:35:30.214129Z"
    },
    "scrolled": false
   },
   "outputs": [
    {
     "data": {
      "text/html": [
       "<div>\n",
       "<style scoped>\n",
       "    .dataframe tbody tr th:only-of-type {\n",
       "        vertical-align: middle;\n",
       "    }\n",
       "\n",
       "    .dataframe tbody tr th {\n",
       "        vertical-align: top;\n",
       "    }\n",
       "\n",
       "    .dataframe thead th {\n",
       "        text-align: right;\n",
       "    }\n",
       "</style>\n",
       "<table border=\"1\" class=\"dataframe\">\n",
       "  <thead>\n",
       "    <tr style=\"text-align: right;\">\n",
       "      <th></th>\n",
       "      <th>job_title</th>\n",
       "      <th>similarity_titles</th>\n",
       "      <th>esco_similarity_match</th>\n",
       "    </tr>\n",
       "  </thead>\n",
       "  <tbody>\n",
       "    <tr>\n",
       "      <th>1</th>\n",
       "      <td>procuramos designer grafico a</td>\n",
       "      <td>designer grafico</td>\n",
       "      <td>designer grafico</td>\n",
       "    </tr>\n",
       "    <tr>\n",
       "      <th>2</th>\n",
       "      <td>designer grafico</td>\n",
       "      <td>designer grafico</td>\n",
       "      <td>designer grafico</td>\n",
       "    </tr>\n",
       "    <tr>\n",
       "      <th>6</th>\n",
       "      <td>marketeer digital</td>\n",
       "      <td>marketeer</td>\n",
       "      <td>marketeer</td>\n",
       "    </tr>\n",
       "    <tr>\n",
       "      <th>12</th>\n",
       "      <td>gestor marketing e e commerce</td>\n",
       "      <td>gestor marketing</td>\n",
       "      <td>gestor de marketing</td>\n",
       "    </tr>\n",
       "    <tr>\n",
       "      <th>17</th>\n",
       "      <td>designer grafico</td>\n",
       "      <td>designer grafico</td>\n",
       "      <td>designer grafico</td>\n",
       "    </tr>\n",
       "    <tr>\n",
       "      <th>...</th>\n",
       "      <td>...</td>\n",
       "      <td>...</td>\n",
       "      <td>...</td>\n",
       "    </tr>\n",
       "    <tr>\n",
       "      <th>112538</th>\n",
       "      <td>precisa se comercial comissionista produtos ca...</td>\n",
       "      <td>cabeleireiro</td>\n",
       "      <td>cabeleireiro</td>\n",
       "    </tr>\n",
       "    <tr>\n",
       "      <th>112540</th>\n",
       "      <td>tecnico eletromecanico</td>\n",
       "      <td>eletromecanico</td>\n",
       "      <td>eletromecanico</td>\n",
       "    </tr>\n",
       "    <tr>\n",
       "      <th>112541</th>\n",
       "      <td>assistente dentaria</td>\n",
       "      <td>assistente dentaria assistente dentario</td>\n",
       "      <td>assistente dentario</td>\n",
       "    </tr>\n",
       "    <tr>\n",
       "      <th>112543</th>\n",
       "      <td>operador de armazem</td>\n",
       "      <td>operador armazem</td>\n",
       "      <td>operador de armazem</td>\n",
       "    </tr>\n",
       "    <tr>\n",
       "      <th>112552</th>\n",
       "      <td>auxiliar de acao educativa escola palmela</td>\n",
       "      <td>auxiliar acao educativa tecnica acao educativa...</td>\n",
       "      <td>NOT FOUND - auxiliar de acao educativa escola ...</td>\n",
       "    </tr>\n",
       "  </tbody>\n",
       "</table>\n",
       "<p>27138 rows × 3 columns</p>\n",
       "</div>"
      ],
      "text/plain": [
       "                                                job_title  \\\n",
       "1                           procuramos designer grafico a   \n",
       "2                                        designer grafico   \n",
       "6                                       marketeer digital   \n",
       "12                          gestor marketing e e commerce   \n",
       "17                                       designer grafico   \n",
       "...                                                   ...   \n",
       "112538  precisa se comercial comissionista produtos ca...   \n",
       "112540                             tecnico eletromecanico   \n",
       "112541                                assistente dentaria   \n",
       "112543                                operador de armazem   \n",
       "112552          auxiliar de acao educativa escola palmela   \n",
       "\n",
       "                                        similarity_titles  \\\n",
       "1                                        designer grafico   \n",
       "2                                        designer grafico   \n",
       "6                                               marketeer   \n",
       "12                                       gestor marketing   \n",
       "17                                       designer grafico   \n",
       "...                                                   ...   \n",
       "112538                                       cabeleireiro   \n",
       "112540                                     eletromecanico   \n",
       "112541            assistente dentaria assistente dentario   \n",
       "112543                                   operador armazem   \n",
       "112552  auxiliar acao educativa tecnica acao educativa...   \n",
       "\n",
       "                                    esco_similarity_match  \n",
       "1                                        designer grafico  \n",
       "2                                        designer grafico  \n",
       "6                                               marketeer  \n",
       "12                                    gestor de marketing  \n",
       "17                                       designer grafico  \n",
       "...                                                   ...  \n",
       "112538                                       cabeleireiro  \n",
       "112540                                     eletromecanico  \n",
       "112541                                assistente dentario  \n",
       "112543                                operador de armazem  \n",
       "112552  NOT FOUND - auxiliar de acao educativa escola ...  \n",
       "\n",
       "[27138 rows x 3 columns]"
      ]
     },
     "execution_count": 124,
     "metadata": {},
     "output_type": "execute_result"
    }
   ],
   "source": [
    "# mask = test['esco_similarity_match'].str.contains('NOT FOUND', case=False, na=False)\n",
    "# print(test[~mask][['job_title','esco_similarity_match']].shape)\n",
    "# test[~mask][['job_title','esco_similarity_match']].head()\n",
    "test.loc[test['similarity_titles'] != 'NOT FOUND'][['job_title','similarity_titles', 'esco_similarity_match']]"
   ]
  },
  {
   "cell_type": "code",
   "execution_count": 121,
   "metadata": {
    "ExecuteTime": {
     "end_time": "2021-12-04T01:32:58.288322Z",
     "start_time": "2021-12-04T01:32:58.128066Z"
    }
   },
   "outputs": [
    {
     "name": "stdout",
     "output_type": "stream",
     "text": [
      "(37211, 2)\n"
     ]
    },
    {
     "data": {
      "text/html": [
       "<div>\n",
       "<style scoped>\n",
       "    .dataframe tbody tr th:only-of-type {\n",
       "        vertical-align: middle;\n",
       "    }\n",
       "\n",
       "    .dataframe tbody tr th {\n",
       "        vertical-align: top;\n",
       "    }\n",
       "\n",
       "    .dataframe thead th {\n",
       "        text-align: right;\n",
       "    }\n",
       "</style>\n",
       "<table border=\"1\" class=\"dataframe\">\n",
       "  <thead>\n",
       "    <tr style=\"text-align: right;\">\n",
       "      <th></th>\n",
       "      <th>job_title</th>\n",
       "      <th>esco_similarity_match</th>\n",
       "    </tr>\n",
       "  </thead>\n",
       "  <tbody>\n",
       "    <tr>\n",
       "      <th>1</th>\n",
       "      <td>procuramos designer grafico a</td>\n",
       "      <td>designer grafico</td>\n",
       "    </tr>\n",
       "    <tr>\n",
       "      <th>2</th>\n",
       "      <td>designer grafico</td>\n",
       "      <td>designer grafico</td>\n",
       "    </tr>\n",
       "    <tr>\n",
       "      <th>4</th>\n",
       "      <td>area de marketing e comunicacao gestor junior</td>\n",
       "      <td>gestor de marketing</td>\n",
       "    </tr>\n",
       "    <tr>\n",
       "      <th>6</th>\n",
       "      <td>marketeer digital</td>\n",
       "      <td>marketeer</td>\n",
       "    </tr>\n",
       "    <tr>\n",
       "      <th>12</th>\n",
       "      <td>gestor marketing e e commerce</td>\n",
       "      <td>gestor de marketing</td>\n",
       "    </tr>\n",
       "  </tbody>\n",
       "</table>\n",
       "</div>"
      ],
      "text/plain": [
       "                                        job_title esco_similarity_match\n",
       "1                   procuramos designer grafico a      designer grafico\n",
       "2                                designer grafico      designer grafico\n",
       "4   area de marketing e comunicacao gestor junior   gestor de marketing\n",
       "6                               marketeer digital             marketeer\n",
       "12                  gestor marketing e e commerce   gestor de marketing"
      ]
     },
     "execution_count": 121,
     "metadata": {},
     "output_type": "execute_result"
    }
   ],
   "source": [
    "mask = test['esco_similarity_match'].str.contains('NOT FOUND', case=False, na=False)\n",
    "print(test[~mask][['job_title','esco_similarity_match']].shape)\n",
    "test[~mask][['job_title','esco_similarity_match']].head()"
   ]
  },
  {
   "cell_type": "code",
   "execution_count": 128,
   "metadata": {
    "ExecuteTime": {
     "end_time": "2021-12-04T01:39:18.680589Z",
     "start_time": "2021-12-04T01:39:18.659590Z"
    }
   },
   "outputs": [
    {
     "data": {
      "text/plain": [
       "'user interface developers ui developers front end developer user interface engineer ui programmer ui developer'"
      ]
     },
     "execution_count": 128,
     "metadata": {},
     "output_type": "execute_result"
    }
   ],
   "source": [
    "best_match, skills, isco_group, score = getMatches(vectorizer, tf_idf_matrix, known_job_titles, \n",
    "                           esco_dict, 'back end developer', ret_score=True, threshold=0)\n",
    "best_match"
   ]
  }
 ],
 "metadata": {
  "interpreter": {
   "hash": "ded15a6c1822a01916f865a323d57614216811bc18133d4445c41ef3cbd16cb9"
  },
  "kernelspec": {
   "display_name": "mlcourse",
   "language": "python",
   "name": "mlcourse"
  },
  "language_info": {
   "codemirror_mode": {
    "name": "ipython",
    "version": 3
   },
   "file_extension": ".py",
   "mimetype": "text/x-python",
   "name": "python",
   "nbconvert_exporter": "python",
   "pygments_lexer": "ipython3",
   "version": "3.8.8"
  }
 },
 "nbformat": 4,
 "nbformat_minor": 2
}
