{
 "cells": [
  {
   "cell_type": "code",
   "execution_count": 1,
   "metadata": {
    "ExecuteTime": {
     "end_time": "2021-12-02T19:10:02.614343Z",
     "start_time": "2021-12-02T19:10:02.024208Z"
    }
   },
   "outputs": [],
   "source": [
    "import pandas as pd\n",
    "import numpy as np\n",
    "import json"
   ]
  },
  {
   "cell_type": "code",
   "execution_count": 2,
   "metadata": {
    "ExecuteTime": {
     "end_time": "2021-12-02T19:10:06.331971Z",
     "start_time": "2021-12-02T19:10:03.430258Z"
    }
   },
   "outputs": [],
   "source": [
    "test = pd.read_json('full_data_with_esco_similarity_titles.json')    "
   ]
  },
  {
   "cell_type": "code",
   "execution_count": 3,
   "metadata": {
    "ExecuteTime": {
     "end_time": "2021-12-02T19:10:06.938283Z",
     "start_time": "2021-12-02T19:10:06.336532Z"
    }
   },
   "outputs": [],
   "source": [
    "with open(\"esco_dictionary.json\", 'r', encoding='utf-8') as file:\n",
    "    esco_dict = json.load(file)"
   ]
  },
  {
   "cell_type": "code",
   "execution_count": 102,
   "metadata": {
    "ExecuteTime": {
     "end_time": "2021-12-02T19:50:49.395134Z",
     "start_time": "2021-12-02T19:50:49.384001Z"
    }
   },
   "outputs": [
    {
     "data": {
      "text/plain": [
       "{'occupationUri': 'http://data.europa.eu/esco/occupation/00030d09-2b3a-4efd-87cc-c4ea39d27c34',\n",
       " 'iscoGroup': 2166,\n",
       " 'occupation': 'diretor tecnico',\n",
       " 'skills': ['organizar ensaios',\n",
       "  'avaliar os riscos de uma produção de artes performativas',\n",
       "  'coordenar as atividades com outros departamentos artísticos',\n",
       "  'adaptar-se às necessidades criativas dos artistas',\n",
       "  'negociar questões de saúde e segurança com terceiros',\n",
       "  'promover saúde e segurança',\n",
       "  'coordenar as equipas técnicas das produções artísticas',\n",
       "  'técnicas teatrais']}"
      ]
     },
     "execution_count": 102,
     "metadata": {},
     "output_type": "execute_result"
    }
   ],
   "source": [
    "esco_dict['diretor tecnico']"
   ]
  },
  {
   "cell_type": "code",
   "execution_count": 4,
   "metadata": {
    "ExecuteTime": {
     "end_time": "2021-12-02T19:10:07.309962Z",
     "start_time": "2021-12-02T19:10:06.943165Z"
    }
   },
   "outputs": [
    {
     "name": "stdout",
     "output_type": "stream",
     "text": [
      "(37211, 2)\n"
     ]
    },
    {
     "data": {
      "text/html": [
       "<div>\n",
       "<style scoped>\n",
       "    .dataframe tbody tr th:only-of-type {\n",
       "        vertical-align: middle;\n",
       "    }\n",
       "\n",
       "    .dataframe tbody tr th {\n",
       "        vertical-align: top;\n",
       "    }\n",
       "\n",
       "    .dataframe thead th {\n",
       "        text-align: right;\n",
       "    }\n",
       "</style>\n",
       "<table border=\"1\" class=\"dataframe\">\n",
       "  <thead>\n",
       "    <tr style=\"text-align: right;\">\n",
       "      <th></th>\n",
       "      <th>job_title</th>\n",
       "      <th>esco_similarity_match</th>\n",
       "    </tr>\n",
       "  </thead>\n",
       "  <tbody>\n",
       "    <tr>\n",
       "      <th>1</th>\n",
       "      <td>procuramos designer grafico a</td>\n",
       "      <td>designer grafico</td>\n",
       "    </tr>\n",
       "    <tr>\n",
       "      <th>2</th>\n",
       "      <td>designer grafico</td>\n",
       "      <td>designer grafico</td>\n",
       "    </tr>\n",
       "    <tr>\n",
       "      <th>4</th>\n",
       "      <td>area de marketing e comunicacao gestor junior</td>\n",
       "      <td>gestor de marketing</td>\n",
       "    </tr>\n",
       "    <tr>\n",
       "      <th>6</th>\n",
       "      <td>marketeer digital</td>\n",
       "      <td>marketeer</td>\n",
       "    </tr>\n",
       "    <tr>\n",
       "      <th>12</th>\n",
       "      <td>gestor marketing e e commerce</td>\n",
       "      <td>gestor de marketing</td>\n",
       "    </tr>\n",
       "  </tbody>\n",
       "</table>\n",
       "</div>"
      ],
      "text/plain": [
       "                                        job_title esco_similarity_match\n",
       "1                   procuramos designer grafico a      designer grafico\n",
       "2                                designer grafico      designer grafico\n",
       "4   area de marketing e comunicacao gestor junior   gestor de marketing\n",
       "6                               marketeer digital             marketeer\n",
       "12                  gestor marketing e e commerce   gestor de marketing"
      ]
     },
     "execution_count": 4,
     "metadata": {},
     "output_type": "execute_result"
    }
   ],
   "source": [
    "mask = test['esco_similarity_match'].str.contains('NOT FOUND', case=False, na=False)\n",
    "print(test[~mask][['job_title','esco_similarity_match']].shape)\n",
    "test[~mask][['job_title','esco_similarity_match']].head()"
   ]
  },
  {
   "cell_type": "markdown",
   "metadata": {},
   "source": [
    "# The Model"
   ]
  },
  {
   "cell_type": "code",
   "execution_count": 5,
   "metadata": {
    "ExecuteTime": {
     "end_time": "2021-12-02T19:10:07.340353Z",
     "start_time": "2021-12-02T19:10:07.317559Z"
    }
   },
   "outputs": [],
   "source": [
    "import re\n",
    "\n",
    "def ngrams(string, n=3):\n",
    "    string = re.sub(r'[,-./]|\\sBD',r'', string)\n",
    "    ngrams = zip(*[string[i:] for i in range(n)])\n",
    "    return [''.join(ngram) for ngram in ngrams]"
   ]
  },
  {
   "cell_type": "code",
   "execution_count": 66,
   "metadata": {
    "ExecuteTime": {
     "end_time": "2021-12-02T19:39:39.130064Z",
     "start_time": "2021-12-02T19:39:37.679354Z"
    }
   },
   "outputs": [],
   "source": [
    "# from sklearn.feature_extraction.text import CountVectorizer\n",
    "from sklearn.feature_extraction.text import TfidfVectorizer\n",
    "\n",
    "job_titles = [i for i in esco_dict]\n",
    "vectorizer = TfidfVectorizer(min_df=1, ngram_range=(1, 3))\n",
    "tf_idf_matrix = vectorizer.fit_transform(job_titles)\n",
    "\n",
    "# job_titles_field = [i for i in esco_dict]\n",
    "# vectorizer2 = TfidfVectorizer(min_df=1, analyzer=ngrams)\n",
    "# tf_idf_matrix2 = vectorizer2.fit_transform(job_titles_field)"
   ]
  },
  {
   "cell_type": "code",
   "execution_count": 107,
   "metadata": {
    "ExecuteTime": {
     "end_time": "2021-12-02T19:51:50.652951Z",
     "start_time": "2021-12-02T19:51:50.467272Z"
    }
   },
   "outputs": [
    {
     "name": "stdout",
     "output_type": "stream",
     "text": [
      "39712 - empresa\n",
      "\t\t0.6995928151013778\n",
      "2254 - advogado\n",
      "\t\t0.7145417364007014\n"
     ]
    }
   ],
   "source": [
    "feature_names = vectorizer.get_feature_names()\n",
    "m = vectorizer.transform([\"procuramos para empresa senhor martim advogado\"])\n",
    "for i in m.nonzero()[1]:\n",
    "    print(f\"{i} - {feature_names[i]}\\n\\t\\t{m[0,i]}\")"
   ]
  },
  {
   "cell_type": "code",
   "execution_count": 104,
   "metadata": {
    "ExecuteTime": {
     "end_time": "2021-12-02T19:51:15.977514Z",
     "start_time": "2021-12-02T19:51:15.958289Z"
    }
   },
   "outputs": [],
   "source": [
    "import numpy as np\n",
    "from scipy.sparse import csr_matrix\n",
    "import sparse_dot_topn.sparse_dot_topn as ct\n",
    "\n",
    "def awesome_cossim_top(A, B, ntop, lower_bound=0):\n",
    "    # force A and B as a CSR matrix.\n",
    "    # If they have already been CSR, there is no overhead\n",
    "    A = A.tocsr()\n",
    "    B = B.tocsr()\n",
    "    M, _ = A.shape\n",
    "    _, N = B.shape\n",
    " \n",
    "    idx_dtype = np.int32\n",
    " \n",
    "    nnz_max = M*ntop\n",
    " \n",
    "    indptr = np.zeros(M+1, dtype=idx_dtype)\n",
    "    indices = np.zeros(nnz_max, dtype=idx_dtype)\n",
    "    data = np.zeros(nnz_max, dtype=A.dtype)\n",
    "\n",
    "    ct.sparse_dot_topn(\n",
    "        M, N, np.asarray(A.indptr, dtype=idx_dtype),\n",
    "        np.asarray(A.indices, dtype=idx_dtype),\n",
    "        A.data,\n",
    "        np.asarray(B.indptr, dtype=idx_dtype),\n",
    "        np.asarray(B.indices, dtype=idx_dtype),\n",
    "        B.data,\n",
    "        ntop,\n",
    "        lower_bound,\n",
    "        indptr, indices, data)\n",
    "\n",
    "    return csr_matrix((data,indices,indptr),shape=(M,N))"
   ]
  },
  {
   "cell_type": "code",
   "execution_count": 105,
   "metadata": {
    "ExecuteTime": {
     "end_time": "2021-12-02T19:51:19.934296Z",
     "start_time": "2021-12-02T19:51:19.904399Z"
    }
   },
   "outputs": [
    {
     "name": "stdout",
     "output_type": "stream",
     "text": [
      "(1, 139565)\n",
      "(11205, 139565)\n",
      "SELFTIMED: 0.007221698760986328\n"
     ]
    },
    {
     "data": {
      "text/plain": [
       "(array([0, 0, 0, 0, 0, 0, 0, 0, 0, 0]),\n",
       " array([2135, 7007,    0, 5255, 3222, 6902, 7482, 2900, 1477, 2629]))"
      ]
     },
     "execution_count": 105,
     "metadata": {},
     "output_type": "execute_result"
    }
   ],
   "source": [
    "import time\n",
    "t1 = time.time()\n",
    "matches = awesome_cossim_top(m, tf_idf_matrix.transpose(), 10, 0)\n",
    "t = time.time()-t1\n",
    "print(m.shape)\n",
    "print(tf_idf_matrix.shape)\n",
    "print(\"SELFTIMED:\", t)\n",
    "matches.nonzero()"
   ]
  },
  {
   "cell_type": "code",
   "execution_count": 106,
   "metadata": {
    "ExecuteTime": {
     "end_time": "2021-12-02T19:51:21.424856Z",
     "start_time": "2021-12-02T19:51:21.398486Z"
    }
   },
   "outputs": [
    {
     "name": "stdout",
     "output_type": "stream",
     "text": [
      "2135 - responsavel gabinete apoio aluno\n",
      "\t\t0.33312628532250527\n",
      "7007 - tecnico qualidade\n",
      "\t\t0.1351384556376851\n",
      "0 - diretor tecnico\n",
      "\t\t0.13504435131196307\n",
      "5255 - tecnico instrumentos\n",
      "\t\t0.12686975790606694\n",
      "3222 - tecnico marketing\n",
      "\t\t0.1264668759788738\n",
      "6902 - tecnico gas\n",
      "\t\t0.12349426766142861\n",
      "7482 - tecnico video\n",
      "\t\t0.12108978063738408\n",
      "2900 - tecnico informatica\n",
      "\t\t0.12108978063738408\n",
      "1477 - tecnico agricola\n",
      "\t\t0.11983033340356429\n",
      "2629 - tecnico hardware\n",
      "\t\t0.11938777962786025\n"
     ]
    },
    {
     "data": {
      "text/plain": [
       "'responsavel gabinete apoio aluno'"
      ]
     },
     "execution_count": 106,
     "metadata": {},
     "output_type": "execute_result"
    }
   ],
   "source": [
    "for i in matches.nonzero()[1]:\n",
    "    print(f\"{i} - {job_titles[i]}\\n\\t\\t{matches[0,i]}\")\n",
    "job_titles[matches.nonzero()[1][0]]"
   ]
  },
  {
   "cell_type": "code",
   "execution_count": null,
   "metadata": {},
   "outputs": [],
   "source": []
  }
 ],
 "metadata": {
  "interpreter": {
   "hash": "ded15a6c1822a01916f865a323d57614216811bc18133d4445c41ef3cbd16cb9"
  },
  "kernelspec": {
   "display_name": "mlcourse",
   "language": "python",
   "name": "python3"
  },
  "language_info": {
   "codemirror_mode": {
    "name": "ipython",
    "version": 3
   },
   "file_extension": ".py",
   "mimetype": "text/x-python",
   "name": "python",
   "nbconvert_exporter": "python",
   "pygments_lexer": "ipython3",
   "version": "3.9.1"
  }
 },
 "nbformat": 4,
 "nbformat_minor": 2
}
