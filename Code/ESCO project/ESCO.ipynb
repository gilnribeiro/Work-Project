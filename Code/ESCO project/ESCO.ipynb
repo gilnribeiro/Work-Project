{
 "cells": [
  {
   "cell_type": "code",
   "execution_count": 2,
   "metadata": {},
   "outputs": [],
   "source": [
    "import pandas as pd\n",
    "from preprocessing_functions import *"
   ]
  },
  {
   "cell_type": "code",
   "execution_count": 3,
   "metadata": {},
   "outputs": [],
   "source": [
    "skills = pd.read_csv(\"v1.0.8/skills_pt.csv\")\n",
    "occupations = pd.read_csv(\"v1.0.8/occupations_pt.csv\")\n",
    "occ_skills_relation = pd.read_csv(\"v1.0.8/occupationSkillRelations.csv\")"
   ]
  },
  {
   "cell_type": "code",
   "execution_count": 4,
   "metadata": {},
   "outputs": [],
   "source": [
    "skills.rename(columns={'conceptUri': 'skillUri'}, inplace=True)\n",
    "occupations.rename(columns={'conceptUri': 'occupationUri'}, inplace=True)\n"
   ]
  },
  {
   "cell_type": "code",
   "execution_count": 5,
   "metadata": {},
   "outputs": [
    {
     "name": "stdout",
     "output_type": "stream",
     "text": [
      "<class 'pandas.core.frame.DataFrame'>\n",
      "RangeIndex: 13485 entries, 0 to 13484\n",
      "Data columns (total 13 columns):\n",
      " #   Column          Non-Null Count  Dtype  \n",
      "---  ------          --------------  -----  \n",
      " 0   conceptType     13485 non-null  object \n",
      " 1   skillUri        13485 non-null  object \n",
      " 2   skillType       13485 non-null  object \n",
      " 3   reuseLevel      13485 non-null  object \n",
      " 4   preferredLabel  13485 non-null  object \n",
      " 5   altLabels       594 non-null    object \n",
      " 6   hiddenLabels    32 non-null     object \n",
      " 7   status          13485 non-null  object \n",
      " 8   modifiedDate    13485 non-null  object \n",
      " 9   scopeNote       0 non-null      float64\n",
      " 10  definition      0 non-null      float64\n",
      " 11  inScheme        13485 non-null  object \n",
      " 12  description     13485 non-null  object \n",
      "dtypes: float64(2), object(11)\n",
      "memory usage: 1.3+ MB\n"
     ]
    },
    {
     "data": {
      "text/html": [
       "<div>\n",
       "<style scoped>\n",
       "    .dataframe tbody tr th:only-of-type {\n",
       "        vertical-align: middle;\n",
       "    }\n",
       "\n",
       "    .dataframe tbody tr th {\n",
       "        vertical-align: top;\n",
       "    }\n",
       "\n",
       "    .dataframe thead th {\n",
       "        text-align: right;\n",
       "    }\n",
       "</style>\n",
       "<table border=\"1\" class=\"dataframe\">\n",
       "  <thead>\n",
       "    <tr style=\"text-align: right;\">\n",
       "      <th></th>\n",
       "      <th>conceptType</th>\n",
       "      <th>skillUri</th>\n",
       "      <th>skillType</th>\n",
       "      <th>reuseLevel</th>\n",
       "      <th>preferredLabel</th>\n",
       "      <th>altLabels</th>\n",
       "      <th>hiddenLabels</th>\n",
       "      <th>status</th>\n",
       "      <th>modifiedDate</th>\n",
       "      <th>scopeNote</th>\n",
       "      <th>definition</th>\n",
       "      <th>inScheme</th>\n",
       "      <th>description</th>\n",
       "    </tr>\n",
       "  </thead>\n",
       "  <tbody>\n",
       "    <tr>\n",
       "      <th>0</th>\n",
       "      <td>KnowledgeSkillCompetence</td>\n",
       "      <td>http://data.europa.eu/esco/skill/0005c151-5b5a...</td>\n",
       "      <td>skill/competence</td>\n",
       "      <td>sector-specific</td>\n",
       "      <td>gerir músicos</td>\n",
       "      <td>NaN</td>\n",
       "      <td>NaN</td>\n",
       "      <td>released</td>\n",
       "      <td>2016-12-20T17:43:43Z</td>\n",
       "      <td>NaN</td>\n",
       "      <td>NaN</td>\n",
       "      <td>http://data.europa.eu/esco/concept-scheme/skil...</td>\n",
       "      <td>Atribuir e gerir as tarefas do pessoal em área...</td>\n",
       "    </tr>\n",
       "    <tr>\n",
       "      <th>1</th>\n",
       "      <td>KnowledgeSkillCompetence</td>\n",
       "      <td>http://data.europa.eu/esco/skill/00064735-8fad...</td>\n",
       "      <td>skill/competence</td>\n",
       "      <td>occupation-specific</td>\n",
       "      <td>supervisionar procedimentos correcionais</td>\n",
       "      <td>NaN</td>\n",
       "      <td>NaN</td>\n",
       "      <td>released</td>\n",
       "      <td>2020-06-12T06:40:42.536Z</td>\n",
       "      <td>NaN</td>\n",
       "      <td>NaN</td>\n",
       "      <td>http://data.europa.eu/esco/concept-scheme/memb...</td>\n",
       "      <td>Supervisionar as operações de uma instalação c...</td>\n",
       "    </tr>\n",
       "    <tr>\n",
       "      <th>2</th>\n",
       "      <td>KnowledgeSkillCompetence</td>\n",
       "      <td>http://data.europa.eu/esco/skill/000709ed-2be5...</td>\n",
       "      <td>skill/competence</td>\n",
       "      <td>sector-specific</td>\n",
       "      <td>aplicar práticas anti-repressivas</td>\n",
       "      <td>NaN</td>\n",
       "      <td>NaN</td>\n",
       "      <td>released</td>\n",
       "      <td>2016-12-20T19:18:19Z</td>\n",
       "      <td>NaN</td>\n",
       "      <td>NaN</td>\n",
       "      <td>http://data.europa.eu/esco/concept-scheme/skil...</td>\n",
       "      <td>Identificar a repressão em sociedades, economi...</td>\n",
       "    </tr>\n",
       "    <tr>\n",
       "      <th>3</th>\n",
       "      <td>KnowledgeSkillCompetence</td>\n",
       "      <td>http://data.europa.eu/esco/skill/0007bdc2-dd15...</td>\n",
       "      <td>skill/competence</td>\n",
       "      <td>sector-specific</td>\n",
       "      <td>controlar a conformidade dos veículos ferroviá...</td>\n",
       "      <td>NaN</td>\n",
       "      <td>NaN</td>\n",
       "      <td>released</td>\n",
       "      <td>2016-12-20T20:02:19Z</td>\n",
       "      <td>NaN</td>\n",
       "      <td>NaN</td>\n",
       "      <td>http://data.europa.eu/esco/concept-scheme/skil...</td>\n",
       "      <td>Inspecionar o material circulante, componentes...</td>\n",
       "    </tr>\n",
       "    <tr>\n",
       "      <th>4</th>\n",
       "      <td>KnowledgeSkillCompetence</td>\n",
       "      <td>http://data.europa.eu/esco/skill/00090cc1-1f27...</td>\n",
       "      <td>skill/competence</td>\n",
       "      <td>cross-sector</td>\n",
       "      <td>identificar os serviços disponíveis</td>\n",
       "      <td>NaN</td>\n",
       "      <td>NaN</td>\n",
       "      <td>released</td>\n",
       "      <td>2016-12-20T20:15:17Z</td>\n",
       "      <td>NaN</td>\n",
       "      <td>NaN</td>\n",
       "      <td>http://data.europa.eu/esco/concept-scheme/memb...</td>\n",
       "      <td>Identificar os diferentes serviços disponíveis...</td>\n",
       "    </tr>\n",
       "  </tbody>\n",
       "</table>\n",
       "</div>"
      ],
      "text/plain": [
       "                conceptType  \\\n",
       "0  KnowledgeSkillCompetence   \n",
       "1  KnowledgeSkillCompetence   \n",
       "2  KnowledgeSkillCompetence   \n",
       "3  KnowledgeSkillCompetence   \n",
       "4  KnowledgeSkillCompetence   \n",
       "\n",
       "                                            skillUri         skillType  \\\n",
       "0  http://data.europa.eu/esco/skill/0005c151-5b5a...  skill/competence   \n",
       "1  http://data.europa.eu/esco/skill/00064735-8fad...  skill/competence   \n",
       "2  http://data.europa.eu/esco/skill/000709ed-2be5...  skill/competence   \n",
       "3  http://data.europa.eu/esco/skill/0007bdc2-dd15...  skill/competence   \n",
       "4  http://data.europa.eu/esco/skill/00090cc1-1f27...  skill/competence   \n",
       "\n",
       "            reuseLevel                                     preferredLabel  \\\n",
       "0      sector-specific                                      gerir músicos   \n",
       "1  occupation-specific           supervisionar procedimentos correcionais   \n",
       "2      sector-specific                  aplicar práticas anti-repressivas   \n",
       "3      sector-specific  controlar a conformidade dos veículos ferroviá...   \n",
       "4         cross-sector                identificar os serviços disponíveis   \n",
       "\n",
       "  altLabels hiddenLabels    status              modifiedDate  scopeNote  \\\n",
       "0       NaN          NaN  released      2016-12-20T17:43:43Z        NaN   \n",
       "1       NaN          NaN  released  2020-06-12T06:40:42.536Z        NaN   \n",
       "2       NaN          NaN  released      2016-12-20T19:18:19Z        NaN   \n",
       "3       NaN          NaN  released      2016-12-20T20:02:19Z        NaN   \n",
       "4       NaN          NaN  released      2016-12-20T20:15:17Z        NaN   \n",
       "\n",
       "   definition                                           inScheme  \\\n",
       "0         NaN  http://data.europa.eu/esco/concept-scheme/skil...   \n",
       "1         NaN  http://data.europa.eu/esco/concept-scheme/memb...   \n",
       "2         NaN  http://data.europa.eu/esco/concept-scheme/skil...   \n",
       "3         NaN  http://data.europa.eu/esco/concept-scheme/skil...   \n",
       "4         NaN  http://data.europa.eu/esco/concept-scheme/memb...   \n",
       "\n",
       "                                         description  \n",
       "0  Atribuir e gerir as tarefas do pessoal em área...  \n",
       "1  Supervisionar as operações de uma instalação c...  \n",
       "2  Identificar a repressão em sociedades, economi...  \n",
       "3  Inspecionar o material circulante, componentes...  \n",
       "4  Identificar os diferentes serviços disponíveis...  "
      ]
     },
     "execution_count": 5,
     "metadata": {},
     "output_type": "execute_result"
    }
   ],
   "source": [
    "skills.info()\n",
    "skills.head()"
   ]
  },
  {
   "cell_type": "code",
   "execution_count": 6,
   "metadata": {},
   "outputs": [
    {
     "name": "stdout",
     "output_type": "stream",
     "text": [
      "<class 'pandas.core.frame.DataFrame'>\n",
      "RangeIndex: 2942 entries, 0 to 2941\n",
      "Data columns (total 10 columns):\n",
      " #   Column          Non-Null Count  Dtype \n",
      "---  ------          --------------  ----- \n",
      " 0   conceptType     2942 non-null   object\n",
      " 1   occupationUri   2942 non-null   object\n",
      " 2   iscoGroup       2942 non-null   int64 \n",
      " 3   preferredLabel  2942 non-null   object\n",
      " 4   altLabels       2521 non-null   object\n",
      " 5   hiddenLabels    40 non-null     object\n",
      " 6   status          2942 non-null   object\n",
      " 7   modifiedDate    2942 non-null   object\n",
      " 8   description     2942 non-null   object\n",
      " 9   code            2942 non-null   object\n",
      "dtypes: int64(1), object(9)\n",
      "memory usage: 230.0+ KB\n"
     ]
    },
    {
     "data": {
      "text/html": [
       "<div>\n",
       "<style scoped>\n",
       "    .dataframe tbody tr th:only-of-type {\n",
       "        vertical-align: middle;\n",
       "    }\n",
       "\n",
       "    .dataframe tbody tr th {\n",
       "        vertical-align: top;\n",
       "    }\n",
       "\n",
       "    .dataframe thead th {\n",
       "        text-align: right;\n",
       "    }\n",
       "</style>\n",
       "<table border=\"1\" class=\"dataframe\">\n",
       "  <thead>\n",
       "    <tr style=\"text-align: right;\">\n",
       "      <th></th>\n",
       "      <th>conceptType</th>\n",
       "      <th>occupationUri</th>\n",
       "      <th>iscoGroup</th>\n",
       "      <th>preferredLabel</th>\n",
       "      <th>altLabels</th>\n",
       "      <th>hiddenLabels</th>\n",
       "      <th>status</th>\n",
       "      <th>modifiedDate</th>\n",
       "      <th>description</th>\n",
       "      <th>code</th>\n",
       "    </tr>\n",
       "  </thead>\n",
       "  <tbody>\n",
       "    <tr>\n",
       "      <th>0</th>\n",
       "      <td>Occupation</td>\n",
       "      <td>http://data.europa.eu/esco/occupation/00030d09...</td>\n",
       "      <td>2166</td>\n",
       "      <td>Diretor técnico/Diretora técnica</td>\n",
       "      <td>Diretora técnica\\nDiretor técnico</td>\n",
       "      <td>Directora técnica\\nDirector técnico</td>\n",
       "      <td>released</td>\n",
       "      <td>2016-07-05T13:58:41Z</td>\n",
       "      <td>Os diretores técnicos realizam as visões artís...</td>\n",
       "      <td>2166.4.7</td>\n",
       "    </tr>\n",
       "    <tr>\n",
       "      <th>1</th>\n",
       "      <td>Occupation</td>\n",
       "      <td>http://data.europa.eu/esco/occupation/000e93a3...</td>\n",
       "      <td>8121</td>\n",
       "      <td>Operador de máquinas de trefilagem/Operadora d...</td>\n",
       "      <td>Operador de máquinas de trefilagem\\nOperadora ...</td>\n",
       "      <td>NaN</td>\n",
       "      <td>released</td>\n",
       "      <td>2016-07-05T17:09:43Z</td>\n",
       "      <td>Os operadores de máquinas de trefilagem instal...</td>\n",
       "      <td>8121.4</td>\n",
       "    </tr>\n",
       "    <tr>\n",
       "      <th>2</th>\n",
       "      <td>Occupation</td>\n",
       "      <td>http://data.europa.eu/esco/occupation/0019b951...</td>\n",
       "      <td>7543</td>\n",
       "      <td>Inspetor de instrumentos de precisão/Inspetora...</td>\n",
       "      <td>Inspetora de instrumentos de precisão\\nInspeto...</td>\n",
       "      <td>NaN</td>\n",
       "      <td>released</td>\n",
       "      <td>2016-07-06T09:21:20Z</td>\n",
       "      <td>Os inspetores dos instrumentos de precisão ass...</td>\n",
       "      <td>7543.10.3</td>\n",
       "    </tr>\n",
       "    <tr>\n",
       "      <th>3</th>\n",
       "      <td>Occupation</td>\n",
       "      <td>http://data.europa.eu/esco/occupation/0022f466...</td>\n",
       "      <td>3155</td>\n",
       "      <td>Técnico de segurança do tráfego aéreo/Técnica ...</td>\n",
       "      <td>Técnica de segurança do tráfego aéreo\\nTécnico...</td>\n",
       "      <td>NaN</td>\n",
       "      <td>released</td>\n",
       "      <td>2017-01-17T11:40:37Z</td>\n",
       "      <td>Os técnicos de segurança do tráfego aéreo pres...</td>\n",
       "      <td>3155.1</td>\n",
       "    </tr>\n",
       "    <tr>\n",
       "      <th>4</th>\n",
       "      <td>Occupation</td>\n",
       "      <td>http://data.europa.eu/esco/occupation/002da35b...</td>\n",
       "      <td>2431</td>\n",
       "      <td>Gestor de receitas hoteleiras/Gestora de recei...</td>\n",
       "      <td>Gestora de receitas\\nGestor de receitas hotele...</td>\n",
       "      <td>NaN</td>\n",
       "      <td>released</td>\n",
       "      <td>2017-01-17T13:33:42Z</td>\n",
       "      <td>Os gestores de receitas hoteleiras maximizam a...</td>\n",
       "      <td>2431.9</td>\n",
       "    </tr>\n",
       "  </tbody>\n",
       "</table>\n",
       "</div>"
      ],
      "text/plain": [
       "  conceptType                                      occupationUri  iscoGroup  \\\n",
       "0  Occupation  http://data.europa.eu/esco/occupation/00030d09...       2166   \n",
       "1  Occupation  http://data.europa.eu/esco/occupation/000e93a3...       8121   \n",
       "2  Occupation  http://data.europa.eu/esco/occupation/0019b951...       7543   \n",
       "3  Occupation  http://data.europa.eu/esco/occupation/0022f466...       3155   \n",
       "4  Occupation  http://data.europa.eu/esco/occupation/002da35b...       2431   \n",
       "\n",
       "                                      preferredLabel  \\\n",
       "0                   Diretor técnico/Diretora técnica   \n",
       "1  Operador de máquinas de trefilagem/Operadora d...   \n",
       "2  Inspetor de instrumentos de precisão/Inspetora...   \n",
       "3  Técnico de segurança do tráfego aéreo/Técnica ...   \n",
       "4  Gestor de receitas hoteleiras/Gestora de recei...   \n",
       "\n",
       "                                           altLabels  \\\n",
       "0                  Diretora técnica\\nDiretor técnico   \n",
       "1  Operador de máquinas de trefilagem\\nOperadora ...   \n",
       "2  Inspetora de instrumentos de precisão\\nInspeto...   \n",
       "3  Técnica de segurança do tráfego aéreo\\nTécnico...   \n",
       "4  Gestora de receitas\\nGestor de receitas hotele...   \n",
       "\n",
       "                          hiddenLabels    status          modifiedDate  \\\n",
       "0  Directora técnica\\nDirector técnico  released  2016-07-05T13:58:41Z   \n",
       "1                                  NaN  released  2016-07-05T17:09:43Z   \n",
       "2                                  NaN  released  2016-07-06T09:21:20Z   \n",
       "3                                  NaN  released  2017-01-17T11:40:37Z   \n",
       "4                                  NaN  released  2017-01-17T13:33:42Z   \n",
       "\n",
       "                                         description       code  \n",
       "0  Os diretores técnicos realizam as visões artís...   2166.4.7  \n",
       "1  Os operadores de máquinas de trefilagem instal...     8121.4  \n",
       "2  Os inspetores dos instrumentos de precisão ass...  7543.10.3  \n",
       "3  Os técnicos de segurança do tráfego aéreo pres...     3155.1  \n",
       "4  Os gestores de receitas hoteleiras maximizam a...     2431.9  "
      ]
     },
     "execution_count": 6,
     "metadata": {},
     "output_type": "execute_result"
    }
   ],
   "source": [
    "occupations.info()\n",
    "occupations.head()"
   ]
  },
  {
   "cell_type": "code",
   "execution_count": 7,
   "metadata": {},
   "outputs": [
    {
     "name": "stdout",
     "output_type": "stream",
     "text": [
      "<class 'pandas.core.frame.DataFrame'>\n",
      "RangeIndex: 114393 entries, 0 to 114392\n",
      "Data columns (total 4 columns):\n",
      " #   Column         Non-Null Count   Dtype \n",
      "---  ------         --------------   ----- \n",
      " 0   occupationUri  114393 non-null  object\n",
      " 1   relationType   114393 non-null  object\n",
      " 2   skillType      114393 non-null  object\n",
      " 3   skillUri       114393 non-null  object\n",
      "dtypes: object(4)\n",
      "memory usage: 3.5+ MB\n"
     ]
    },
    {
     "data": {
      "text/html": [
       "<div>\n",
       "<style scoped>\n",
       "    .dataframe tbody tr th:only-of-type {\n",
       "        vertical-align: middle;\n",
       "    }\n",
       "\n",
       "    .dataframe tbody tr th {\n",
       "        vertical-align: top;\n",
       "    }\n",
       "\n",
       "    .dataframe thead th {\n",
       "        text-align: right;\n",
       "    }\n",
       "</style>\n",
       "<table border=\"1\" class=\"dataframe\">\n",
       "  <thead>\n",
       "    <tr style=\"text-align: right;\">\n",
       "      <th></th>\n",
       "      <th>occupationUri</th>\n",
       "      <th>relationType</th>\n",
       "      <th>skillType</th>\n",
       "      <th>skillUri</th>\n",
       "    </tr>\n",
       "  </thead>\n",
       "  <tbody>\n",
       "    <tr>\n",
       "      <th>0</th>\n",
       "      <td>http://data.europa.eu/esco/occupation/00030d09...</td>\n",
       "      <td>essential</td>\n",
       "      <td>knowledge</td>\n",
       "      <td>http://data.europa.eu/esco/skill/fed5b267-73fa...</td>\n",
       "    </tr>\n",
       "    <tr>\n",
       "      <th>1</th>\n",
       "      <td>http://data.europa.eu/esco/occupation/00030d09...</td>\n",
       "      <td>essential</td>\n",
       "      <td>skill/competence</td>\n",
       "      <td>http://data.europa.eu/esco/skill/05bc7677-5a64...</td>\n",
       "    </tr>\n",
       "    <tr>\n",
       "      <th>2</th>\n",
       "      <td>http://data.europa.eu/esco/occupation/00030d09...</td>\n",
       "      <td>essential</td>\n",
       "      <td>skill/competence</td>\n",
       "      <td>http://data.europa.eu/esco/skill/271a36a0-bc7a...</td>\n",
       "    </tr>\n",
       "    <tr>\n",
       "      <th>3</th>\n",
       "      <td>http://data.europa.eu/esco/occupation/00030d09...</td>\n",
       "      <td>essential</td>\n",
       "      <td>skill/competence</td>\n",
       "      <td>http://data.europa.eu/esco/skill/47ed1d37-971b...</td>\n",
       "    </tr>\n",
       "    <tr>\n",
       "      <th>4</th>\n",
       "      <td>http://data.europa.eu/esco/occupation/00030d09...</td>\n",
       "      <td>essential</td>\n",
       "      <td>skill/competence</td>\n",
       "      <td>http://data.europa.eu/esco/skill/591dd514-735b...</td>\n",
       "    </tr>\n",
       "  </tbody>\n",
       "</table>\n",
       "</div>"
      ],
      "text/plain": [
       "                                       occupationUri relationType  \\\n",
       "0  http://data.europa.eu/esco/occupation/00030d09...    essential   \n",
       "1  http://data.europa.eu/esco/occupation/00030d09...    essential   \n",
       "2  http://data.europa.eu/esco/occupation/00030d09...    essential   \n",
       "3  http://data.europa.eu/esco/occupation/00030d09...    essential   \n",
       "4  http://data.europa.eu/esco/occupation/00030d09...    essential   \n",
       "\n",
       "          skillType                                           skillUri  \n",
       "0         knowledge  http://data.europa.eu/esco/skill/fed5b267-73fa...  \n",
       "1  skill/competence  http://data.europa.eu/esco/skill/05bc7677-5a64...  \n",
       "2  skill/competence  http://data.europa.eu/esco/skill/271a36a0-bc7a...  \n",
       "3  skill/competence  http://data.europa.eu/esco/skill/47ed1d37-971b...  \n",
       "4  skill/competence  http://data.europa.eu/esco/skill/591dd514-735b...  "
      ]
     },
     "execution_count": 7,
     "metadata": {},
     "output_type": "execute_result"
    }
   ],
   "source": [
    "occ_skills_relation.info()\n",
    "occ_skills_relation.head()"
   ]
  },
  {
   "cell_type": "code",
   "execution_count": 8,
   "metadata": {},
   "outputs": [],
   "source": [
    "merged_df = pd.merge(skills, occ_skills_relation, on=['skillUri'])\n",
    "assert len(occ_skills_relation) == len(merged_df)\n",
    "esco_relation = pd.merge(occupations, merged_df, on=['occupationUri'])\n",
    "assert len(merged_df) == len(esco_relation)"
   ]
  },
  {
   "cell_type": "code",
   "execution_count": 9,
   "metadata": {},
   "outputs": [],
   "source": [
    "merged_df = pd.merge(skills, occ_skills_relation, on=['skillUri'])\n",
    "assert len(occ_skills_relation) == len(merged_df)\n",
    "esco_relation = pd.merge(occupations, merged_df, on=['occupationUri'])\n",
    "assert len(merged_df) == len(esco_relation)"
   ]
  },
  {
   "cell_type": "code",
   "execution_count": 10,
   "metadata": {},
   "outputs": [],
   "source": [
    "esco_relation.to_csv('esco_occupation_skills_relation_pt.csv')"
   ]
  },
  {
   "cell_type": "code",
   "execution_count": 11,
   "metadata": {},
   "outputs": [],
   "source": [
    "esco_relation = pd.read_csv('esco_occupation_skills_relation_pt.csv')\n",
    "esco_relation.drop(columns='Unnamed: 0', axis=1, inplace=True)"
   ]
  },
  {
   "cell_type": "markdown",
   "metadata": {},
   "source": [
    "## Creating the ESCO occupation/skills relation dataframe (ENG)"
   ]
  },
  {
   "cell_type": "code",
   "execution_count": 12,
   "metadata": {},
   "outputs": [
    {
     "name": "stderr",
     "output_type": "stream",
     "text": [
      "c:\\Users\\gilnr\\OneDrive - NOVASBE\\Work Project\\venv\\lib\\site-packages\\IPython\\core\\interactiveshell.py:3444: DtypeWarning: Columns (11) have mixed types.Specify dtype option on import or set low_memory=False.\n",
      "  exec(code_obj, self.user_global_ns, self.user_ns)\n"
     ]
    }
   ],
   "source": [
    "skills_en = pd.read_csv(\"v1.0.8_eng/skills_en.csv\")\n",
    "occupations_en = pd.read_csv(\"v1.0.8_eng/occupations_en.csv\")\n",
    "occ_skills_relation = pd.read_csv(\"v1.0.8/occupationSkillRelations.csv\")\n",
    "\n",
    "skills_en.rename(columns={'conceptUri': 'skillUri'}, inplace=True)\n",
    "occupations_en.rename(columns={'conceptUri': 'occupationUri'}, inplace=True)\n",
    "\n",
    "merged_df = pd.merge(skills_en, occ_skills_relation, on=['skillUri'])\n",
    "assert len(occ_skills_relation) == len(merged_df)\n",
    "esco_relation = pd.merge(occupations_en, merged_df, on=['occupationUri'])\n",
    "assert len(merged_df) == len(esco_relation)\n",
    "\n",
    "merged_df = pd.merge(skills_en, occ_skills_relation, on=['skillUri'])\n",
    "assert len(occ_skills_relation) == len(merged_df)\n",
    "esco_relation_en = pd.merge(occupations_en, merged_df, on=['occupationUri'])\n",
    "assert len(merged_df) == len(esco_relation_en)\n",
    "\n",
    "esco_relation_en.to_csv('esco_occupation_skills_relation_en.csv')\n",
    "\n",
    "esco_relation_en = pd.read_csv('esco_occupation_skills_relation_en.csv')\n",
    "esco_relation_en.drop(columns='Unnamed: 0', axis=1, inplace=True)"
   ]
  },
  {
   "cell_type": "code",
   "execution_count": 13,
   "metadata": {},
   "outputs": [],
   "source": [
    "occupations_en = pd.read_csv(\"v1.0.8_eng/occupations_en.csv\")\n",
    "occupations = pd.read_csv(\"v1.0.8/occupations_pt.csv\")\n",
    "skills = pd.read_csv(\"v1.0.8/skills_pt.csv\")\n",
    "occ_skills_relation = pd.read_csv(\"v1.0.8/occupationSkillRelations.csv\")"
   ]
  },
  {
   "cell_type": "code",
   "execution_count": 14,
   "metadata": {},
   "outputs": [
    {
     "data": {
      "text/plain": [
       "Index(['conceptType', 'conceptUri', 'iscoGroup', 'preferredLabel', 'altLabels',\n",
       "       'hiddenLabels', 'status', 'modifiedDate', 'description', 'code'],\n",
       "      dtype='object')"
      ]
     },
     "execution_count": 14,
     "metadata": {},
     "output_type": "execute_result"
    }
   ],
   "source": [
    "occupations.columns"
   ]
  },
  {
   "cell_type": "markdown",
   "metadata": {},
   "source": [
    "# Merge occupations (portuguese, english) with skills"
   ]
  },
  {
   "cell_type": "code",
   "execution_count": 15,
   "metadata": {},
   "outputs": [],
   "source": [
    "occupations_en = pd.read_csv(\"v1.0.8_eng/occupations_en.csv\")\n",
    "occupations = pd.read_csv(\"v1.0.8/occupations_pt.csv\")\n",
    "skills = pd.read_csv(\"v1.0.8/skills_pt.csv\")\n",
    "occ_skills_relation = pd.read_csv(\"v1.0.8/occupationSkillRelations.csv\")\n",
    "\n",
    "\n",
    "skills.rename(columns={'conceptUri': 'skillUri'}, inplace=True)\n",
    "occupations.rename(columns={'conceptUri': 'occupationUri'}, inplace=True)\n",
    "occupations_en.rename(columns={'conceptUri': 'occupationUri'}, inplace=True)\n",
    "\n",
    "merged_occupations = pd.merge(occupations, occupations_en[['preferredLabel', 'altLabels','occupationUri']], on=['occupationUri'])\n",
    "assert len(occupations) == len(occupations_en) == len(merged_occupations)\n",
    "\n",
    "merged_df = pd.merge(skills, occ_skills_relation, on=['skillUri'])\n",
    "assert len(occ_skills_relation) == len(merged_df)\n",
    "\n",
    "esco_relation = pd.merge(merged_occupations, merged_df, on=['occupationUri'])\n",
    "assert len(merged_df) == len(esco_relation)\n",
    "\n",
    "esco_relation.to_csv('esco_occupation_skills_relation.csv')\n",
    "\n",
    "esco_relation = pd.read_csv('esco_occupation_skills_relation.csv')\n",
    "esco_relation.drop(columns='Unnamed: 0', axis=1, inplace=True)"
   ]
  },
  {
   "cell_type": "markdown",
   "metadata": {},
   "source": [
    "# Creating the ESCO Dictionary"
   ]
  },
  {
   "cell_type": "code",
   "execution_count": 16,
   "metadata": {},
   "outputs": [],
   "source": [
    "from fold_to_ascii import fold as ascii_fold\n",
    "import json\n",
    "import re\n",
    "from nltk.corpus import stopwords\n",
    "\n",
    "STOPWORDS = stopwords.words('portuguese') + stopwords.words('english')\n",
    "\n",
    "def normalizeESCOdict(occup: str) -> str:\n",
    "    if type(occup) is not str:\n",
    "        return ''\n",
    "    first_occupation = occup.split('/')[0]\n",
    "    lowercased_ascii = ascii_fold(first_occupation.lower(), 'REMOVE_ME').replace('REMOVE_ME', '').split(',')[0] # split at , and pick first component\n",
    "    only_alpha = re.sub(r'[^a-z]', ' ', lowercased_ascii)\n",
    "    no_stopwords = removeStopwords(only_alpha)\n",
    "    remove_duplicate_spaces = re.sub(r'\\s+', ' ', no_stopwords).strip()\n",
    "    return remove_duplicate_spaces\n",
    "\n",
    "def createEscoDict(merged_occupations):\n",
    "    \"\"\"Create a dictionary mapping occupations to code, iscoGroup and skills\n",
    "\n",
    "    Args:\n",
    "        occupations ([type]): Dataframe of the the occupations for a given language (pt, en, etc...)\n",
    "\n",
    "    Returns:\n",
    "        dictionary:\n",
    "    \"\"\"\n",
    "    esco_dict = {}\n",
    "    for label in merged_occupations[['preferredLabel_x','altLabels_x', 'preferredLabel_y', 'altLabels_y','occupationUri', 'iscoGroup']].itertuples():\n",
    "        esco_dict[normalizeESCOdict(label.preferredLabel_x)] = {\n",
    "            'occupationUri':label.occupationUri, 'iscoGroup':label.iscoGroup, \n",
    "            'occupation': normalizeESCOdict(label.preferredLabel_x)\n",
    "            }\n",
    "        esco_dict[normalizeESCOdict(label.altLabels_x)] = {\n",
    "            'occupationUri':label.occupationUri, 'iscoGroup':label.iscoGroup, \n",
    "            'occupation': normalizeESCOdict(label.preferredLabel_x)\n",
    "            }\n",
    "        esco_dict[normalizeESCOdict(label.preferredLabel_y)] = {\n",
    "            'occupationUri':label.occupationUri, 'iscoGroup':label.iscoGroup, \n",
    "            'occupation': normalizeESCOdict(label.preferredLabel_x)\n",
    "            }\n",
    "        esco_dict[normalizeESCOdict(label.altLabels_y)] = {\n",
    "            'occupationUri':label.occupationUri, 'iscoGroup':label.iscoGroup, \n",
    "            'occupation': normalizeESCOdict(label.preferredLabel_x)\n",
    "            }\n",
    "\n",
    "    esco_aux_dict = esco_dict.copy() \n",
    "    for key in esco_aux_dict:\n",
    "        esco_dict[key]['skills'] = esco_relation.loc[esco_relation['occupationUri']==esco_aux_dict[key]['occupationUri']]['preferredLabel'].to_list()\n",
    "        \n",
    "    return esco_dict\n",
    "    \n",
    "# with open(\"esco_dictionary_pt.json\", 'w', encoding='utf-8') as file:\n",
    "#     json.dump(createEscoDict(occupations), file)\n",
    "\n",
    "# with open(\"esco_dictionary_en.json\", 'w', encoding='utf-8') as file:\n",
    "#     json.dump(createEscoDict(occupations_en), file)\n",
    "    \n",
    "with open(\"esco_dictionary.json\", 'w', encoding='utf-8') as file:\n",
    "    json.dump(createEscoDict(merged_occupations), file)"
   ]
  },
  {
   "cell_type": "code",
   "execution_count": 17,
   "metadata": {},
   "outputs": [],
   "source": [
    "with open(\"esco_dictionary.json\", 'r', encoding='utf-8') as file:\n",
    "    esco_dict = json.load(file)"
   ]
  },
  {
   "cell_type": "code",
   "execution_count": 17,
   "metadata": {},
   "outputs": [],
   "source": [
    "# from strsimpy.jaro_winkler import JaroWinkler\n",
    "# from strsimpy.weighted_levenshtein import WeightedLevenshtein\n",
    "\n",
    "# def matchTitle(x:str) -> str:\n",
    "#     # locations_dict = locationsDictionary(pd.read_excel(\"freguesias-metadata.xlsx\"))\n",
    "#     if x in esco_dict: # exact match\n",
    "#         return esco_dict[x]['occupation']\n",
    "#     elif x in esco_dict_en:\n",
    "#         return esco_dict_en[x]['occupation']\n",
    "#     else:\n",
    "#         # jarowinkler = JaroWinkler()\n",
    "#         weightedlevenstein = WeightedLevenshtein()\n",
    "#         # job, sim = max([(esco_dict[job]['occupation'], jarowinkler.similarity(x, job)) for job in esco_dict], key=lambda x: x[1])\n",
    "#         job, sim = min([(esco_dict[job]['occupation'], weightedlevenstein.distance(x, job)) for job in esco_dict], key=lambda x: x[1])\n",
    "#         # if sim >= 0.6:\n",
    "#         #     return job, sim\n",
    "#         return job, sim\n",
    "#         # else: # no similarity match\n",
    "#         #     return f\"NOT FOUND - {x} , {job}, {sim}\""
   ]
  },
  {
   "cell_type": "code",
   "execution_count": 19,
   "metadata": {},
   "outputs": [],
   "source": [
    "FOLDER_PATH = \"/Users/gilnr/OneDrive - NOVASBE/Work Project/Code/ESCO project/\"\n",
    "\n",
    "# Load Data\n",
    "data = pd.read_json(FOLDER_PATH + 'esco_project_data.json')"
   ]
  },
  {
   "cell_type": "code",
   "execution_count": 19,
   "metadata": {},
   "outputs": [],
   "source": [
    "# from preprocessing_functions import cleanJobTitle\n",
    "\n",
    "# for i in data.job_title[:10].to_list():\n",
    "#     print(i, '-->', cleanJobTitle(i), '-->', matchTitle(cleanJobTitle(i)))\n",
    "#     # print(i)"
   ]
  },
  {
   "cell_type": "markdown",
   "metadata": {},
   "source": [
    "## Getting Exact Matches between scraped Job titles and the ESCO database"
   ]
  },
  {
   "cell_type": "code",
   "execution_count": 20,
   "metadata": {},
   "outputs": [
    {
     "name": "stdout",
     "output_type": "stream",
     "text": [
      "There are  9363  exact ESCO matches from a total of  109140 jobs. This is approximatly 8.58 % of jobs\n"
     ]
    }
   ],
   "source": [
    "from preprocessing_functions import cleanJobTitle\n",
    "\n",
    "def exactMatchTitle(x:str) -> str:\n",
    "    # locations_dict = locationsDictionary(pd.read_excel(\"freguesias-metadata.xlsx\"))\n",
    "    if x in esco_dict: # exact match\n",
    "        return esco_dict[x]['occupation']\n",
    "    else:\n",
    "        return \"NOT EXACT\"\n",
    "    \n",
    "test = data.copy()\n",
    "test['esco_exact_match'] = pd.DataFrame(test.job_title.apply(lambda x: exactMatchTitle(cleanJobTitle(x))))\n",
    "count = test.loc[test['esco_exact_match'] !='NOT EXACT']['esco_exact_match'].count()\n",
    "print('There are ', count, ' exact ESCO matches from a total of ', len(test), 'jobs. This is approximatly', round(count/len(test),4)*100,'% of jobs')"
   ]
  },
  {
   "cell_type": "markdown",
   "metadata": {},
   "source": [
    "## Matching Using Similarity Measures"
   ]
  },
  {
   "cell_type": "code",
   "execution_count": 29,
   "metadata": {},
   "outputs": [
    {
     "name": "stdout",
     "output_type": "stream",
     "text": [
      "administrativo --> administrativo --> ('assistente administrativo servicos juridicos', 100)\n",
      "empregado balcao mesas --> empregado balcao mesas --> ('empregado balcao posto correio', 84)\n",
      "vaga --> vaga --> NOT FOUND - vaga | ama (57)\n",
      "formador ccp modulo disponibilidade imediata rio maior --> formador ccp modulo disponibilidade imediata rio maior --> ('formador tic', 80)\n",
      "comerciais outbound telecomunicacoes lisboa --> comerciais outbound telecomunicacoes lisboa --> ('gestor telecomunicacoes', 82)\n",
      "admissao motorista internacional --> admissao motorista internacional --> NOT FOUND - admissao motorista internacional | motorista taxis (75)\n",
      "recruta formador decoracao interiores braga --> recruta formador decoracao interiores braga --> ('formador tic', 80)\n",
      "tripulante ambulancia --> tripulante ambulancia --> NOT FOUND - tripulante ambulancia | tripulante cabine (74)\n",
      "tech principal --> tech principal --> ('chef principal', 86)\n",
      "agile coach scrum master --> agile coach scrum master --> NOT FOUND - agile coach scrum master | responsavel aderecos (71)\n"
     ]
    }
   ],
   "source": [
    "from thefuzz import fuzz\n",
    "from preprocessing_functions import cleanJobTitle\n",
    "\n",
    "def matchTitle(x:str) -> str:\n",
    "    if x in esco_dict: # exact match\n",
    "        return esco_dict[x]['occupation']\n",
    "    else:\n",
    "        job, sim = max([(esco_dict[job]['occupation'], fuzz.token_set_ratio(x, job)) for job in esco_dict], key=lambda x: x[1])\n",
    "        if sim >= 80:\n",
    "            return job, sim\n",
    "        else: # no similarity match\n",
    "            return f\"NOT FOUND - {x} | {job} ({sim})\"\n",
    "        \n",
    "\n",
    "for i in data.job_title.sample(10).to_list():\n",
    "    print(i, '-->', cleanJobTitle(i), '-->', matchTitle(cleanJobTitle(i)))"
   ]
  },
  {
   "cell_type": "markdown",
   "metadata": {},
   "source": [
    "# Similarity Matching all unique values"
   ]
  },
  {
   "cell_type": "code",
   "execution_count": 21,
   "metadata": {},
   "outputs": [],
   "source": [
    "def similarityMatchTitle(x:str) -> str:\n",
    "    job, sim = max([(esco_dict[job]['occupation'], fuzz.token_set_ratio(x, job)) for job in esco_dict], key=lambda x: x[1])\n",
    "    if sim >= 90:\n",
    "        return job\n",
    "    else: # no similarity match\n",
    "        return f\"NOT FOUND - {x} | {job} ({sim})\"\n",
    "        # return \"NOT FOUND - {job}\""
   ]
  },
  {
   "cell_type": "code",
   "execution_count": 22,
   "metadata": {},
   "outputs": [],
   "source": [
    "from tqdm.notebook import tqdm"
   ]
  },
  {
   "cell_type": "code",
   "execution_count": 33,
   "metadata": {},
   "outputs": [
    {
     "data": {
      "application/vnd.jupyter.widget-view+json": {
       "model_id": "c1c10cd1b3fe4f01a1d5bd76b73aebd3",
       "version_major": 2,
       "version_minor": 0
      },
      "text/plain": [
       "  0%|          | 0/48849 [00:00<?, ?it/s]"
      ]
     },
     "metadata": {},
     "output_type": "display_data"
    }
   ],
   "source": [
    "unique_job_titles = test['job_title'].apply(lambda x: cleanJobTitle(x)).unique()\n",
    "unique_similarities_dict = {job:similarityMatchTitle(job) for job in tqdm(unique_job_titles)}"
   ]
  },
  {
   "cell_type": "code",
   "execution_count": null,
   "metadata": {},
   "outputs": [],
   "source": [
    "test['job_title'] = test['job_title'].apply(lambda x: cleanJobTitle(x))\n",
    "test['similarity_match'] =  test['job_title'].map(unique_similarities_dict)"
   ]
  },
  {
   "cell_type": "code",
   "execution_count": null,
   "metadata": {},
   "outputs": [],
   "source": []
  },
  {
   "cell_type": "code",
   "execution_count": 162,
   "metadata": {},
   "outputs": [],
   "source": [
    "test['job_title'] = test.job_title.apply(lambda x: cleanJobTitle(x))"
   ]
  },
  {
   "cell_type": "code",
   "execution_count": 165,
   "metadata": {},
   "outputs": [],
   "source": [
    "test['esco_similarity_match'] = test.job_title.apply(lambda x: similarityMatchTitle(x))"
   ]
  },
  {
   "cell_type": "code",
   "execution_count": 169,
   "metadata": {},
   "outputs": [],
   "source": [
    "# with open('full_data_with_esco_similarity_titles.json', 'w', encoding='utf-8') as file:\n",
    "#     test.to_json(file, force_ascii=False, orient='records', date_format='iso', date_unit='s')"
   ]
  },
  {
   "cell_type": "code",
   "execution_count": 174,
   "metadata": {},
   "outputs": [
    {
     "name": "stdout",
     "output_type": "stream",
     "text": [
      "There are 37211 approximate ESCO matches at 90% match, that is  33.06 % of total\n"
     ]
    }
   ],
   "source": [
    "mask = test['esco_similarity_match'].str.contains('NOT FOUND', case=True, na=False)\n",
    "print('There are', len(test)-len(test[mask]), 'approximate ESCO matches at 90% match, that is ', round((len(test)-len(test[mask]))/len(test),4)*100,'% of total')"
   ]
  },
  {
   "cell_type": "markdown",
   "metadata": {},
   "source": [
    "Titles were pre-processed according to the\n",
    "following steps: \n",
    "- (i) html tag removal, \n",
    "- (ii) html entities and symbol\n",
    "replacement, \n",
    "- (iii) tokenization, \n",
    "- (iv) lower case reduction, \n",
    "- (v) stop\n",
    "words removal (using the stop-words list provided by the NLTK\n",
    "framework [26]), \n",
    "- (vi) stemming (using the Snowball stemmer),\n",
    "- (vii) n-grams frequency computation (actually, unigram and bigram frequencies were computed, n-grams which appear less than\n",
    "4 times or that appear in more than 30% of the documents are discarded, since they are not significant for classification). Each title is\n",
    "pre-processed according to the previous steps and is transformed\n",
    "into a set of n-gram frequencies"
   ]
  },
  {
   "cell_type": "code",
   "execution_count": 180,
   "metadata": {},
   "outputs": [],
   "source": [
    "test = pd.read_json('full_data_with_esco_similarity_titles.json')    "
   ]
  },
  {
   "cell_type": "code",
   "execution_count": 191,
   "metadata": {},
   "outputs": [
    {
     "data": {
      "text/html": [
       "<div>\n",
       "<style scoped>\n",
       "    .dataframe tbody tr th:only-of-type {\n",
       "        vertical-align: middle;\n",
       "    }\n",
       "\n",
       "    .dataframe tbody tr th {\n",
       "        vertical-align: top;\n",
       "    }\n",
       "\n",
       "    .dataframe thead th {\n",
       "        text-align: right;\n",
       "    }\n",
       "</style>\n",
       "<table border=\"1\" class=\"dataframe\">\n",
       "  <thead>\n",
       "    <tr style=\"text-align: right;\">\n",
       "      <th></th>\n",
       "      <th>job_title</th>\n",
       "      <th>esco_similarity_match</th>\n",
       "    </tr>\n",
       "  </thead>\n",
       "  <tbody>\n",
       "    <tr>\n",
       "      <th>1</th>\n",
       "      <td>procuramos designer grafico a</td>\n",
       "      <td>designer grafico</td>\n",
       "    </tr>\n",
       "    <tr>\n",
       "      <th>2</th>\n",
       "      <td>designer grafico</td>\n",
       "      <td>designer grafico</td>\n",
       "    </tr>\n",
       "    <tr>\n",
       "      <th>4</th>\n",
       "      <td>area de marketing e comunicacao gestor junior</td>\n",
       "      <td>gestor de marketing</td>\n",
       "    </tr>\n",
       "    <tr>\n",
       "      <th>6</th>\n",
       "      <td>marketeer digital</td>\n",
       "      <td>marketeer</td>\n",
       "    </tr>\n",
       "    <tr>\n",
       "      <th>12</th>\n",
       "      <td>gestor marketing e e commerce</td>\n",
       "      <td>gestor de marketing</td>\n",
       "    </tr>\n",
       "    <tr>\n",
       "      <th>...</th>\n",
       "      <td>...</td>\n",
       "      <td>...</td>\n",
       "    </tr>\n",
       "    <tr>\n",
       "      <th>112540</th>\n",
       "      <td>tecnico eletromecanico</td>\n",
       "      <td>eletromecanico</td>\n",
       "    </tr>\n",
       "    <tr>\n",
       "      <th>112541</th>\n",
       "      <td>assistente dentaria</td>\n",
       "      <td>assistente dentario</td>\n",
       "    </tr>\n",
       "    <tr>\n",
       "      <th>112543</th>\n",
       "      <td>operador de armazem</td>\n",
       "      <td>operador de armazem</td>\n",
       "    </tr>\n",
       "    <tr>\n",
       "      <th>112549</th>\n",
       "      <td>bagageiro</td>\n",
       "      <td>bagageiro de aeroporto</td>\n",
       "    </tr>\n",
       "    <tr>\n",
       "      <th>112554</th>\n",
       "      <td>gerente de loja burger king porto alto</td>\n",
       "      <td>gerente de loja</td>\n",
       "    </tr>\n",
       "  </tbody>\n",
       "</table>\n",
       "<p>37211 rows × 2 columns</p>\n",
       "</div>"
      ],
      "text/plain": [
       "                                            job_title   esco_similarity_match\n",
       "1                       procuramos designer grafico a        designer grafico\n",
       "2                                    designer grafico        designer grafico\n",
       "4       area de marketing e comunicacao gestor junior     gestor de marketing\n",
       "6                                   marketeer digital               marketeer\n",
       "12                      gestor marketing e e commerce     gestor de marketing\n",
       "...                                               ...                     ...\n",
       "112540                         tecnico eletromecanico          eletromecanico\n",
       "112541                            assistente dentaria     assistente dentario\n",
       "112543                            operador de armazem     operador de armazem\n",
       "112549                                      bagageiro  bagageiro de aeroporto\n",
       "112554         gerente de loja burger king porto alto         gerente de loja\n",
       "\n",
       "[37211 rows x 2 columns]"
      ]
     },
     "execution_count": 191,
     "metadata": {},
     "output_type": "execute_result"
    }
   ],
   "source": [
    "mask = test['esco_similarity_match'].str.contains('NOT FOUND', case=False, na=False)\n",
    "test[~mask][['job_title','esco_similarity_match']]"
   ]
  }
 ],
 "metadata": {
  "interpreter": {
   "hash": "ded15a6c1822a01916f865a323d57614216811bc18133d4445c41ef3cbd16cb9"
  },
  "kernelspec": {
   "display_name": "Python 3.9.1 64-bit ('venv': venv)",
   "name": "python3"
  },
  "language_info": {
   "codemirror_mode": {
    "name": "ipython",
    "version": 3
   },
   "file_extension": ".py",
   "mimetype": "text/x-python",
   "name": "python",
   "nbconvert_exporter": "python",
   "pygments_lexer": "ipython3",
   "version": "3.9.1"
  },
  "orig_nbformat": 4
 },
 "nbformat": 4,
 "nbformat_minor": 2
}
