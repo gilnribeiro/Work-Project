{
 "cells": [
  {
   "cell_type": "code",
   "execution_count": 60,
   "source": [
    "from config import API_KEY\r\n",
    "import requests\r\n",
    "import os\r\n",
    "import json\r\n",
    "import pandas as pd\r\n",
    "from util import save_data_to_json\r\n",
    "from datetime import date\r\n",
    "from w3lib.html import remove_tags"
   ],
   "outputs": [],
   "metadata": {}
  },
  {
   "cell_type": "code",
   "execution_count": 63,
   "source": [
    "def call_api():#json query\r\n",
    "    params = {\r\n",
    "        'api_key': API_KEY,\r\n",
    "        'limit': 3890\r\n",
    "        }\r\n",
    "\r\n",
    "    response = requests.get(url=f\"https://api.itjobs.pt/job/list.json\", params=params)\r\n",
    "    print(response)\r\n",
    "\r\n",
    "    # Save results to json\r\n",
    "    results = response.json()\r\n",
    "    jobs = results['results']\r\n",
    "    return jobs"
   ],
   "outputs": [],
   "metadata": {}
  },
  {
   "cell_type": "code",
   "execution_count": 81,
   "source": [
    "def main():\r\n",
    "    jobs = call_api()\r\n",
    "\r\n",
    "    job_offers = []\r\n",
    "    for j in jobs:\r\n",
    "\r\n",
    "        title = j['title']\r\n",
    "        description = remove_tags(j['body'])\r\n",
    "        post_date = j['publishedAt']\r\n",
    "        company = j['company']['name']\r\n",
    "        try:\r\n",
    "            job_location = [i['name'] for i in j['locations']]\r\n",
    "            ', '.join(job_location)\r\n",
    "        except KeyError:\r\n",
    "            job_location = ''\r\n",
    "\r\n",
    "        try:\r\n",
    "            salary = j['wage']\r\n",
    "        except AttributeError:\r\n",
    "            salary = ''\r\n",
    "\r\n",
    "        job_offer = {\r\n",
    "            'job_title': title,\r\n",
    "            'job_description': description, \r\n",
    "            'post_date': post_date, \r\n",
    "            'scrape_date': date.today().strftime(\"%d/%m/%Y\"),\r\n",
    "            'company': company,\r\n",
    "            'job_location': job_location,\r\n",
    "            'job_category': 'IT',\r\n",
    "            'job_ref': f\"https://www.itjobs.pt/oferta/{j['id']}/{j['slug']}\",\r\n",
    "            'salary': salary,\r\n",
    "        }\r\n",
    "\r\n",
    "        job_offers.append(job_offer)\r\n",
    "\r\n",
    "    save_data_to_json(\"C:/Users/gilnr/OneDrive - NOVASBE/Work Project/Thesis - Code/Job Vacancies Data/itjobs_jobs\", jobs)"
   ],
   "outputs": [],
   "metadata": {}
  },
  {
   "cell_type": "code",
   "execution_count": 82,
   "source": [
    "main()"
   ],
   "outputs": [
    {
     "output_type": "stream",
     "name": "stdout",
     "text": [
      "<Response [200]>\n"
     ]
    }
   ],
   "metadata": {}
  }
 ],
 "metadata": {
  "orig_nbformat": 4,
  "language_info": {
   "name": "python",
   "version": "3.8.8",
   "mimetype": "text/x-python",
   "codemirror_mode": {
    "name": "ipython",
    "version": 3
   },
   "pygments_lexer": "ipython3",
   "nbconvert_exporter": "python",
   "file_extension": ".py"
  },
  "kernelspec": {
   "name": "python3",
   "display_name": "Python 3.8.8 64-bit ('mlcourse': conda)"
  },
  "interpreter": {
   "hash": "e4bff5b682aa07adb254283e21d36547e3dbb28a7d578473d3b997b4eaaa90c6"
  }
 },
 "nbformat": 4,
 "nbformat_minor": 2
}