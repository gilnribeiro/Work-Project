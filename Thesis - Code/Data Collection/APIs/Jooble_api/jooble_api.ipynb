{
 "cells": [
  {
   "cell_type": "code",
   "execution_count": 1,
   "source": [
    "import config\r\n",
    "import requests\r\n",
    "import os\r\n",
    "import json\r\n",
    "import pandas as pd\r\n",
    "from util import save_data_to_json, pandas_json_to_csv"
   ],
   "outputs": [],
   "metadata": {}
  },
  {
   "cell_type": "code",
   "execution_count": 56,
   "source": [
    "#request headers\r\n",
    "headers = {\"Content-type\": \"application/json\"}\r\n",
    "#json query\r\n",
    "body = '{ \"keywords\": \"\", \"location\": \"Portugal\"}'\r\n",
    "\r\n",
    "response = requests.post(url=f\"https://pt.jooble.org/api/{config.API_KEY}\",data=body, headers=headers)\r\n",
    "print(response)\r\n",
    "\r\n",
    "# Save results to json\r\n",
    "results = response.json()\r\n",
    "jobs = results['jobs']\r\n",
    "\r\n",
    "save_data_to_json(\"jooble_jobs\", jobs)\r\n",
    "pandas_json_to_csv(\"jooble_jobs\")"
   ],
   "outputs": [
    {
     "output_type": "stream",
     "name": "stdout",
     "text": [
      "<Response [200]>\n"
     ]
    }
   ],
   "metadata": {}
  }
 ],
 "metadata": {
  "orig_nbformat": 4,
  "language_info": {
   "name": "python",
   "version": "3.8.8",
   "mimetype": "text/x-python",
   "codemirror_mode": {
    "name": "ipython",
    "version": 3
   },
   "pygments_lexer": "ipython3",
   "nbconvert_exporter": "python",
   "file_extension": ".py"
  },
  "kernelspec": {
   "name": "python3",
   "display_name": "Python 3.8.8 64-bit ('mlcourse': conda)"
  },
  "interpreter": {
   "hash": "e4bff5b682aa07adb254283e21d36547e3dbb28a7d578473d3b997b4eaaa90c6"
  }
 },
 "nbformat": 4,
 "nbformat_minor": 2
}