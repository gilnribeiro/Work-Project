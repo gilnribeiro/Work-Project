{
 "cells": [
  {
   "cell_type": "code",
   "execution_count": 1,
   "metadata": {},
   "outputs": [],
   "source": [
    "import config\n",
    "import requests\n",
    "import os\n",
    "import json\n",
    "import pandas as pd\n",
    "from util import save_data_to_json, pandas_json_to_csv"
   ]
  },
  {
   "cell_type": "code",
   "execution_count": 15,
   "metadata": {},
   "outputs": [
    {
     "name": "stdout",
     "output_type": "stream",
     "text": [
      "<Response [200]>\n"
     ]
    }
   ],
   "source": [
    "#request headers\n",
    "headers = {\"Content-type\": \"application/json\"}\n",
    "#json query\n",
    "body = '{ \"keywords\": \"\", \"location\": \"Portugal\", \"p\": 2}'\n",
    "\n",
    "# params = {'offset': 10}\n",
    "\n",
    "response = requests.post(url=f\"https://pt.jooble.org/api/{config.API_KEY}\",data=body, headers=headers)\n",
    "print(response)\n",
    "\n",
    "# Save results to json\n",
    "results = response.json()\n",
    "jobs = results['jobs']\n",
    "\n",
    "# save_data_to_json(\"jooble_jobs\", jobs)\n",
    "# pandas_json_to_csv(\"jooble_jobs\")"
   ]
  },
  {
   "cell_type": "code",
   "execution_count": 17,
   "metadata": {},
   "outputs": [
    {
     "data": {
      "text/plain": [
       "20"
      ]
     },
     "execution_count": 17,
     "metadata": {},
     "output_type": "execute_result"
    }
   ],
   "source": [
    "results\n",
    "len(jobs)"
   ]
  },
  {
   "cell_type": "code",
   "execution_count": 5,
   "metadata": {},
   "outputs": [],
   "source": [
    "import requests\n",
    "import json\n",
    "\n",
    "url = \"https://pt.jooble.org/api/serp/jobs\"\n",
    "\n",
    "payload = json.dumps({\n",
    "  \"search\": \"\",\n",
    "  \"region\": \"\",\n",
    "  \"regionId\": -1,\n",
    "  \"jobTypes\": [],\n",
    "  \"coords\": None,\n",
    "  \"page\": 1\n",
    "})\n",
    "headers = {\n",
    "  'authority': 'pt.jooble.org',\n",
    "  'sec-ch-ua': '\"Chromium\";v=\"94\", \"Google Chrome\";v=\"94\", \";Not A Brand\";v=\"99\"',\n",
    "  'content-type': 'application/json',\n",
    "  'trace-id': 'XMWmxyK3vuUtCPTASYtuGLUqtEunghJY',\n",
    "  'sec-ch-ua-mobile': '?0',\n",
    "  'user-agent': 'Mozilla/5.0 (Windows NT 10.0; Win64; x64) AppleWebKit/537.36 (KHTML, like Gecko) Chrome/94.0.4606.71 Safari/537.36',\n",
    "  'sec-ch-ua-platform': '\"Windows\"',\n",
    "  'accept': '*/*',\n",
    "  'origin': 'https://pt.jooble.org',\n",
    "  'sec-fetch-site': 'same-origin',\n",
    "  'sec-fetch-mode': 'cors',\n",
    "  'sec-fetch-dest': 'empty',\n",
    "  'referer': 'https://pt.jooble.org/SearchResult',\n",
    "  'accept-language': 'en,pt-PT;q=0.9,pt;q=0.8,en-US;q=0.7',\n",
    "  'cookie': '@key@=1; SessionUtmCookie.pt=; uuid=2150579437689913764; rk_groups=; sever=21; ULang=0; ver=desktop; ts-consent={\"date\":\"2021-09-03T16:56:28.901Z\"}; REGION_TOOLTIP_COOKIE=1; SessionUtmCookie.us=; dt_groups=; ssearchstring=; ShouldShowSubscribeTooltip=1; SessionCookie.za=4926216140959339237*-1937988599995428085*637675168568965781; SessionUtmCookie.za=; shistory=%5b%7b%22sid%22%3a-4234727969285232829%2c%22ct%22%3a%222021-09-24T12%3a10%3a21.2366942%22%2c%22qh%22%3a0%2c%22rs%22%3a%22Portugal%22%2c%22ss%22%3a%22%22%7d%5d; .AspNetCore.Session=CfDJ8PKebYMwr05KjAkAOeWcsbjX305MoSzAmNSjh+VvjcklXrXFVGuRIXnvGY8Y3iB/f5VG3V3Q31a+omBQBAToztBR5k0Kd9nBmXWXnwZQPxoxyiNtw9qeuN20cXlXgWpLxNoO4sJGOl1qyheSTx2aQTSWxw1iLWj2jBDvSUAsJSfA; SessionUtmCookie.in=; SessionCookie.in=4351240177793434058*4303635476865319689*637695049712622681; SessionCookie.us=-5018549598333985903*-8093298241897550124*637695053499834966; emailWasAskedBeforeAway=1; datadome=4nbK6w6cWUuMGs-XMj.9c.dSVg0kqL0dBSkJpBjm-cErxZWhAfSVZ7hA.mrOvZrqeJs0YNoerL83pOkP-zVce9TkZhzElmEBPrwNtAGUAE; .AspNetCore.Antiforgery.skJtRLZwyNI=CfDJ8PKebYMwr05KjAkAOeWcsbh75Qx6G1R1VI6Df8MqZ_Uy7T_Y34D9-YahDxwy3Ym5_8f73dDnkt8N5LzQyw8fnmdChlw51ZTvfBgdAYksYb7Ym-nU4Sjl-aXXZaYSYQAi3S7mky89_V0u3G7E_ub1zCE; LastVisit=10/11/2021 1:42:47 AM; AuthId=5095195385154574232; g_state={\"i_p\":1634003030697,\"i_l\":2}; SessionCookie.pt=-621295169868825567*1298965443686883331*637695134272370768; SessionCookie.pt=-621295169868825567*-1332793703656602954*637695510493787961; SessionUtmCookie.pt=; LastVisit=10/11/2021 12:06:48 PM; rk_groups=; sever=21'\n",
    "}\n",
    "\n",
    "response = requests.request(\"POST\", url, headers=headers, data=payload)\n",
    "\n",
    "# print(response.text)\n",
    "results = response.json()\n",
    "jobs = results['jobs']\n"
   ]
  },
  {
   "cell_type": "code",
   "execution_count": 6,
   "metadata": {},
   "outputs": [
    {
     "data": {
      "text/plain": [
       "{'job_title': '<span>Rececionista (f/m)</span>',\n",
       " 'job_description': 'Estamos neste momento à procura de um Rececionista e de um Night Auditor para complementar as nossas equipas de Front Office.\\r\\n Local: Lisboa\\r\\n Horário: 8 horas diárias, em horário a definir (horário Night Auditor: 23h00 às 7h30), com 2 folgas semanais.\\r\\n Oferta:\\r\\n- Contrato...',\n",
       " 'post_date': '08/10/2021',\n",
       " 'scrape_date': '12/10/2021',\n",
       " 'company': 'The Beautique Hotels',\n",
       " 'job_location': 'Lisboa',\n",
       " 'job_category': '',\n",
       " 'job_ref': 'https://pt.jooble.org/away/6667384494536855798?p=1&pos=1&ckey=NONE&sid=1955976364781129015&age=4&relb=115&brelb=115&scr=1.3999289&bscr=1.3999289&elckey=-7639463067738952869&iid=472882356615608286',\n",
       " 'salary': ''}"
      ]
     },
     "execution_count": 6,
     "metadata": {},
     "output_type": "execute_result"
    }
   ],
   "source": [
    "from datetime import date, timedelta\n",
    "import re\n",
    "job = jobs[0]\n",
    "{\n",
    "    'job_title': job['position'],\n",
    "    'job_description': job['content'], \n",
    "    'post_date': (date.today() - timedelta(days=int(re.search('\\d+', job['dateCaption'])[0]))).strftime(\"%d/%m/%Y\"), \n",
    "    'scrape_date': date.today().strftime(\"%d/%m/%Y\"),\n",
    "    'company': job['company']['name'],\n",
    "    'job_location': job['location']['name'],\n",
    "    'job_category': '',\n",
    "    'job_ref': job['url'],\n",
    "    'salary': job['salary'],\n",
    "}"
   ]
  },
  {
   "cell_type": "code",
   "execution_count": 7,
   "metadata": {},
   "outputs": [
    {
     "data": {
      "text/plain": [
       "4"
      ]
     },
     "execution_count": 7,
     "metadata": {},
     "output_type": "execute_result"
    }
   ],
   "source": [
    "import re\n",
    "int(re.search('\\d+', '4 horas atrás')[0])"
   ]
  }
 ],
 "metadata": {
  "interpreter": {
   "hash": "b41d2673e315ee189623ae472e5a2a8d80a81fbcc01dd2dad571a5f6a0f613e0"
  },
  "kernelspec": {
   "display_name": "Python 3.8.10 64-bit ('.venv': venv)",
   "name": "python3"
  },
  "language_info": {
   "codemirror_mode": {
    "name": "ipython",
    "version": 3
   },
   "file_extension": ".py",
   "mimetype": "text/x-python",
   "name": "python",
   "nbconvert_exporter": "python",
   "pygments_lexer": "ipython3",
   "version": "3.8.10"
  },
  "orig_nbformat": 4
 },
 "nbformat": 4,
 "nbformat_minor": 2
}
