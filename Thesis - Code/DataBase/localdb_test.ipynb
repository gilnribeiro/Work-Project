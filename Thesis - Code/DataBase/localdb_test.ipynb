{
 "cells": [
  {
   "cell_type": "code",
   "execution_count": 18,
   "metadata": {},
   "outputs": [],
   "source": [
    "import pandas as pd\n",
    "from database import LocalDatabase"
   ]
  },
  {
   "cell_type": "code",
   "execution_count": 19,
   "metadata": {},
   "outputs": [],
   "source": [
    "LD = LocalDatabase()"
   ]
  },
  {
   "cell_type": "code",
   "execution_count": 20,
   "metadata": {},
   "outputs": [],
   "source": [
    "LD.insert_file_db('C:/Users/gilnr/OneDrive - NOVASBE/Work Project/Thesis - Code/Job Vacancies Data/bons_empregos_jobs.json', 'jobsdb', 'Job Vacancies')"
   ]
  },
  {
   "cell_type": "code",
   "execution_count": 21,
   "metadata": {},
   "outputs": [],
   "source": [
    "items = LD.pull_data('jobsdb', 'Job Vacancies')"
   ]
  },
  {
   "cell_type": "code",
   "execution_count": 22,
   "metadata": {},
   "outputs": [],
   "source": [
    "df = pd.DataFrame(items)"
   ]
  },
  {
   "cell_type": "code",
   "execution_count": 23,
   "metadata": {},
   "outputs": [
    {
     "data": {
      "text/html": [
       "<div>\n",
       "<style scoped>\n",
       "    .dataframe tbody tr th:only-of-type {\n",
       "        vertical-align: middle;\n",
       "    }\n",
       "\n",
       "    .dataframe tbody tr th {\n",
       "        vertical-align: top;\n",
       "    }\n",
       "\n",
       "    .dataframe thead th {\n",
       "        text-align: right;\n",
       "    }\n",
       "</style>\n",
       "<table border=\"1\" class=\"dataframe\">\n",
       "  <thead>\n",
       "    <tr style=\"text-align: right;\">\n",
       "      <th></th>\n",
       "      <th>_id</th>\n",
       "      <th>job_location</th>\n",
       "      <th>job_category</th>\n",
       "      <th>job_description</th>\n",
       "      <th>job_title</th>\n",
       "      <th>post_date</th>\n",
       "      <th>scrape_date</th>\n",
       "      <th>job_href</th>\n",
       "      <th>company</th>\n",
       "    </tr>\n",
       "  </thead>\n",
       "  <tbody>\n",
       "    <tr>\n",
       "      <th>0</th>\n",
       "      <td>61637b91a4c8733017fd1879</td>\n",
       "      <td>Estrangeiro</td>\n",
       "      <td>Indústria e Produção</td>\n",
       "      <td>A Projemato, Lda., está a recrutar ELETRICISTA...</td>\n",
       "      <td>ELETRICISTAS (m/f) para a Suécia</td>\n",
       "      <td>4 Outubro, 2021</td>\n",
       "      <td>05/10/2021</td>\n",
       "      <td>https://www.bonsempregos.com/oferta-emprego/el...</td>\n",
       "      <td>NaN</td>\n",
       "    </tr>\n",
       "    <tr>\n",
       "      <th>1</th>\n",
       "      <td>61637b91a4c8733017fd187a</td>\n",
       "      <td>Estrangeiro</td>\n",
       "      <td>Indústria e Produção</td>\n",
       "      <td>A Projemato, Lda., está a recrutar ELETRICISTA...</td>\n",
       "      <td>Eletricista (M/F) para Reino Unido</td>\n",
       "      <td>4 Outubro, 2021</td>\n",
       "      <td>05/10/2021</td>\n",
       "      <td>https://www.bonsempregos.com/oferta-emprego/el...</td>\n",
       "      <td>NaN</td>\n",
       "    </tr>\n",
       "    <tr>\n",
       "      <th>2</th>\n",
       "      <td>61637b91a4c8733017fd187b</td>\n",
       "      <td>Estrangeiro</td>\n",
       "      <td>Indústria e Produção</td>\n",
       "      <td>Dellent is a Portuguese consulting, technology...</td>\n",
       "      <td>Product Designer (UX/UI Designer)</td>\n",
       "      <td>1 Outubro, 2021</td>\n",
       "      <td>05/10/2021</td>\n",
       "      <td>https://www.bonsempregos.com/oferta-emprego/pr...</td>\n",
       "      <td>Dellent</td>\n",
       "    </tr>\n",
       "    <tr>\n",
       "      <th>3</th>\n",
       "      <td>61637b91a4c8733017fd187c</td>\n",
       "      <td>Estrangeiro</td>\n",
       "      <td>Indústria e Produção</td>\n",
       "      <td>A KnowledgeWorks é uma Software House com vári...</td>\n",
       "      <td>Call Center - Telecomunicações - Lisboa</td>\n",
       "      <td>4 Outubro, 2021</td>\n",
       "      <td>05/10/2021</td>\n",
       "      <td>https://www.bonsempregos.com/oferta-emprego/ca...</td>\n",
       "      <td>NaN</td>\n",
       "    </tr>\n",
       "    <tr>\n",
       "      <th>4</th>\n",
       "      <td>61637b91a4c8733017fd187d</td>\n",
       "      <td>Estrangeiro</td>\n",
       "      <td>Indústria e Produção</td>\n",
       "      <td>Queres fazer parte de uma empresa de referênci...</td>\n",
       "      <td>Gestor/a de Cliente</td>\n",
       "      <td>4 Outubro, 2021</td>\n",
       "      <td>05/10/2021</td>\n",
       "      <td>https://www.bonsempregos.com/oferta-emprego/ge...</td>\n",
       "      <td>NaN</td>\n",
       "    </tr>\n",
       "  </tbody>\n",
       "</table>\n",
       "</div>"
      ],
      "text/plain": [
       "                        _id job_location          job_category  \\\n",
       "0  61637b91a4c8733017fd1879  Estrangeiro  Indústria e Produção   \n",
       "1  61637b91a4c8733017fd187a  Estrangeiro  Indústria e Produção   \n",
       "2  61637b91a4c8733017fd187b  Estrangeiro  Indústria e Produção   \n",
       "3  61637b91a4c8733017fd187c  Estrangeiro  Indústria e Produção   \n",
       "4  61637b91a4c8733017fd187d  Estrangeiro  Indústria e Produção   \n",
       "\n",
       "                                     job_description  \\\n",
       "0  A Projemato, Lda., está a recrutar ELETRICISTA...   \n",
       "1  A Projemato, Lda., está a recrutar ELETRICISTA...   \n",
       "2  Dellent is a Portuguese consulting, technology...   \n",
       "3  A KnowledgeWorks é uma Software House com vári...   \n",
       "4  Queres fazer parte de uma empresa de referênci...   \n",
       "\n",
       "                                 job_title        post_date scrape_date  \\\n",
       "0         ELETRICISTAS (m/f) para a Suécia  4 Outubro, 2021  05/10/2021   \n",
       "1       Eletricista (M/F) para Reino Unido  4 Outubro, 2021  05/10/2021   \n",
       "2        Product Designer (UX/UI Designer)  1 Outubro, 2021  05/10/2021   \n",
       "3  Call Center - Telecomunicações - Lisboa  4 Outubro, 2021  05/10/2021   \n",
       "4                      Gestor/a de Cliente  4 Outubro, 2021  05/10/2021   \n",
       "\n",
       "                                            job_href  company  \n",
       "0  https://www.bonsempregos.com/oferta-emprego/el...      NaN  \n",
       "1  https://www.bonsempregos.com/oferta-emprego/el...      NaN  \n",
       "2  https://www.bonsempregos.com/oferta-emprego/pr...  Dellent  \n",
       "3  https://www.bonsempregos.com/oferta-emprego/ca...      NaN  \n",
       "4  https://www.bonsempregos.com/oferta-emprego/ge...      NaN  "
      ]
     },
     "execution_count": 23,
     "metadata": {},
     "output_type": "execute_result"
    }
   ],
   "source": [
    "df.head()"
   ]
  },
  {
   "cell_type": "code",
   "execution_count": 31,
   "metadata": {},
   "outputs": [
    {
     "data": {
      "text/plain": [
       "job_location\n",
       "Lisboa         2492\n",
       "Braga           736\n",
       "Porto           674\n",
       "Estrangeiro     434\n",
       "Aveiro          358\n",
       "Faro            180\n",
       "Leiria          118\n",
       "Setúbal          80\n",
       "Madeira          40\n",
       "Bragança         20\n",
       "Santarém         20\n",
       "Name: _id, dtype: int64"
      ]
     },
     "execution_count": 31,
     "metadata": {},
     "output_type": "execute_result"
    }
   ],
   "source": [
    "df.groupby('job_location')['_id'].count().sort_values(ascending=False)"
   ]
  }
 ],
 "metadata": {
  "interpreter": {
   "hash": "bba407521fb45c5dd5a2b5ae16c1e8a65c7c02f8cd42de997334a0fa9503eae1"
  },
  "kernelspec": {
   "display_name": "Python 3.8.5 64-bit ('mongo_env': conda)",
   "name": "python3"
  },
  "language_info": {
   "codemirror_mode": {
    "name": "ipython",
    "version": 3
   },
   "file_extension": ".py",
   "mimetype": "text/x-python",
   "name": "python",
   "nbconvert_exporter": "python",
   "pygments_lexer": "ipython3",
   "version": "3.8.5"
  },
  "orig_nbformat": 4
 },
 "nbformat": 4,
 "nbformat_minor": 2
}
